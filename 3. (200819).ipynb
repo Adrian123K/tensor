{
 "cells": [
  {
   "cell_type": "markdown",
   "metadata": {},
   "source": [
    "## <b>■ 텐서 플로우를 활용한 신경망 구성 복습</b>\n",
    "    1. 텐서플로우 1.x 버전 기본문법\n",
    "            그래프 생성 영역\n",
    "            --------------\n",
    "            그래프 실행 영역\n",
    "            \n",
    "    2. 텐서 플로우로 이용한 단층 신경망\n",
    "    3. 텐서 플로우를 이용한 다층 신경망\n",
    "    4. 텐서 플로우를 이용해 CNN을 이용한 신경망\n",
    "        MNIST 데이터는 load_mnist 함수만을 이용해서 쉽게 데이터를 로드할 수 있게 구성했는데 \n",
    "        현업에서 신경망을 구현할 때는 load_mnist와 같은 함수를 직접 생성해야하므로\n",
    "        신경망으로 데이터를 로드하는 4개 함수를 생성\n",
    "            1. image_load\n",
    "            2. label_load\n",
    "            3. next_batch\n",
    "            4. shuffle_batch\n",
    "            \n",
    "### <b>■ 이파리 데이터를 로드할 수 있는 4개의 함수 생성</b>\n",
    "    \n",
    "    1. 질병 이파리 사진 확인\n",
    "        darknamer.exe 프로그램을 이용해서 사진이름을 전부 숫자로 변경\n",
    "            1 ~ 10000번으로 이름 변경\n",
    "            1-9500번까지 train폴더에 넣고\n",
    "            9500-10000번까지 test 폴더 넣고\n",
    "    \n",
    "    2. 현업에서 CNN을 활용해서 가장 많이 응용하는 부분:\n",
    "        공장에서 만든 제품에 대한 불량품 분류 --> 품질관리요원\n",
    "        \n",
    "    3. 256*256 사이즈의 이미지들을 32*32로 일괄 조정\n",
    "        D:/data/leafs/images/train\n",
    "        D:/data/leafs/images/test\n",
    "            train, test 데이터 둘다 resize            "
   ]
  },
  {
   "cell_type": "code",
   "execution_count": 1,
   "metadata": {
    "ExecuteTime": {
     "end_time": "2020-08-19T02:34:30.735884Z",
     "start_time": "2020-08-19T02:32:16.885829Z"
    }
   },
   "outputs": [],
   "source": [
    "import  cv2\n",
    "import  os \n",
    "import  numpy  as np\n",
    "\n",
    "path = \"D:/data/leafs/images/train\"\n",
    "\n",
    "file_list = os.listdir(path)\n",
    "for k in file_list:\n",
    "    img = cv2.imread(path + '/' + k)\n",
    "    width, height = img.shape[:2]\n",
    "    resize_img = cv2.resize(img, (32 , 32), interpolation=cv2.INTER_CUBIC)\n",
    "    cv2.imwrite('D:/data/leafs/images/train_resize/' + k, resize_img)"
   ]
  },
  {
   "cell_type": "code",
   "execution_count": 2,
   "metadata": {
    "ExecuteTime": {
     "end_time": "2020-08-19T02:34:38.552866Z",
     "start_time": "2020-08-19T02:34:30.737882Z"
    }
   },
   "outputs": [],
   "source": [
    "import  cv2\n",
    "import  os \n",
    "import  numpy  as np\n",
    "\n",
    "path = \"D:/data/leafs/images/test\"\n",
    "\n",
    "file_list = os.listdir(path)\n",
    "for k in file_list:\n",
    "    img = cv2.imread(path + '/' + k)\n",
    "    width, height = img.shape[:2]\n",
    "    resize_img = cv2.resize(img, (32 , 32), interpolation=cv2.INTER_CUBIC)\n",
    "    cv2.imwrite('D:/data/leafs/images/test_resize/' + k, resize_img)"
   ]
  },
  {
   "cell_type": "markdown",
   "metadata": {},
   "source": [
    "    건강한 이파리 : train 1 ~ 9500        질병 이파리 : train 9501 ~ 19000\n",
    "                    test 1 ~ 500                       test  501 ~ 1000\n",
    "\n",
    "    4. 훈련 데이터의 라벨과 테스트 데이터의 라벨을 csv로 생성하시오    "
   ]
  },
  {
   "cell_type": "code",
   "execution_count": 3,
   "metadata": {
    "ExecuteTime": {
     "end_time": "2020-08-19T02:34:38.576849Z",
     "start_time": "2020-08-19T02:34:38.554861Z"
    }
   },
   "outputs": [],
   "source": [
    "path = 'd:/data/leafs/images/train_label.csv'\n",
    "file = open(path, 'w')\n",
    "\n",
    "for _ in range(0, 9500):\n",
    "    file.write(str(1) + '\\n')\n",
    "    \n",
    "for _ in range(0, 9500):\n",
    "    file.write(str(0) + '\\n')\n",
    "file.close()"
   ]
  },
  {
   "cell_type": "code",
   "execution_count": 4,
   "metadata": {
    "ExecuteTime": {
     "end_time": "2020-08-19T02:34:38.626828Z",
     "start_time": "2020-08-19T02:34:38.578846Z"
    }
   },
   "outputs": [],
   "source": [
    "path = 'd:/data/leafs/images/test_label.csv'\n",
    "file = open(path, 'w')\n",
    "\n",
    "for _ in range(0, 500):\n",
    "    file.write(str(1) + '\\n')\n",
    "    \n",
    "for _ in range(0, 500):\n",
    "    file.write(str(0) + '\\n')\n",
    "file.close()"
   ]
  },
  {
   "cell_type": "markdown",
   "metadata": {},
   "source": [
    "    5. cifar10 데이터를 신경망에 로드하기 위해서 만든 4가지 함수가 있는 loader2.py의 내용을 복사해서 \n",
    "    loader_leaf.py로 만든 후 안의 내용을 이파리 데이터를 로드할 수 있게끔 수정하시오\n",
    "        image_load\n",
    "        label_load\n",
    "        next_batch\n",
    "        shuffle_batch\n",
    "        \n",
    "    6. 이파리 데이터가 잘 load 되는지 확인하시오"
   ]
  },
  {
   "cell_type": "code",
   "execution_count": 1,
   "metadata": {
    "ExecuteTime": {
     "end_time": "2020-08-19T02:43:42.505909Z",
     "start_time": "2020-08-19T02:43:32.585016Z"
    }
   },
   "outputs": [
    {
     "name": "stdout",
     "output_type": "stream",
     "text": [
      "(19000, 32, 32, 3)\n",
      "(1000, 32, 32, 3)\n",
      "(19000, 2)\n",
      "(1000, 2)\n"
     ]
    }
   ],
   "source": [
    "import loader_leaf as ll\n",
    "train_image = 'd:/data/leafs/images/train_resize/'\n",
    "test_image = 'd:/data/leafs/images/test_resize/'\n",
    "train_label = 'd:/data/leafs/images/train_label.csv'\n",
    "test_label = 'd:/data/leafs/images/test_label.csv'\n",
    "\n",
    "print(ll.image_load(train_image).shape)\n",
    "print(ll.image_load(test_image).shape)\n",
    "print(ll.label_load(train_label).shape)\n",
    "print(ll.label_load(test_label).shape)"
   ]
  },
  {
   "cell_type": "markdown",
   "metadata": {},
   "source": [
    "### <b>■ 사진을 분류할 수 있는 신경망 구성 환경</b>\n",
    "    1. 텐서 플로우 1.x 버전으로만 수행하는 방법\n",
    "    2. 텐서 플로우 1.x 버전(1.14.0) + keras(2.3.1) 로 구현하는 방법\n",
    "        ---> 구글이 keras 인수\n",
    "    3. 텐서 플로우 2.x 버전으로 구현하는 방법\n",
    "    \n",
    "### <b>■ 이파리 데이터를 분류하는 신경망 설계도의 큰 그림</b>"
   ]
  },
  {
   "cell_type": "markdown",
   "metadata": {},
   "source": [
    "### ※ 문제142. 우리가 가지고 있는 코드를 활용해서 알"
   ]
  },
  {
   "cell_type": "code",
   "execution_count": null,
   "metadata": {},
   "outputs": [],
   "source": []
  },
  {
   "cell_type": "code",
   "execution_count": null,
   "metadata": {},
   "outputs": [],
   "source": []
  },
  {
   "cell_type": "code",
   "execution_count": null,
   "metadata": {},
   "outputs": [],
   "source": []
  },
  {
   "cell_type": "code",
   "execution_count": null,
   "metadata": {},
   "outputs": [],
   "source": []
  }
 ],
 "metadata": {
  "kernelspec": {
   "display_name": "Python 3",
   "language": "python",
   "name": "python3"
  },
  "language_info": {
   "codemirror_mode": {
    "name": "ipython",
    "version": 3
   },
   "file_extension": ".py",
   "mimetype": "text/x-python",
   "name": "python",
   "nbconvert_exporter": "python",
   "pygments_lexer": "ipython3",
   "version": "3.7.6"
  },
  "toc": {
   "base_numbering": 1,
   "nav_menu": {},
   "number_sections": true,
   "sideBar": true,
   "skip_h1_title": false,
   "title_cell": "Table of Contents",
   "title_sidebar": "Contents",
   "toc_cell": false,
   "toc_position": {},
   "toc_section_display": true,
   "toc_window_display": false
  },
  "varInspector": {
   "cols": {
    "lenName": 16,
    "lenType": 16,
    "lenVar": 40
   },
   "kernels_config": {
    "python": {
     "delete_cmd_postfix": "",
     "delete_cmd_prefix": "del ",
     "library": "var_list.py",
     "varRefreshCmd": "print(var_dic_list())"
    },
    "r": {
     "delete_cmd_postfix": ") ",
     "delete_cmd_prefix": "rm(",
     "library": "var_list.r",
     "varRefreshCmd": "cat(var_dic_list()) "
    }
   },
   "types_to_exclude": [
    "module",
    "function",
    "builtin_function_or_method",
    "instance",
    "_Feature"
   ],
   "window_display": false
  }
 },
 "nbformat": 4,
 "nbformat_minor": 4
}
