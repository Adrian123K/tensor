{
 "cells": [
  {
   "cell_type": "markdown",
   "metadata": {},
   "source": [
    "    1. 텐서 플로우 1.x : snowdeer_env\n",
    "    2. 텐서 플로우 2.x : keras_study\n",
    "\n",
    "## <b>■ 복습</b>\n",
    "    1장. Numpy\n",
    "    2장. 퍼셉트론\n",
    "    3장. 3층 신경망 구현\n",
    "    4장. 2층 신경망 구현(수치미분)\n",
    "    5장. 2층 신경망 구현(오차 역전파)\n",
    "    6장. 신경망 학습 기술들\n",
    "        - under-fitting 방지\n",
    "        - over-fitting 방지\n",
    "    7장. CNN을 이용한 3층 신경망 구현\n",
    "    ------------------------------------------2010년\n",
    "    8장. 딥러닝 역사 \n",
    "        1. 텐서 플로우\n",
    "        2. Object detection (자율 주행차, 불량품 선별, 종양 발견 등)\n",
    "        3. RNN (주가 예측, 번역 신경망, 작곡 등)\n",
    "\n",
    "### <b>■ 텐서 플로우 1.x버전의 큰 그림</b>\n",
    "    딥러닝 면접질문 : 딥러닝 프레임워크는 뭘 썼는가?\n",
    "        1. 텐서 플로우 1.x, 2.x 사용\n",
    "        2. Pytorch 사용\n",
    "        \n",
    "    다차원 데이터가 흘러가는 그래프를 구성하는 부분\n",
    "    -------------------------------------------\n",
    "    다차원 데이터가 흘러가는 그래프를 실행하는 부분"
   ]
  },
  {
   "cell_type": "markdown",
   "metadata": {},
   "source": [
    "#### 예제1. 문자열 데이터 출력"
   ]
  },
  {
   "cell_type": "code",
   "execution_count": 2,
   "metadata": {
    "ExecuteTime": {
     "end_time": "2020-08-17T01:10:07.757004Z",
     "start_time": "2020-08-17T01:10:04.865273Z"
    }
   },
   "outputs": [
    {
     "name": "stderr",
     "output_type": "stream",
     "text": [
      "C:\\Users\\knitwill\\anaconda3\\lib\\site-packages\\tensorflow\\python\\framework\\dtypes.py:526: FutureWarning: Passing (type, 1) or '1type' as a synonym of type is deprecated; in a future version of numpy, it will be understood as (type, (1,)) / '(1,)type'.\n",
      "  _np_qint8 = np.dtype([(\"qint8\", np.int8, 1)])\n",
      "C:\\Users\\knitwill\\anaconda3\\lib\\site-packages\\tensorflow\\python\\framework\\dtypes.py:527: FutureWarning: Passing (type, 1) or '1type' as a synonym of type is deprecated; in a future version of numpy, it will be understood as (type, (1,)) / '(1,)type'.\n",
      "  _np_quint8 = np.dtype([(\"quint8\", np.uint8, 1)])\n",
      "C:\\Users\\knitwill\\anaconda3\\lib\\site-packages\\tensorflow\\python\\framework\\dtypes.py:528: FutureWarning: Passing (type, 1) or '1type' as a synonym of type is deprecated; in a future version of numpy, it will be understood as (type, (1,)) / '(1,)type'.\n",
      "  _np_qint16 = np.dtype([(\"qint16\", np.int16, 1)])\n",
      "C:\\Users\\knitwill\\anaconda3\\lib\\site-packages\\tensorflow\\python\\framework\\dtypes.py:529: FutureWarning: Passing (type, 1) or '1type' as a synonym of type is deprecated; in a future version of numpy, it will be understood as (type, (1,)) / '(1,)type'.\n",
      "  _np_quint16 = np.dtype([(\"quint16\", np.uint16, 1)])\n",
      "C:\\Users\\knitwill\\anaconda3\\lib\\site-packages\\tensorflow\\python\\framework\\dtypes.py:530: FutureWarning: Passing (type, 1) or '1type' as a synonym of type is deprecated; in a future version of numpy, it will be understood as (type, (1,)) / '(1,)type'.\n",
      "  _np_qint32 = np.dtype([(\"qint32\", np.int32, 1)])\n",
      "C:\\Users\\knitwill\\anaconda3\\lib\\site-packages\\tensorflow\\python\\framework\\dtypes.py:535: FutureWarning: Passing (type, 1) or '1type' as a synonym of type is deprecated; in a future version of numpy, it will be understood as (type, (1,)) / '(1,)type'.\n",
      "  np_resource = np.dtype([(\"resource\", np.ubyte, 1)])\n"
     ]
    },
    {
     "name": "stdout",
     "output_type": "stream",
     "text": [
      "b'Hello Tensorflow'\n"
     ]
    }
   ],
   "source": [
    "import tensorflow as tf\n",
    "hello = tf.constant(\"Hello Tensorflow\")\n",
    "\n",
    "sess = tf.Session() # 그래프를 실행할 세션을 구성\n",
    "\n",
    "print(sess.run(hello))"
   ]
  },
  {
   "cell_type": "markdown",
   "metadata": {},
   "source": [
    "    파이썬 3버전은 문자열 unicode가 기본이므로\n",
    "    str을 이용해서 encoding 처리를 해주면서 binary 타입을 unicode 타입으로 반환해줘야 함"
   ]
  },
  {
   "cell_type": "code",
   "execution_count": 3,
   "metadata": {
    "ExecuteTime": {
     "end_time": "2020-08-17T01:10:08.732266Z",
     "start_time": "2020-08-17T01:10:08.727270Z"
    }
   },
   "outputs": [
    {
     "name": "stdout",
     "output_type": "stream",
     "text": [
      "Hello Tensorflow\n"
     ]
    }
   ],
   "source": [
    "print(str(sess.run(hello),encoding='utf-8'))"
   ]
  },
  {
   "cell_type": "markdown",
   "metadata": {},
   "source": [
    "#### 예제2. 숫자형 변수를 출력"
   ]
  },
  {
   "cell_type": "code",
   "execution_count": 4,
   "metadata": {
    "ExecuteTime": {
     "end_time": "2020-08-17T01:17:58.376397Z",
     "start_time": "2020-08-17T01:17:57.687754Z"
    }
   },
   "outputs": [
    {
     "name": "stdout",
     "output_type": "stream",
     "text": [
      "WARNING:tensorflow:From C:\\Users\\knitwill\\anaconda3\\lib\\site-packages\\tensorflow\\python\\framework\\op_def_library.py:263: colocate_with (from tensorflow.python.framework.ops) is deprecated and will be removed in a future version.\n",
      "Instructions for updating:\n",
      "Colocations handled automatically by placer.\n"
     ]
    }
   ],
   "source": [
    "################################################ 그래프 그리는 영역\n",
    "import tensorflow as tf\n",
    "x = tf.constant(35, name='x') # x라는 상수값을 만들고 숫자 35를 지정\n",
    "y = tf.Variable(x+5, name='y') # y라는 변수를 만들고 방정식 x+5를 정의\n",
    "model = tf.global_variables_initializer() # 변수를 생성했으면 초기화 해줘야하는데 필요한 명령어. 무조건 초기화를 해줘야 실행 가능\n",
    "\n",
    "################################################ 그래프 실행할 영역\n",
    "sess = tf.Session()\n",
    "sess.run(model)"
   ]
  },
  {
   "cell_type": "markdown",
   "metadata": {},
   "source": [
    "#### 예제3. 상수형 변수를 실행하기"
   ]
  },
  {
   "cell_type": "code",
   "execution_count": 5,
   "metadata": {
    "ExecuteTime": {
     "end_time": "2020-08-17T01:20:14.053944Z",
     "start_time": "2020-08-17T01:20:14.045949Z"
    }
   },
   "outputs": [
    {
     "name": "stdout",
     "output_type": "stream",
     "text": [
      "Tensor(\"Add_1:0\", shape=(), dtype=int32)\n"
     ]
    }
   ],
   "source": [
    "import tensorflow as tf\n",
    "a = tf.constant(10)\n",
    "b = tf.constant(32)\n",
    "c = tf.add(a,b)\n",
    "print(c)"
   ]
  },
  {
   "cell_type": "markdown",
   "metadata": {},
   "source": [
    "### ※ 문제110. 위에서 만든 텐서 그래프를 실행하시오"
   ]
  },
  {
   "cell_type": "code",
   "execution_count": 8,
   "metadata": {
    "ExecuteTime": {
     "end_time": "2020-08-17T01:22:39.474175Z",
     "start_time": "2020-08-17T01:22:39.453188Z"
    }
   },
   "outputs": [
    {
     "name": "stdout",
     "output_type": "stream",
     "text": [
      "42\n"
     ]
    }
   ],
   "source": [
    "import tensorflow as tf\n",
    "a = tf.constant(10)\n",
    "b = tf.constant(32)\n",
    "c = tf.add(a,b)\n",
    "\n",
    "sess = tf.Session()\n",
    "print(sess.run(c))\n",
    "\n",
    "sess.close() # 세션을 닫는 구문을 작성해줘야 함"
   ]
  },
  {
   "cell_type": "code",
   "execution_count": 9,
   "metadata": {
    "ExecuteTime": {
     "end_time": "2020-08-17T01:25:01.240489Z",
     "start_time": "2020-08-17T01:25:01.228495Z"
    }
   },
   "outputs": [
    {
     "name": "stdout",
     "output_type": "stream",
     "text": [
      "42\n"
     ]
    }
   ],
   "source": [
    "# 다른 방법으로 세션 종료\n",
    "import tensorflow as tf\n",
    "a = tf.constant(10)\n",
    "b = tf.constant(32)\n",
    "c = tf.add(a,b)\n",
    "\n",
    "with tf.Session() as sess:\n",
    "    print(sess.run(c))\n",
    "# 위와 같이 with절을 이용하면 close를 안해도 자동으로 닫힌다."
   ]
  },
  {
   "cell_type": "markdown",
   "metadata": {},
   "source": [
    "### ※ 문제11. 아래의 그래프를 실행하시오"
   ]
  },
  {
   "cell_type": "code",
   "execution_count": 11,
   "metadata": {
    "ExecuteTime": {
     "end_time": "2020-08-17T01:29:31.051583Z",
     "start_time": "2020-08-17T01:29:31.027597Z"
    }
   },
   "outputs": [
    {
     "name": "stdout",
     "output_type": "stream",
     "text": [
      "10780\n"
     ]
    }
   ],
   "source": [
    "import tensorflow as tf\n",
    "old_v = tf.logging.get_verbosity()\n",
    "tf.logging.set_verbosity(tf.logging.ERROR)\n",
    "\n",
    "a = tf.add(1, 2)\n",
    "b = tf.multiply(a, 3)\n",
    "c = tf.add(b, 5)\n",
    "d = tf.multiply(c, 6)\n",
    "e = tf.multiply(d, 5)\n",
    "f = tf.div(e, 6)\n",
    "g = tf.add(f, d)\n",
    "h = tf.multiply(g, f)\n",
    "\n",
    "with tf.Session() as sess:\n",
    "    print(sess.run(h))"
   ]
  },
  {
   "cell_type": "markdown",
   "metadata": {},
   "source": [
    "#### 예제4. 텐서플로우로 loop문 실행\n",
    "    1부터 5까지 숫자를 출력"
   ]
  },
  {
   "cell_type": "code",
   "execution_count": 12,
   "metadata": {
    "ExecuteTime": {
     "end_time": "2020-08-17T01:33:26.006886Z",
     "start_time": "2020-08-17T01:33:26.002887Z"
    }
   },
   "outputs": [
    {
     "name": "stdout",
     "output_type": "stream",
     "text": [
      "1\n",
      "2\n",
      "3\n",
      "4\n",
      "5\n"
     ]
    }
   ],
   "source": [
    "# 파이썬 기본 문법으로 수행\n",
    "for i in range(1,6):\n",
    "    print(i)"
   ]
  },
  {
   "cell_type": "code",
   "execution_count": 13,
   "metadata": {
    "ExecuteTime": {
     "end_time": "2020-08-17T01:38:23.132011Z",
     "start_time": "2020-08-17T01:38:22.932132Z"
    }
   },
   "outputs": [
    {
     "name": "stdout",
     "output_type": "stream",
     "text": [
      "1\n",
      "2\n",
      "3\n",
      "4\n",
      "5\n"
     ]
    }
   ],
   "source": [
    "# 텐서 플로우로 수행\n",
    "import tensorflow as tf\n",
    "x = tf.Variable(0)\n",
    "init = tf.global_variables_initializer() # 변수를 생성했으면 초기화를 해줘야 함\n",
    "\n",
    "with tf.Session() as sess :\n",
    "    sess.run(init)\n",
    "    for i in range(5):\n",
    "        x = x+1\n",
    "        print(sess.run(x))"
   ]
  },
  {
   "cell_type": "markdown",
   "metadata": {},
   "source": [
    "### ※ 문제112. 위의 코드를 이용해서 구구단 2단을 출력하시오\n",
    "    (tf.multiply를 이용)"
   ]
  },
  {
   "cell_type": "code",
   "execution_count": 21,
   "metadata": {
    "ExecuteTime": {
     "end_time": "2020-08-17T01:49:09.936348Z",
     "start_time": "2020-08-17T01:49:09.808426Z"
    }
   },
   "outputs": [
    {
     "name": "stdout",
     "output_type": "stream",
     "text": [
      "2 x 1 = 2\n",
      "2 x 2 = 4\n",
      "2 x 3 = 6\n",
      "2 x 4 = 8\n",
      "2 x 5 = 10\n",
      "2 x 6 = 12\n",
      "2 x 7 = 14\n",
      "2 x 8 = 16\n",
      "2 x 9 = 18\n"
     ]
    }
   ],
   "source": [
    "import tensorflow as tf\n",
    "with tf.Session() as sess:\n",
    "    for i in range(1,10):        \n",
    "        m = tf.multiply(2,i)\n",
    "        print(f'2 x {i} = {sess.run(m)}')"
   ]
  },
  {
   "cell_type": "markdown",
   "metadata": {},
   "source": [
    "### ※ 문제113. 구구단 2단 ~ 9단까지 출력하시오"
   ]
  },
  {
   "cell_type": "code",
   "execution_count": 24,
   "metadata": {
    "ExecuteTime": {
     "end_time": "2020-08-17T02:05:11.414329Z",
     "start_time": "2020-08-17T02:05:09.904587Z"
    },
    "scrolled": true
   },
   "outputs": [
    {
     "name": "stdout",
     "output_type": "stream",
     "text": [
      "2 x 1 = 2\n",
      "2 x 2 = 4\n",
      "2 x 3 = 6\n",
      "2 x 4 = 8\n",
      "2 x 5 = 10\n",
      "2 x 6 = 12\n",
      "2 x 7 = 14\n",
      "2 x 8 = 16\n",
      "2 x 9 = 18\n",
      "3 x 1 = 3\n",
      "3 x 2 = 6\n",
      "3 x 3 = 9\n",
      "3 x 4 = 12\n",
      "3 x 5 = 15\n",
      "3 x 6 = 18\n",
      "3 x 7 = 21\n",
      "3 x 8 = 24\n",
      "3 x 9 = 27\n",
      "4 x 1 = 4\n",
      "4 x 2 = 8\n",
      "4 x 3 = 12\n",
      "4 x 4 = 16\n",
      "4 x 5 = 20\n",
      "4 x 6 = 24\n",
      "4 x 7 = 28\n",
      "4 x 8 = 32\n",
      "4 x 9 = 36\n",
      "5 x 1 = 5\n",
      "5 x 2 = 10\n",
      "5 x 3 = 15\n",
      "5 x 4 = 20\n",
      "5 x 5 = 25\n",
      "5 x 6 = 30\n",
      "5 x 7 = 35\n",
      "5 x 8 = 40\n",
      "5 x 9 = 45\n",
      "6 x 1 = 6\n",
      "6 x 2 = 12\n",
      "6 x 3 = 18\n",
      "6 x 4 = 24\n",
      "6 x 5 = 30\n",
      "6 x 6 = 36\n",
      "6 x 7 = 42\n",
      "6 x 8 = 48\n",
      "6 x 9 = 54\n",
      "7 x 1 = 7\n",
      "7 x 2 = 14\n",
      "7 x 3 = 21\n",
      "7 x 4 = 28\n",
      "7 x 5 = 35\n",
      "7 x 6 = 42\n",
      "7 x 7 = 49\n",
      "7 x 8 = 56\n",
      "7 x 9 = 63\n",
      "8 x 1 = 8\n",
      "8 x 2 = 16\n",
      "8 x 3 = 24\n",
      "8 x 4 = 32\n",
      "8 x 5 = 40\n",
      "8 x 6 = 48\n",
      "8 x 7 = 56\n",
      "8 x 8 = 64\n",
      "8 x 9 = 72\n",
      "9 x 1 = 9\n",
      "9 x 2 = 18\n",
      "9 x 3 = 27\n",
      "9 x 4 = 36\n",
      "9 x 5 = 45\n",
      "9 x 6 = 54\n",
      "9 x 7 = 63\n",
      "9 x 8 = 72\n",
      "9 x 9 = 81\n"
     ]
    }
   ],
   "source": [
    "import tensorflow as tf\n",
    "with tf.Session() as sess:\n",
    "    for i in range(2,10):\n",
    "        for j in range(1,10):\n",
    "            print(f\"{i} x {j} = {sess.run(tf.multiply(i,j))}\")"
   ]
  },
  {
   "cell_type": "code",
   "execution_count": 25,
   "metadata": {
    "ExecuteTime": {
     "end_time": "2020-08-17T02:09:33.942466Z",
     "start_time": "2020-08-17T02:09:33.736577Z"
    },
    "scrolled": true
   },
   "outputs": [
    {
     "name": "stdout",
     "output_type": "stream",
     "text": [
      "2 x 1 = 2\n",
      "2 x 2 = 4\n",
      "2 x 3 = 6\n",
      "2 x 4 = 8\n",
      "2 x 5 = 10\n",
      "2 x 6 = 12\n",
      "2 x 7 = 14\n",
      "2 x 8 = 16\n",
      "2 x 9 = 18\n",
      "3 x 1 = 3\n",
      "3 x 2 = 6\n",
      "3 x 3 = 9\n",
      "3 x 4 = 12\n",
      "3 x 5 = 15\n",
      "3 x 6 = 18\n",
      "3 x 7 = 21\n",
      "3 x 8 = 24\n",
      "3 x 9 = 27\n",
      "4 x 1 = 4\n",
      "4 x 2 = 8\n",
      "4 x 3 = 12\n",
      "4 x 4 = 16\n",
      "4 x 5 = 20\n",
      "4 x 6 = 24\n",
      "4 x 7 = 28\n",
      "4 x 8 = 32\n",
      "4 x 9 = 36\n",
      "5 x 1 = 5\n",
      "5 x 2 = 10\n",
      "5 x 3 = 15\n",
      "5 x 4 = 20\n",
      "5 x 5 = 25\n",
      "5 x 6 = 30\n",
      "5 x 7 = 35\n",
      "5 x 8 = 40\n",
      "5 x 9 = 45\n",
      "6 x 1 = 6\n",
      "6 x 2 = 12\n",
      "6 x 3 = 18\n",
      "6 x 4 = 24\n",
      "6 x 5 = 30\n",
      "6 x 6 = 36\n",
      "6 x 7 = 42\n",
      "6 x 8 = 48\n",
      "6 x 9 = 54\n",
      "7 x 1 = 7\n",
      "7 x 2 = 14\n",
      "7 x 3 = 21\n",
      "7 x 4 = 28\n",
      "7 x 5 = 35\n",
      "7 x 6 = 42\n",
      "7 x 7 = 49\n",
      "7 x 8 = 56\n",
      "7 x 9 = 63\n",
      "8 x 1 = 8\n",
      "8 x 2 = 16\n",
      "8 x 3 = 24\n",
      "8 x 4 = 32\n",
      "8 x 5 = 40\n",
      "8 x 6 = 48\n",
      "8 x 7 = 56\n",
      "8 x 8 = 64\n",
      "8 x 9 = 72\n",
      "9 x 1 = 9\n",
      "9 x 2 = 18\n",
      "9 x 3 = 27\n",
      "9 x 4 = 36\n",
      "9 x 5 = 45\n",
      "9 x 6 = 54\n",
      "9 x 7 = 63\n",
      "9 x 8 = 72\n",
      "9 x 9 = 81\n"
     ]
    }
   ],
   "source": [
    "x = tf.Variable(0)\n",
    "y = tf.Variable(0)\n",
    "z = tf.multiply(x, y)\n",
    "\n",
    "init = tf.global_variables_initializer()\n",
    "\n",
    "with tf.Session() as sess:\n",
    "    for i in range(2,10):\n",
    "        for j in range(1,10):\n",
    "            print(i, 'x', j, '=', sess.run(z, feed_dict=({x:i, y:j})))"
   ]
  },
  {
   "cell_type": "markdown",
   "metadata": {},
   "source": [
    "    feed_dict 명령어로 데이터를 텐서 그래프에 주입\n",
    "        x 변수에는 i의 값을 대입, y 변수에는 j 값을 대입\n",
    "        z를 실행하기 위해서 x와 y에 값을 대입"
   ]
  },
  {
   "cell_type": "markdown",
   "metadata": {},
   "source": [
    "### <b>■ 신경망에서 bias를 만드는 코드를 텐서 플로우로 구현하는 방법</b>\n",
    "#### 예제1. 변수에 숫자 0과 숫자 1을 채워 넣는 배열을 생성하는 방법    "
   ]
  },
  {
   "cell_type": "code",
   "execution_count": 26,
   "metadata": {
    "ExecuteTime": {
     "end_time": "2020-08-17T02:20:38.548859Z",
     "start_time": "2020-08-17T02:20:38.402217Z"
    }
   },
   "outputs": [
    {
     "name": "stdout",
     "output_type": "stream",
     "text": [
      "numpy 구현\n",
      "[[0. 0.]\n",
      " [0. 0.]]\n",
      "[[1. 1.]\n",
      " [1. 1.]]\n",
      "\n",
      " tensorflow 구현\n",
      "[[0. 0.]\n",
      " [0. 0.]]\n",
      "[[1. 1.]\n",
      " [1. 1.]]\n"
     ]
    }
   ],
   "source": [
    "print('numpy 구현')\n",
    "import numpy as np\n",
    "a = np.zeros((2,2))\n",
    "b = np.ones((2,2))\n",
    "print(a)\n",
    "print(b)\n",
    "\n",
    "print('\\n tensorflow 구현')\n",
    "a = tf.zeros((2,2))\n",
    "b = tf.ones((2,2))\n",
    "init = tf.global_variables_initializer()\n",
    "\n",
    "with tf.Session() as sess:\n",
    "    sess.run(init)\n",
    "    print(sess.run(a))\n",
    "    print(sess.run(b))"
   ]
  },
  {
   "cell_type": "markdown",
   "metadata": {},
   "source": [
    "### <b>■ 배열의 원소중에서 최댓값 원소의 인덱스를 찾는 코드</b>"
   ]
  },
  {
   "cell_type": "code",
   "execution_count": 28,
   "metadata": {
    "ExecuteTime": {
     "end_time": "2020-08-17T02:23:59.561349Z",
     "start_time": "2020-08-17T02:23:59.425803Z"
    }
   },
   "outputs": [
    {
     "name": "stdout",
     "output_type": "stream",
     "text": [
      "파이썬의 numpy 이용방법\n",
      "2\n",
      "\n",
      " 텐서플로우 이용방법\n",
      "2\n"
     ]
    }
   ],
   "source": [
    "print('파이썬의 numpy 이용방법')\n",
    "import numpy as np\n",
    "a = np.array([0,0,1,0,0,0,0,0,0,0])\n",
    "print(np.argmax(a, axis=0))\n",
    "\n",
    "print('\\n 텐서플로우 이용방법')\n",
    "import tensorflow as tf\n",
    "a = np.array([0,0,1,0,0,0,0,0,0,0])\n",
    "b = tf.argmax(a, axis=0)\n",
    "\n",
    "init = tf.global_variables_initializer()\n",
    "with tf.Session() as sess:\n",
    "    sess.run(init)\n",
    "    print(sess.run(b))"
   ]
  },
  {
   "cell_type": "markdown",
   "metadata": {},
   "source": [
    "### ※ 문제11. 아래의 원핫 인코딩된 배열에서 최대 원소값의 인덱스를 출력하시오"
   ]
  },
  {
   "cell_type": "code",
   "execution_count": 30,
   "metadata": {
    "ExecuteTime": {
     "end_time": "2020-08-17T02:28:29.166071Z",
     "start_time": "2020-08-17T02:28:29.046057Z"
    }
   },
   "outputs": [
    {
     "name": "stdout",
     "output_type": "stream",
     "text": [
      "[2 4 6 0 8]\n"
     ]
    }
   ],
   "source": [
    "import numpy as np\n",
    "a = np.array([[0,0,1,0,0,0,0,0,0,0],\n",
    "              [0,0,0,0,1,0,0,0,0,0],\n",
    "              [0,0,0,0,0,0,1,0,0,0],\n",
    "              [1,0,0,0,0,0,0,0,0,0],\n",
    "              [0,0,0,0,0,0,0,0,1,0]])\n",
    "import tensorflow as tf\n",
    "b = tf.argmax(a, axis=1)\n",
    "\n",
    "init = tf.global_variables_initializer()\n",
    "\n",
    "with tf.Session() as sess:\n",
    "    sess.run(init)\n",
    "    print(sess.run(b))"
   ]
  },
  {
   "cell_type": "markdown",
   "metadata": {},
   "source": [
    "### <b>■ 다차원 배열에서의 행의 토탈값 구하는 방법</b>\n"
   ]
  },
  {
   "cell_type": "code",
   "execution_count": 32,
   "metadata": {
    "ExecuteTime": {
     "end_time": "2020-08-17T02:38:02.905107Z",
     "start_time": "2020-08-17T02:38:02.675187Z"
    }
   },
   "outputs": [
    {
     "name": "stdout",
     "output_type": "stream",
     "text": [
      "numpy 이용했을 때\n",
      "[[10  8 12]\n",
      " [10  8 11]\n",
      " [11  5 12]\n",
      " [13 15  6]]\n",
      "\n",
      " 텐서 플로우 이용했을 때\n",
      "[[10  8 12]\n",
      " [10  8 11]\n",
      " [11  5 12]\n",
      " [13 15  6]]\n"
     ]
    }
   ],
   "source": [
    "import numpy as np\n",
    "a = np.array([[[1, 2, 3],\n",
    "               [2, 1, 4],\n",
    "               [5, 2, 1],\n",
    "               [6, 3, 2]],\n",
    "              [[5, 1, 3],\n",
    "               [1, 3, 4],\n",
    "               [4, 2, 6],\n",
    "               [3, 9, 3]],\n",
    "              [[4, 5, 6],\n",
    "               [7, 4, 3],\n",
    "               [2, 1, 5],\n",
    "               [4, 3, 1]]])\n",
    "\n",
    "print('numpy 이용했을 때')\n",
    "print(np.sum(a, axis=0))\n",
    "\n",
    "print('\\n 텐서 플로우 이용했을 때')\n",
    "a = np.array([[[1, 2, 3],\n",
    "               [2, 1, 4],\n",
    "               [5, 2, 1],\n",
    "               [6, 3, 2]],\n",
    "              [[5, 1, 3],\n",
    "               [1, 3, 4],\n",
    "               [4, 2, 6],\n",
    "               [3, 9, 3]],\n",
    "              [[4, 5, 6],\n",
    "               [7, 4, 3],\n",
    "               [2, 1, 5],\n",
    "               [4, 3, 1]]])\n",
    "import tensorflow as tf\n",
    "d = tf.reduce_sum(a, reduction_indices=[0])\n",
    "\n",
    "init = tf.global_variables_initializer()\n",
    "\n",
    "with tf.Session() as sess:\n",
    "    sess.run(init)\n",
    "    print(sess.run(d))"
   ]
  },
  {
   "cell_type": "markdown",
   "metadata": {},
   "source": [
    "### ※ 문제115. 위에는 3차원 데이터의 축의 값을 토탈값을 구했는데 평균값을 구하는걸로 출력해보시오"
   ]
  },
  {
   "cell_type": "code",
   "execution_count": 33,
   "metadata": {
    "ExecuteTime": {
     "end_time": "2020-08-17T02:39:36.648700Z",
     "start_time": "2020-08-17T02:39:36.559754Z"
    }
   },
   "outputs": [
    {
     "name": "stdout",
     "output_type": "stream",
     "text": [
      "[[3 2 4]\n",
      " [3 2 3]\n",
      " [3 1 4]\n",
      " [4 5 2]]\n"
     ]
    }
   ],
   "source": [
    "a = np.array([[[1, 2, 3],\n",
    "               [2, 1, 4],\n",
    "               [5, 2, 1],\n",
    "               [6, 3, 2]],\n",
    "              [[5, 1, 3],\n",
    "               [1, 3, 4],\n",
    "               [4, 2, 6],\n",
    "               [3, 9, 3]],\n",
    "              [[4, 5, 6],\n",
    "               [7, 4, 3],\n",
    "               [2, 1, 5],\n",
    "               [4, 3, 1]]])\n",
    "import tensorflow as tf\n",
    "d = tf.reduce_mean(a, reduction_indices=[0])\n",
    "\n",
    "init = tf.global_variables_initializer()\n",
    "\n",
    "with tf.Session() as sess:\n",
    "    sess.run(init)\n",
    "    print(sess.run(d))"
   ]
  },
  {
   "cell_type": "markdown",
   "metadata": {},
   "source": [
    "### <b>■ 텐서 플로우로 행렬 내적하는 코드</b>"
   ]
  },
  {
   "cell_type": "code",
   "execution_count": 35,
   "metadata": {
    "ExecuteTime": {
     "end_time": "2020-08-17T02:45:38.804263Z",
     "start_time": "2020-08-17T02:45:38.641314Z"
    }
   },
   "outputs": [
    {
     "name": "stdout",
     "output_type": "stream",
     "text": [
      "numpy 형식\n",
      "[[18 18]\n",
      " [18 18]]\n",
      "\n",
      " tensorflow 형식\n",
      "[[18. 18.]\n",
      " [18. 18.]]\n"
     ]
    }
   ],
   "source": [
    "print('numpy 형식')\n",
    "a = np.array([[2,2,2],[2,2,2]])\n",
    "b = np.array([[3,3],[3,3],[3,3]])\n",
    "res = np.dot(a,b)\n",
    "print(res)\n",
    "\n",
    "print('\\n tensorflow 형식')\n",
    "x = tf.placeholder(\"float\",[2,3]) # (2,3) 행렬의 실수형 데이터를 담을 변수\n",
    "y = tf.placeholder(\"float\",[3,2]) \n",
    "rs = tf.matmul(x, y)\n",
    "\n",
    "init = tf.global_variables_initializer()\n",
    "\n",
    "with tf.Session() as sess:\n",
    "    sess.run(init)\n",
    "    print(sess.run(rs, feed_dict={x:[[2,2,2],[2,2,2]], y:[[3,3],[3,3],[3,3]]}))"
   ]
  },
  {
   "cell_type": "markdown",
   "metadata": {},
   "source": [
    "### ※ 문제116. (점심시간 문제) 아래의 행렬의 내적을 텐서플로우로 구현하시오\n",
    "$$\\begin{pmatrix} 6 & 7 \\\\ 3 & 5 \\\\ 2 & 9 \\\\ \\end{pmatrix} \\cdot \\begin{pmatrix} 3 & 8 & 1 \\\\ 4 & 5 & 2 \\\\ \\end{pmatrix}$$"
   ]
  },
  {
   "cell_type": "code",
   "execution_count": 38,
   "metadata": {
    "ExecuteTime": {
     "end_time": "2020-08-17T03:12:13.044605Z",
     "start_time": "2020-08-17T03:12:12.983643Z"
    }
   },
   "outputs": [
    {
     "name": "stdout",
     "output_type": "stream",
     "text": [
      "[[46. 83. 20.]\n",
      " [29. 49. 13.]\n",
      " [42. 61. 20.]]\n"
     ]
    }
   ],
   "source": [
    "a = np.array([[6,7],[3,5],[2,9]])\n",
    "b = np.array([[3,8,1],[4,5,2]])\n",
    "\n",
    "import tensorflow as tf\n",
    "x = tf.placeholder(\"float\",[3,2]) # (2,3) 행렬의 실수형 데이터를 담을 변수\n",
    "y = tf.placeholder(\"float\",[2,3]) \n",
    "rs = tf.matmul(x, y)\n",
    "\n",
    "init = tf.global_variables_initializer()\n",
    "\n",
    "with tf.Session() as sess:\n",
    "    sess.run(init)\n",
    "    print(sess.run(rs, feed_dict={x:[[6,7],[3,5],[2,9]], y:[[3,8,1],[4,5,2]]}))"
   ]
  },
  {
   "cell_type": "code",
   "execution_count": null,
   "metadata": {},
   "outputs": [],
   "source": []
  },
  {
   "cell_type": "code",
   "execution_count": null,
   "metadata": {},
   "outputs": [],
   "source": []
  },
  {
   "cell_type": "code",
   "execution_count": null,
   "metadata": {},
   "outputs": [],
   "source": []
  },
  {
   "cell_type": "code",
   "execution_count": null,
   "metadata": {},
   "outputs": [],
   "source": []
  },
  {
   "cell_type": "code",
   "execution_count": null,
   "metadata": {},
   "outputs": [],
   "source": []
  },
  {
   "cell_type": "code",
   "execution_count": null,
   "metadata": {},
   "outputs": [],
   "source": []
  },
  {
   "cell_type": "code",
   "execution_count": null,
   "metadata": {},
   "outputs": [],
   "source": []
  },
  {
   "cell_type": "code",
   "execution_count": null,
   "metadata": {},
   "outputs": [],
   "source": []
  }
 ],
 "metadata": {
  "kernelspec": {
   "display_name": "Python 3",
   "language": "python",
   "name": "python3"
  },
  "language_info": {
   "codemirror_mode": {
    "name": "ipython",
    "version": 3
   },
   "file_extension": ".py",
   "mimetype": "text/x-python",
   "name": "python",
   "nbconvert_exporter": "python",
   "pygments_lexer": "ipython3",
   "version": "3.7.6"
  },
  "toc": {
   "base_numbering": 1,
   "nav_menu": {},
   "number_sections": true,
   "sideBar": true,
   "skip_h1_title": false,
   "title_cell": "Table of Contents",
   "title_sidebar": "Contents",
   "toc_cell": false,
   "toc_position": {},
   "toc_section_display": true,
   "toc_window_display": false
  },
  "varInspector": {
   "cols": {
    "lenName": 16,
    "lenType": 16,
    "lenVar": 40
   },
   "kernels_config": {
    "python": {
     "delete_cmd_postfix": "",
     "delete_cmd_prefix": "del ",
     "library": "var_list.py",
     "varRefreshCmd": "print(var_dic_list())"
    },
    "r": {
     "delete_cmd_postfix": ") ",
     "delete_cmd_prefix": "rm(",
     "library": "var_list.r",
     "varRefreshCmd": "cat(var_dic_list()) "
    }
   },
   "types_to_exclude": [
    "module",
    "function",
    "builtin_function_or_method",
    "instance",
    "_Feature"
   ],
   "window_display": false
  }
 },
 "nbformat": 4,
 "nbformat_minor": 4
}
