{
 "cells": [
  {
   "cell_type": "markdown",
   "metadata": {},
   "source": [
    "## <b>■ 텐서 플로우 복습</b>\n",
    "    1. 텐서 플로우 1.x                              그래프 생성 영역\n",
    "    2. 텐서 플로우 1.x + keras 2.x                  그래프 실행 영역\n",
    "    --------------------------------------------------------------------------------------------------------------\n",
    "    3. 텐서 플로우 2.x                       즉시 실행모드(as 파이썬), 일반 파이썬 코드를 수행할 때 GPU를 사용할 수 있음 (@tf.function)\n",
    "    \n",
    "### <b>□ 분류 학습을 위해 신경망에 입력한 이미지들</b>\n",
    "        1. mnist\n",
    "        2. 이파리\n",
    "        3. cifar10\n",
    "        4. Fashion-mnist\n",
    "        5. 직접 스크롤링한 사진들 ------ 신경망 활용 홈페이지\n",
    "        \n",
    "### <b>■ mnist이미지를 tensorflow 2.x 신경망에 넣고 학습</b>\n",
    "    1. cnn을 이용하지 않은 코드\n",
    "    2. cnn을 이용한 코드\n",
    "    \n",
    "    본인이 만든 포트폴리오의 머신러닝과 딥러닝 성능을 확인하기 위해 정확도 말고 다른 척도를 뭐를 가지고 확인? (object detection)\n",
    "        1. 민감도\n",
    "        2. 특이도\n",
    "        3. 정밀도\n",
    "        4. 재현율\n",
    "        \n",
    "#### 어제 생성한 mnist 모델의 성능을 평가하시오\n",
    "    어제 마지막 문제 코드 맨 아래쪽에 아래의 코드를 추가\n",
    "    print(model.evaluate(x_test, x_val))"
   ]
  },
  {
   "cell_type": "code",
   "execution_count": 2,
   "metadata": {
    "ExecuteTime": {
     "end_time": "2020-08-20T01:14:05.798864Z",
     "start_time": "2020-08-20T01:13:41.708216Z"
    }
   },
   "outputs": [
    {
     "name": "stdout",
     "output_type": "stream",
     "text": [
      "(60000, 28, 28) (60000,)\n",
      "[5 0 4 ... 5 6 8]\n",
      "(10000, 28, 28) (10000,)\n",
      "[7 2 1 ... 4 5 6]\n",
      "(42000, 28, 28)\n",
      "(18000, 28, 28)\n",
      "(42000, 784)\n",
      "(18000, 784)\n",
      "(10000, 784)\n",
      "[[0. 0. 0. ... 1. 0. 0.]\n",
      " [0. 0. 1. ... 0. 0. 0.]\n",
      " [0. 1. 0. ... 0. 0. 0.]\n",
      " ...\n",
      " [0. 0. 0. ... 0. 0. 0.]\n",
      " [0. 0. 0. ... 0. 0. 0.]\n",
      " [0. 0. 0. ... 0. 0. 0.]]\n",
      "Train on 42000 samples, validate on 18000 samples\n",
      "Epoch 1/30\n",
      "42000/42000 [==============================] - 1s 21us/sample - loss: 0.5009 - acc: 0.8551 - val_loss: 0.2346 - val_acc: 0.9343\n",
      "Epoch 2/30\n",
      "42000/42000 [==============================] - 1s 18us/sample - loss: 0.1947 - acc: 0.9438 - val_loss: 0.1755 - val_acc: 0.9501\n",
      "Epoch 3/30\n",
      "42000/42000 [==============================] - 1s 18us/sample - loss: 0.1467 - acc: 0.9569 - val_loss: 0.1495 - val_acc: 0.9560\n",
      "Epoch 4/30\n",
      "42000/42000 [==============================] - 1s 17us/sample - loss: 0.1169 - acc: 0.9658 - val_loss: 0.1390 - val_acc: 0.9589\n",
      "Epoch 5/30\n",
      "42000/42000 [==============================] - 1s 18us/sample - loss: 0.0997 - acc: 0.9711 - val_loss: 0.1238 - val_acc: 0.9644\n",
      "Epoch 6/30\n",
      "42000/42000 [==============================] - 1s 20us/sample - loss: 0.0856 - acc: 0.9753 - val_loss: 0.1167 - val_acc: 0.9659\n",
      "Epoch 7/30\n",
      "42000/42000 [==============================] - 1s 17us/sample - loss: 0.0727 - acc: 0.9790 - val_loss: 0.1131 - val_acc: 0.9663\n",
      "Epoch 8/30\n",
      "42000/42000 [==============================] - 1s 18us/sample - loss: 0.0647 - acc: 0.9811 - val_loss: 0.1121 - val_acc: 0.9664\n",
      "Epoch 9/30\n",
      "42000/42000 [==============================] - 1s 17us/sample - loss: 0.0575 - acc: 0.9826 - val_loss: 0.1119 - val_acc: 0.9676\n",
      "Epoch 10/30\n",
      "42000/42000 [==============================] - 1s 18us/sample - loss: 0.0494 - acc: 0.9861 - val_loss: 0.1113 - val_acc: 0.9683\n",
      "Epoch 11/30\n",
      "42000/42000 [==============================] - 1s 18us/sample - loss: 0.0450 - acc: 0.9872 - val_loss: 0.1073 - val_acc: 0.9688\n",
      "Epoch 12/30\n",
      "42000/42000 [==============================] - 1s 18us/sample - loss: 0.0404 - acc: 0.9881 - val_loss: 0.1081 - val_acc: 0.9691\n",
      "Epoch 13/30\n",
      "42000/42000 [==============================] - 1s 19us/sample - loss: 0.0360 - acc: 0.9895 - val_loss: 0.1076 - val_acc: 0.9699\n",
      "Epoch 14/30\n",
      "42000/42000 [==============================] - 1s 19us/sample - loss: 0.0308 - acc: 0.9908 - val_loss: 0.1174 - val_acc: 0.9673\n",
      "Epoch 15/30\n",
      "42000/42000 [==============================] - 1s 18us/sample - loss: 0.0267 - acc: 0.9928 - val_loss: 0.1223 - val_acc: 0.9664\n",
      "Epoch 16/30\n",
      "42000/42000 [==============================] - 1s 18us/sample - loss: 0.0250 - acc: 0.9930 - val_loss: 0.1106 - val_acc: 0.9707\n",
      "Epoch 17/30\n",
      "42000/42000 [==============================] - 1s 18us/sample - loss: 0.0211 - acc: 0.9943 - val_loss: 0.1132 - val_acc: 0.9709\n",
      "Epoch 18/30\n",
      "42000/42000 [==============================] - 1s 18us/sample - loss: 0.0196 - acc: 0.9946 - val_loss: 0.1141 - val_acc: 0.9701\n",
      "Epoch 19/30\n",
      "42000/42000 [==============================] - 1s 19us/sample - loss: 0.0170 - acc: 0.9953 - val_loss: 0.1148 - val_acc: 0.9713\n",
      "Epoch 20/30\n",
      "42000/42000 [==============================] - 1s 19us/sample - loss: 0.0140 - acc: 0.9964 - val_loss: 0.1280 - val_acc: 0.9684\n",
      "Epoch 21/30\n",
      "42000/42000 [==============================] - 1s 19us/sample - loss: 0.0132 - acc: 0.9965 - val_loss: 0.1173 - val_acc: 0.9717\n",
      "Epoch 22/30\n",
      "42000/42000 [==============================] - 1s 18us/sample - loss: 0.0127 - acc: 0.9965 - val_loss: 0.1273 - val_acc: 0.9699\n",
      "Epoch 23/30\n",
      "42000/42000 [==============================] - 1s 18us/sample - loss: 0.0134 - acc: 0.9956 - val_loss: 0.1279 - val_acc: 0.9703\n",
      "Epoch 24/30\n",
      "42000/42000 [==============================] - 1s 18us/sample - loss: 0.0088 - acc: 0.9976 - val_loss: 0.1472 - val_acc: 0.9686\n",
      "Epoch 25/30\n",
      "42000/42000 [==============================] - 1s 18us/sample - loss: 0.0101 - acc: 0.9971 - val_loss: 0.1317 - val_acc: 0.9700\n",
      "Epoch 26/30\n",
      "42000/42000 [==============================] - 1s 17us/sample - loss: 0.0070 - acc: 0.9983 - val_loss: 0.1276 - val_acc: 0.9724\n",
      "Epoch 27/30\n",
      "42000/42000 [==============================] - 1s 19us/sample - loss: 0.0046 - acc: 0.9993 - val_loss: 0.1317 - val_acc: 0.9708\n",
      "Epoch 28/30\n",
      "42000/42000 [==============================] - 1s 19us/sample - loss: 0.0135 - acc: 0.9955 - val_loss: 0.1407 - val_acc: 0.9695\n",
      "Epoch 29/30\n",
      "42000/42000 [==============================] - 1s 18us/sample - loss: 0.0096 - acc: 0.9973 - val_loss: 0.1378 - val_acc: 0.9709\n",
      "Epoch 30/30\n",
      "42000/42000 [==============================] - 1s 18us/sample - loss: 0.0037 - acc: 0.9995 - val_loss: 0.1369 - val_acc: 0.9714\n",
      "10000/10000 [==============================] - 0s 18us/sample - loss: 0.1248 - acc: 0.9738\n",
      "[0.12482599605676951, 0.9738]\n"
     ]
    }
   ],
   "source": [
    "from tensorflow.keras.datasets.mnist import load_data\n",
    "from sklearn.model_selection import train_test_split\n",
    "from tensorflow.keras.utils import to_categorical\n",
    "from tensorflow.keras.models import Sequential\n",
    "from tensorflow.keras.layers import Dense\n",
    "from tensorflow.keras.losses import categorical_crossentropy\n",
    "import matplotlib.pyplot as plt\n",
    "import numpy as np\n",
    "plt.rcParams['figure.figsize']=(20,10)\n",
    "plt.rcParams.update({'font.size':13})\n",
    "\n",
    "(x_train, y_train), (x_test, y_test) = load_data(path='mnist.npz')\n",
    "print(x_train.shape, y_train.shape)\n",
    "print(y_train)\n",
    "print(x_test.shape, y_test.shape)\n",
    "print(y_test)\n",
    "\n",
    "sample_size = 3\n",
    "random_idx = np.random.randint(60000, size = sample_size)\n",
    "\n",
    "# for idx in random_idx:\n",
    "#     img = x_train[idx, :]\n",
    "#     label = y_train[idx]\n",
    "#     plt.figure()\n",
    "#     plt.imshow(img)\n",
    "\n",
    "x_train, x_val, y_train, y_val = train_test_split(x_train, y_train, test_size = 0.3, random_state = 777)\n",
    "print(x_train.shape)\n",
    "print(x_val.shape)\n",
    "\n",
    "num_x_train = x_train.shape[0]\n",
    "num_x_val = x_val.shape[0]\n",
    "num_x_test = x_test.shape[0]\n",
    "\n",
    "x_train = (x_train.reshape((num_x_train, 28*28)))/255\n",
    "x_val = (x_val.reshape((num_x_val, 28*28)))/255\n",
    "x_test = (x_test.reshape((num_x_test, 28*28)))/255\n",
    "\n",
    "print(x_train.shape) # 모델 입력을 위해 데이터를 2차원으로 변경\n",
    "print(x_val.shape)\n",
    "print(x_test.shape)\n",
    "\n",
    "# mnist의 라벨 숫자를 One_Hot_encoding 함수\n",
    "y_train = to_categorical(y_train)\n",
    "y_val = to_categorical(y_val)\n",
    "y_test = to_categorical(y_test)\n",
    "\n",
    "# print(y_train)\n",
    "print(y_test)\n",
    "\n",
    "model = Sequential()\n",
    "\n",
    "model.add(Dense(64, input_shape=(784,), activation='relu'))\n",
    "model.add(Dense(32, activation='relu'))\n",
    "model.add(Dense(10, activation='softmax'))\n",
    "\n",
    "model.compile(optimizer='adam', loss='categorical_crossentropy', metrics=['acc'])\n",
    "\n",
    "hist = model.fit(x_train, y_train, epochs=30, batch_size=128, validation_data=(x_val, y_val))\n",
    "\n",
    "# plt.plot(hist.history['acc'])\n",
    "# plt.plot(hist.history['val_acc'])\n",
    "# plt.title('Model accuracy')\n",
    "# plt.ylabel('Accuracy')\n",
    "# plt.xlabel('Epoch')\n",
    "# plt.legend(['Train', 'Test'], loc='upper left')\n",
    "# plt.show()\n",
    "#\n",
    "#\n",
    "# plt.plot(hist.history['loss'])\n",
    "# plt.plot(hist.history['val_loss'])\n",
    "# plt.title('Model loss')\n",
    "# plt.ylabel('Loss')\n",
    "# plt.xlabel('Epoch')\n",
    "# plt.legend(['Train', 'Test'], loc='upper left')\n",
    "# plt.show()\n",
    "\n",
    "print(model.evaluate(x_test, y_test))"
   ]
  },
  {
   "cell_type": "markdown",
   "metadata": {},
   "source": [
    "### ※ 문제149. mnist 이미지를 학습한 신경망 모델이 x_test 데이터를 입력받아 예측한 숫자가 무엇인지 출력하시오"
   ]
  },
  {
   "cell_type": "code",
   "execution_count": 4,
   "metadata": {
    "ExecuteTime": {
     "end_time": "2020-08-20T01:18:23.922759Z",
     "start_time": "2020-08-20T01:18:23.768856Z"
    }
   },
   "outputs": [
    {
     "name": "stdout",
     "output_type": "stream",
     "text": [
      "[7 2 1 ... 4 5 6]\n"
     ]
    }
   ],
   "source": [
    "results = model.predict(x_test)\n",
    "arg_results = np.argmax(results, axis=1)\n",
    "print(arg_results)"
   ]
  },
  {
   "cell_type": "markdown",
   "metadata": {},
   "source": [
    "### ※ 문제150. 실제 x_test 데이터의 정답 라벨을 확인해서 x_test의 정답인 y_test의 첫번째 숫자가 7이 맞는지 확인하시오"
   ]
  },
  {
   "cell_type": "code",
   "execution_count": 7,
   "metadata": {
    "ExecuteTime": {
     "end_time": "2020-08-20T01:26:25.625076Z",
     "start_time": "2020-08-20T01:26:25.619080Z"
    }
   },
   "outputs": [
    {
     "data": {
      "text/plain": [
       "7"
      ]
     },
     "execution_count": 7,
     "metadata": {},
     "output_type": "execute_result"
    }
   ],
   "source": [
    "arg_results2 = np.argmax(y_test, axis=1)\n",
    "np.argmax(y_test[0])"
   ]
  },
  {
   "cell_type": "markdown",
   "metadata": {},
   "source": [
    "### ※ 문제151. 신경망이 1만개의 mnist 테스트 데이터 숫자 중 몇 개를 맞췄는지 혼동행렬을 그려서 확인하시오"
   ]
  },
  {
   "cell_type": "code",
   "execution_count": 15,
   "metadata": {
    "ExecuteTime": {
     "end_time": "2020-08-20T01:33:52.586257Z",
     "start_time": "2020-08-20T01:33:52.040585Z"
    }
   },
   "outputs": [
    {
     "data": {
      "image/png": "[encoded data removed]",
      "text/plain": [
       "<Figure size 1440x1440 with 2 Axes>"
      ]
     },
     "metadata": {
      "needs_background": "light"
     },
     "output_type": "display_data"
    }
   ],
   "source": [
    "from sklearn.metrics import classification_report,  confusion_matrix\n",
    "import matplotlib.pyplot as plt\n",
    "import seaborn as sns\n",
    "plt.rcParams['figure.figsize']=(20,20)\n",
    "plt.rcParams.update({'font.size':15})\n",
    "\n",
    "cm = confusion_matrix(np.argmax(y_test, axis=-1), np.argmax(results, axis=-1))\n",
    "sns.heatmap(cm, annot=True, fmt='d', cmap='Blues')\n",
    "\n",
    "plt.xlabel('predicted  label')\n",
    "plt.ylabel('true label')\n",
    "plt.show()"
   ]
  },
  {
   "cell_type": "markdown",
   "metadata": {},
   "source": [
    "#### <b>※ 정확도 외에 또다른 성능 척도(정밀도, 재현율, f1 score) 보는 방법</b>"
   ]
  },
  {
   "cell_type": "code",
   "execution_count": 12,
   "metadata": {
    "ExecuteTime": {
     "end_time": "2020-08-20T01:33:13.213557Z",
     "start_time": "2020-08-20T01:33:13.080639Z"
    }
   },
   "outputs": [
    {
     "name": "stdout",
     "output_type": "stream",
     "text": [
      "              precision    recall  f1-score   support\n",
      "\n",
      "           0       0.98      0.99      0.98       980\n",
      "           1       0.99      0.99      0.99      1135\n",
      "           2       0.97      0.97      0.97      1032\n",
      "           3       0.97      0.97      0.97      1010\n",
      "           4       0.97      0.97      0.97       982\n",
      "           5       0.98      0.96      0.97       892\n",
      "           6       0.98      0.98      0.98       958\n",
      "           7       0.97      0.96      0.97      1028\n",
      "           8       0.96      0.98      0.97       974\n",
      "           9       0.96      0.96      0.96      1009\n",
      "\n",
      "    accuracy                           0.97     10000\n",
      "   macro avg       0.97      0.97      0.97     10000\n",
      "weighted avg       0.97      0.97      0.97     10000\n",
      "\n"
     ]
    }
   ],
   "source": [
    "print(classification_report(np.argmax(y_test, axis=-1), np.argmax(results, axis=-1)))"
   ]
  },
  {
   "cell_type": "markdown",
   "metadata": {},
   "source": [
    "### <b>■ 반드시 스스로 코드 구현을 연습해야하는 것</b>\n",
    "    1. 신경망으로 데이터 로드하는 함수\n",
    "        - 수업: cifar10 (loader2.py)\n",
    "        - 연습: 이파리 (loader_leaf.py)\n",
    "    2. 데이터 분류하는 신경망 생성\n",
    "        - 수업: mnist (파이썬 날코딩 / tensor 1.x / tensor 2.x ) \n",
    "        - 연습: fashion mnist\n",
    "        \n",
    "### <b>■ Fashion mnist 데이터 소개 및 코드</b>\n",
    "    Fashion-MNIST 도 MNIST 와 동일하게 60,000 개의 학습 데이터와 10,000 개의 테스트 데이터로 구성되어있습니다.\n",
    "\n",
    "    레이블 설명\n",
    "        0 티셔츠/탑\n",
    "        1 바지\n",
    "        2 풀오버(스웨터의 일종)\n",
    "        3 드레스\n",
    "        4 코트\n",
    "        5 샌들\n",
    "        6 셔츠\n",
    "        7 스니커즈\n",
    "        8 가방\n",
    "        9 앵클 부츠\n",
    "### <b>▩ Fashion-MNIST 데이터셋 불러오기</b>        "
   ]
  },
  {
   "cell_type": "code",
   "execution_count": null,
   "metadata": {},
   "outputs": [],
   "source": [
    "from tensorflow.keras.datasets.fashion_mnist import load_data\n",
    "\n",
    "# Fashion-MNIST 데이터를 다운받습니다.\n",
    "(x_train, y_train), (x_test, y_test) = load_data()\n",
    "print(x_train.shape, x_test.shape)\n",
    "\n",
    "import matplotlib.pyplot as plt\n",
    "\n",
    "import numpy as np\n",
    "\n",
    "np.random.seed(777)\n",
    "\n",
    "\n",
    "\n",
    "# Fashion-MNIST의 레이블에 해당하는 품목입니다.\n",
    "\n",
    "class_names = ['T-shirt/top', 'Trouser', 'Pullover', 'Dress', 'Coat',\n",
    "\n",
    "               'Sandal', 'Shirt', 'Sneaker', 'Bag', 'Ankle boot']\n",
    "\n",
    "\n",
    "\n",
    "sample_size = 9\n",
    "\n",
    "# 0 ~ 59999의 범위에서 무작위로 3개의 정수를 뽑습니다.\n",
    "\n",
    "random_idx = np.random.randint(60000, size=sample_size) \n",
    "\n",
    "\n",
    "\n",
    "plt.figure(figsize = (5, 5))\n",
    "\n",
    "\n",
    "\n",
    "for i, idx in enumerate(random_idx):\n",
    "\n",
    "    plt.subplot(3, 3, i+1)\n",
    "\n",
    "    plt.xticks([])\n",
    "\n",
    "    plt.yticks([])\n",
    "\n",
    "    plt.imshow(x_train[i], cmap = 'gray')\n",
    "\n",
    "    plt.xlabel(class_names[y_train[i]])\n",
    "\n",
    "    \n",
    "\n",
    "plt.show()"
   ]
  },
  {
   "cell_type": "code",
   "execution_count": null,
   "metadata": {},
   "outputs": [],
   "source": []
  },
  {
   "cell_type": "code",
   "execution_count": null,
   "metadata": {},
   "outputs": [],
   "source": []
  },
  {
   "cell_type": "code",
   "execution_count": null,
   "metadata": {},
   "outputs": [],
   "source": []
  },
  {
   "cell_type": "code",
   "execution_count": null,
   "metadata": {},
   "outputs": [],
   "source": []
  },
  {
   "cell_type": "code",
   "execution_count": null,
   "metadata": {},
   "outputs": [],
   "source": []
  },
  {
   "cell_type": "code",
   "execution_count": null,
   "metadata": {},
   "outputs": [],
   "source": []
  },
  {
   "cell_type": "code",
   "execution_count": null,
   "metadata": {},
   "outputs": [],
   "source": []
  }
 ],
 "metadata": {
  "kernelspec": {
   "display_name": "Python 3",
   "language": "python",
   "name": "python3"
  },
  "language_info": {
   "codemirror_mode": {
    "name": "ipython",
    "version": 3
   },
   "file_extension": ".py",
   "mimetype": "text/x-python",
   "name": "python",
   "nbconvert_exporter": "python",
   "pygments_lexer": "ipython3",
   "version": "3.7.6"
  },
  "toc": {
   "base_numbering": 1,
   "nav_menu": {},
   "number_sections": true,
   "sideBar": true,
   "skip_h1_title": false,
   "title_cell": "Table of Contents",
   "title_sidebar": "Contents",
   "toc_cell": false,
   "toc_position": {},
   "toc_section_display": true,
   "toc_window_display": false
  },
  "varInspector": {
   "cols": {
    "lenName": 16,
    "lenType": 16,
    "lenVar": 40
   },
   "kernels_config": {
    "python": {
     "delete_cmd_postfix": "",
     "delete_cmd_prefix": "del ",
     "library": "var_list.py",
     "varRefreshCmd": "print(var_dic_list())"
    },
    "r": {
     "delete_cmd_postfix": ") ",
     "delete_cmd_prefix": "rm(",
     "library": "var_list.r",
     "varRefreshCmd": "cat(var_dic_list()) "
    }
   },
   "types_to_exclude": [
    "module",
    "function",
    "builtin_function_or_method",
    "instance",
    "_Feature"
   ],
   "window_display": false
  }
 },
 "nbformat": 4,
 "nbformat_minor": 4
}
