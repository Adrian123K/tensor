{
 "cells": [
  {
   "cell_type": "markdown",
   "metadata": {},
   "source": [
    "    1. 텐서 플로우 1.x : snowdeer_env\n",
    "    2. 텐서 플로우 2.x : keras_study\n",
    "\n",
    "## <b>■ 복습</b>\n",
    "    1장. Numpy\n",
    "    2장. 퍼셉트론\n",
    "    3장. 3층 신경망 구현\n",
    "    4장. 2층 신경망 구현(수치미분)\n",
    "    5장. 2층 신경망 구현(오차 역전파)\n",
    "    6장. 신경망 학습 기술들\n",
    "        - under-fitting 방지\n",
    "        - over-fitting 방지\n",
    "    7장. CNN을 이용한 3층 신경망 구현\n",
    "    ------------------------------------------2010년\n",
    "    8장. 딥러닝 역사 \n",
    "        1. 텐서 플로우\n",
    "        2. Object detection (자율 주행차, 불량품 선별, 종양 발견 등)\n",
    "        3. RNN (주가 예측, 번역 신경망, 작곡 등)\n",
    "\n",
    "### <b>■ 텐서 플로우 1.x버전의 큰 그림</b>\n",
    "    딥러닝 면접질문 : 딥러닝 프레임워크는 뭘 썼는가?\n",
    "        1. 텐서 플로우 1.x, 2.x 사용\n",
    "        2. Pytorch 사용\n",
    "        \n",
    "    다차원 데이터가 흘러가는 그래프를 구성하는 부분\n",
    "    -------------------------------------------\n",
    "    다차원 데이터가 흘러가는 그래프를 실행하는 부분"
   ]
  },
  {
   "cell_type": "markdown",
   "metadata": {},
   "source": [
    "#### 예제1. 문자열 데이터 출력"
   ]
  },
  {
   "cell_type": "code",
   "execution_count": 2,
   "metadata": {
    "ExecuteTime": {
     "end_time": "2020-08-17T01:10:07.757004Z",
     "start_time": "2020-08-17T01:10:04.865273Z"
    }
   },
   "outputs": [
    {
     "name": "stderr",
     "output_type": "stream",
     "text": [
      "C:\\Users\\knitwill\\anaconda3\\lib\\site-packages\\tensorflow\\python\\framework\\dtypes.py:526: FutureWarning: Passing (type, 1) or '1type' as a synonym of type is deprecated; in a future version of numpy, it will be understood as (type, (1,)) / '(1,)type'.\n",
      "  _np_qint8 = np.dtype([(\"qint8\", np.int8, 1)])\n",
      "C:\\Users\\knitwill\\anaconda3\\lib\\site-packages\\tensorflow\\python\\framework\\dtypes.py:527: FutureWarning: Passing (type, 1) or '1type' as a synonym of type is deprecated; in a future version of numpy, it will be understood as (type, (1,)) / '(1,)type'.\n",
      "  _np_quint8 = np.dtype([(\"quint8\", np.uint8, 1)])\n",
      "C:\\Users\\knitwill\\anaconda3\\lib\\site-packages\\tensorflow\\python\\framework\\dtypes.py:528: FutureWarning: Passing (type, 1) or '1type' as a synonym of type is deprecated; in a future version of numpy, it will be understood as (type, (1,)) / '(1,)type'.\n",
      "  _np_qint16 = np.dtype([(\"qint16\", np.int16, 1)])\n",
      "C:\\Users\\knitwill\\anaconda3\\lib\\site-packages\\tensorflow\\python\\framework\\dtypes.py:529: FutureWarning: Passing (type, 1) or '1type' as a synonym of type is deprecated; in a future version of numpy, it will be understood as (type, (1,)) / '(1,)type'.\n",
      "  _np_quint16 = np.dtype([(\"quint16\", np.uint16, 1)])\n",
      "C:\\Users\\knitwill\\anaconda3\\lib\\site-packages\\tensorflow\\python\\framework\\dtypes.py:530: FutureWarning: Passing (type, 1) or '1type' as a synonym of type is deprecated; in a future version of numpy, it will be understood as (type, (1,)) / '(1,)type'.\n",
      "  _np_qint32 = np.dtype([(\"qint32\", np.int32, 1)])\n",
      "C:\\Users\\knitwill\\anaconda3\\lib\\site-packages\\tensorflow\\python\\framework\\dtypes.py:535: FutureWarning: Passing (type, 1) or '1type' as a synonym of type is deprecated; in a future version of numpy, it will be understood as (type, (1,)) / '(1,)type'.\n",
      "  np_resource = np.dtype([(\"resource\", np.ubyte, 1)])\n"
     ]
    },
    {
     "name": "stdout",
     "output_type": "stream",
     "text": [
      "b'Hello Tensorflow'\n"
     ]
    }
   ],
   "source": [
    "import tensorflow as tf\n",
    "hello = tf.constant(\"Hello Tensorflow\")\n",
    "\n",
    "sess = tf.Session() # 그래프를 실행할 세션을 구성\n",
    "\n",
    "print(sess.run(hello))"
   ]
  },
  {
   "cell_type": "markdown",
   "metadata": {},
   "source": [
    "    파이썬 3버전은 문자열 unicode가 기본이므로\n",
    "    str을 이용해서 encoding 처리를 해주면서 binary 타입을 unicode 타입으로 반환해줘야 함"
   ]
  },
  {
   "cell_type": "code",
   "execution_count": 3,
   "metadata": {
    "ExecuteTime": {
     "end_time": "2020-08-17T01:10:08.732266Z",
     "start_time": "2020-08-17T01:10:08.727270Z"
    }
   },
   "outputs": [
    {
     "name": "stdout",
     "output_type": "stream",
     "text": [
      "Hello Tensorflow\n"
     ]
    }
   ],
   "source": [
    "print(str(sess.run(hello),encoding='utf-8'))"
   ]
  },
  {
   "cell_type": "markdown",
   "metadata": {},
   "source": [
    "#### 예제2. 숫자형 변수를 출력"
   ]
  },
  {
   "cell_type": "code",
   "execution_count": 4,
   "metadata": {
    "ExecuteTime": {
     "end_time": "2020-08-17T01:17:58.376397Z",
     "start_time": "2020-08-17T01:17:57.687754Z"
    }
   },
   "outputs": [
    {
     "name": "stdout",
     "output_type": "stream",
     "text": [
      "WARNING:tensorflow:From C:\\Users\\knitwill\\anaconda3\\lib\\site-packages\\tensorflow\\python\\framework\\op_def_library.py:263: colocate_with (from tensorflow.python.framework.ops) is deprecated and will be removed in a future version.\n",
      "Instructions for updating:\n",
      "Colocations handled automatically by placer.\n"
     ]
    }
   ],
   "source": [
    "################################################ 그래프 그리는 영역\n",
    "import tensorflow as tf\n",
    "x = tf.constant(35, name='x') # x라는 상수값을 만들고 숫자 35를 지정\n",
    "y = tf.Variable(x+5, name='y') # y라는 변수를 만들고 방정식 x+5를 정의\n",
    "model = tf.global_variables_initializer() # 변수를 생성했으면 초기화 해줘야하는데 필요한 명령어. 무조건 초기화를 해줘야 실행 가능\n",
    "\n",
    "################################################ 그래프 실행할 영역\n",
    "sess = tf.Session()\n",
    "sess.run(model)"
   ]
  },
  {
   "cell_type": "markdown",
   "metadata": {},
   "source": [
    "#### 예제3. 상수형 변수를 실행하기"
   ]
  },
  {
   "cell_type": "code",
   "execution_count": 5,
   "metadata": {
    "ExecuteTime": {
     "end_time": "2020-08-17T01:20:14.053944Z",
     "start_time": "2020-08-17T01:20:14.045949Z"
    }
   },
   "outputs": [
    {
     "name": "stdout",
     "output_type": "stream",
     "text": [
      "Tensor(\"Add_1:0\", shape=(), dtype=int32)\n"
     ]
    }
   ],
   "source": [
    "import tensorflow as tf\n",
    "a = tf.constant(10)\n",
    "b = tf.constant(32)\n",
    "c = tf.add(a,b)\n",
    "print(c)"
   ]
  },
  {
   "cell_type": "markdown",
   "metadata": {},
   "source": [
    "### ※ 문제110. 위에서 만든 텐서 그래프를 실행하시오"
   ]
  },
  {
   "cell_type": "code",
   "execution_count": 8,
   "metadata": {
    "ExecuteTime": {
     "end_time": "2020-08-17T01:22:39.474175Z",
     "start_time": "2020-08-17T01:22:39.453188Z"
    }
   },
   "outputs": [
    {
     "name": "stdout",
     "output_type": "stream",
     "text": [
      "42\n"
     ]
    }
   ],
   "source": [
    "import tensorflow as tf\n",
    "a = tf.constant(10)\n",
    "b = tf.constant(32)\n",
    "c = tf.add(a,b)\n",
    "\n",
    "sess = tf.Session()\n",
    "print(sess.run(c))\n",
    "\n",
    "sess.close() # 세션을 닫는 구문을 작성해줘야 함"
   ]
  },
  {
   "cell_type": "code",
   "execution_count": 9,
   "metadata": {
    "ExecuteTime": {
     "end_time": "2020-08-17T01:25:01.240489Z",
     "start_time": "2020-08-17T01:25:01.228495Z"
    }
   },
   "outputs": [
    {
     "name": "stdout",
     "output_type": "stream",
     "text": [
      "42\n"
     ]
    }
   ],
   "source": [
    "# 다른 방법으로 세션 종료\n",
    "import tensorflow as tf\n",
    "a = tf.constant(10)\n",
    "b = tf.constant(32)\n",
    "c = tf.add(a,b)\n",
    "\n",
    "with tf.Session() as sess:\n",
    "    print(sess.run(c))\n",
    "# 위와 같이 with절을 이용하면 close를 안해도 자동으로 닫힌다."
   ]
  },
  {
   "cell_type": "markdown",
   "metadata": {},
   "source": [
    "### ※ 문제11. 아래의 그래프를 실행하시오"
   ]
  },
  {
   "cell_type": "code",
   "execution_count": 11,
   "metadata": {
    "ExecuteTime": {
     "end_time": "2020-08-17T01:29:31.051583Z",
     "start_time": "2020-08-17T01:29:31.027597Z"
    }
   },
   "outputs": [
    {
     "name": "stdout",
     "output_type": "stream",
     "text": [
      "10780\n"
     ]
    }
   ],
   "source": [
    "import tensorflow as tf\n",
    "old_v = tf.logging.get_verbosity()\n",
    "tf.logging.set_verbosity(tf.logging.ERROR)\n",
    "\n",
    "a = tf.add(1, 2)\n",
    "b = tf.multiply(a, 3)\n",
    "c = tf.add(b, 5)\n",
    "d = tf.multiply(c, 6)\n",
    "e = tf.multiply(d, 5)\n",
    "f = tf.div(e, 6)\n",
    "g = tf.add(f, d)\n",
    "h = tf.multiply(g, f)\n",
    "\n",
    "with tf.Session() as sess:\n",
    "    print(sess.run(h))"
   ]
  },
  {
   "cell_type": "markdown",
   "metadata": {},
   "source": [
    "#### 예제4. 텐서플로우로 loop문 실행\n",
    "    1부터 5까지 숫자를 출력"
   ]
  },
  {
   "cell_type": "code",
   "execution_count": 12,
   "metadata": {
    "ExecuteTime": {
     "end_time": "2020-08-17T01:33:26.006886Z",
     "start_time": "2020-08-17T01:33:26.002887Z"
    }
   },
   "outputs": [
    {
     "name": "stdout",
     "output_type": "stream",
     "text": [
      "1\n",
      "2\n",
      "3\n",
      "4\n",
      "5\n"
     ]
    }
   ],
   "source": [
    "# 파이썬 기본 문법으로 수행\n",
    "for i in range(1,6):\n",
    "    print(i)"
   ]
  },
  {
   "cell_type": "code",
   "execution_count": 13,
   "metadata": {
    "ExecuteTime": {
     "end_time": "2020-08-17T01:38:23.132011Z",
     "start_time": "2020-08-17T01:38:22.932132Z"
    }
   },
   "outputs": [
    {
     "name": "stdout",
     "output_type": "stream",
     "text": [
      "1\n",
      "2\n",
      "3\n",
      "4\n",
      "5\n"
     ]
    }
   ],
   "source": [
    "# 텐서 플로우로 수행\n",
    "import tensorflow as tf\n",
    "x = tf.Variable(0)\n",
    "init = tf.global_variables_initializer() # 변수를 생성했으면 초기화를 해줘야 함\n",
    "\n",
    "with tf.Session() as sess :\n",
    "    sess.run(init)\n",
    "    for i in range(5):\n",
    "        x = x+1\n",
    "        print(sess.run(x))"
   ]
  },
  {
   "cell_type": "markdown",
   "metadata": {},
   "source": [
    "### ※ 문제112. 위의 코드를 이용해서 구구단 2단을 출력하시오\n",
    "    (tf.multiply를 이용)"
   ]
  },
  {
   "cell_type": "code",
   "execution_count": 21,
   "metadata": {
    "ExecuteTime": {
     "end_time": "2020-08-17T01:49:09.936348Z",
     "start_time": "2020-08-17T01:49:09.808426Z"
    }
   },
   "outputs": [
    {
     "name": "stdout",
     "output_type": "stream",
     "text": [
      "2 x 1 = 2\n",
      "2 x 2 = 4\n",
      "2 x 3 = 6\n",
      "2 x 4 = 8\n",
      "2 x 5 = 10\n",
      "2 x 6 = 12\n",
      "2 x 7 = 14\n",
      "2 x 8 = 16\n",
      "2 x 9 = 18\n"
     ]
    }
   ],
   "source": [
    "import tensorflow as tf\n",
    "with tf.Session() as sess:\n",
    "    for i in range(1,10):        \n",
    "        m = tf.multiply(2,i)\n",
    "        print(f'2 x {i} = {sess.run(m)}')"
   ]
  },
  {
   "cell_type": "markdown",
   "metadata": {},
   "source": [
    "### ※ 문제113. 구구단 2단 ~ 9단까지 출력하시오"
   ]
  },
  {
   "cell_type": "code",
   "execution_count": 24,
   "metadata": {
    "ExecuteTime": {
     "end_time": "2020-08-17T02:05:11.414329Z",
     "start_time": "2020-08-17T02:05:09.904587Z"
    },
    "scrolled": true
   },
   "outputs": [
    {
     "name": "stdout",
     "output_type": "stream",
     "text": [
      "2 x 1 = 2\n",
      "2 x 2 = 4\n",
      "2 x 3 = 6\n",
      "2 x 4 = 8\n",
      "2 x 5 = 10\n",
      "2 x 6 = 12\n",
      "2 x 7 = 14\n",
      "2 x 8 = 16\n",
      "2 x 9 = 18\n",
      "3 x 1 = 3\n",
      "3 x 2 = 6\n",
      "3 x 3 = 9\n",
      "3 x 4 = 12\n",
      "3 x 5 = 15\n",
      "3 x 6 = 18\n",
      "3 x 7 = 21\n",
      "3 x 8 = 24\n",
      "3 x 9 = 27\n",
      "4 x 1 = 4\n",
      "4 x 2 = 8\n",
      "4 x 3 = 12\n",
      "4 x 4 = 16\n",
      "4 x 5 = 20\n",
      "4 x 6 = 24\n",
      "4 x 7 = 28\n",
      "4 x 8 = 32\n",
      "4 x 9 = 36\n",
      "5 x 1 = 5\n",
      "5 x 2 = 10\n",
      "5 x 3 = 15\n",
      "5 x 4 = 20\n",
      "5 x 5 = 25\n",
      "5 x 6 = 30\n",
      "5 x 7 = 35\n",
      "5 x 8 = 40\n",
      "5 x 9 = 45\n",
      "6 x 1 = 6\n",
      "6 x 2 = 12\n",
      "6 x 3 = 18\n",
      "6 x 4 = 24\n",
      "6 x 5 = 30\n",
      "6 x 6 = 36\n",
      "6 x 7 = 42\n",
      "6 x 8 = 48\n",
      "6 x 9 = 54\n",
      "7 x 1 = 7\n",
      "7 x 2 = 14\n",
      "7 x 3 = 21\n",
      "7 x 4 = 28\n",
      "7 x 5 = 35\n",
      "7 x 6 = 42\n",
      "7 x 7 = 49\n",
      "7 x 8 = 56\n",
      "7 x 9 = 63\n",
      "8 x 1 = 8\n",
      "8 x 2 = 16\n",
      "8 x 3 = 24\n",
      "8 x 4 = 32\n",
      "8 x 5 = 40\n",
      "8 x 6 = 48\n",
      "8 x 7 = 56\n",
      "8 x 8 = 64\n",
      "8 x 9 = 72\n",
      "9 x 1 = 9\n",
      "9 x 2 = 18\n",
      "9 x 3 = 27\n",
      "9 x 4 = 36\n",
      "9 x 5 = 45\n",
      "9 x 6 = 54\n",
      "9 x 7 = 63\n",
      "9 x 8 = 72\n",
      "9 x 9 = 81\n"
     ]
    }
   ],
   "source": [
    "import tensorflow as tf\n",
    "with tf.Session() as sess:\n",
    "    for i in range(2,10):\n",
    "        for j in range(1,10):\n",
    "            print(f\"{i} x {j} = {sess.run(tf.multiply(i,j))}\")"
   ]
  },
  {
   "cell_type": "code",
   "execution_count": 25,
   "metadata": {
    "ExecuteTime": {
     "end_time": "2020-08-17T02:09:33.942466Z",
     "start_time": "2020-08-17T02:09:33.736577Z"
    },
    "scrolled": true
   },
   "outputs": [
    {
     "name": "stdout",
     "output_type": "stream",
     "text": [
      "2 x 1 = 2\n",
      "2 x 2 = 4\n",
      "2 x 3 = 6\n",
      "2 x 4 = 8\n",
      "2 x 5 = 10\n",
      "2 x 6 = 12\n",
      "2 x 7 = 14\n",
      "2 x 8 = 16\n",
      "2 x 9 = 18\n",
      "3 x 1 = 3\n",
      "3 x 2 = 6\n",
      "3 x 3 = 9\n",
      "3 x 4 = 12\n",
      "3 x 5 = 15\n",
      "3 x 6 = 18\n",
      "3 x 7 = 21\n",
      "3 x 8 = 24\n",
      "3 x 9 = 27\n",
      "4 x 1 = 4\n",
      "4 x 2 = 8\n",
      "4 x 3 = 12\n",
      "4 x 4 = 16\n",
      "4 x 5 = 20\n",
      "4 x 6 = 24\n",
      "4 x 7 = 28\n",
      "4 x 8 = 32\n",
      "4 x 9 = 36\n",
      "5 x 1 = 5\n",
      "5 x 2 = 10\n",
      "5 x 3 = 15\n",
      "5 x 4 = 20\n",
      "5 x 5 = 25\n",
      "5 x 6 = 30\n",
      "5 x 7 = 35\n",
      "5 x 8 = 40\n",
      "5 x 9 = 45\n",
      "6 x 1 = 6\n",
      "6 x 2 = 12\n",
      "6 x 3 = 18\n",
      "6 x 4 = 24\n",
      "6 x 5 = 30\n",
      "6 x 6 = 36\n",
      "6 x 7 = 42\n",
      "6 x 8 = 48\n",
      "6 x 9 = 54\n",
      "7 x 1 = 7\n",
      "7 x 2 = 14\n",
      "7 x 3 = 21\n",
      "7 x 4 = 28\n",
      "7 x 5 = 35\n",
      "7 x 6 = 42\n",
      "7 x 7 = 49\n",
      "7 x 8 = 56\n",
      "7 x 9 = 63\n",
      "8 x 1 = 8\n",
      "8 x 2 = 16\n",
      "8 x 3 = 24\n",
      "8 x 4 = 32\n",
      "8 x 5 = 40\n",
      "8 x 6 = 48\n",
      "8 x 7 = 56\n",
      "8 x 8 = 64\n",
      "8 x 9 = 72\n",
      "9 x 1 = 9\n",
      "9 x 2 = 18\n",
      "9 x 3 = 27\n",
      "9 x 4 = 36\n",
      "9 x 5 = 45\n",
      "9 x 6 = 54\n",
      "9 x 7 = 63\n",
      "9 x 8 = 72\n",
      "9 x 9 = 81\n"
     ]
    }
   ],
   "source": [
    "x = tf.Variable(0)\n",
    "y = tf.Variable(0)\n",
    "z = tf.multiply(x, y)\n",
    "\n",
    "init = tf.global_variables_initializer()\n",
    "\n",
    "with tf.Session() as sess:\n",
    "    for i in range(2,10):\n",
    "        for j in range(1,10):\n",
    "            print(i, 'x', j, '=', sess.run(z, feed_dict=({x:i, y:j})))"
   ]
  },
  {
   "cell_type": "markdown",
   "metadata": {},
   "source": [
    "    feed_dict 명령어로 데이터를 텐서 그래프에 주입\n",
    "        x 변수에는 i의 값을 대입, y 변수에는 j 값을 대입\n",
    "        z를 실행하기 위해서 x와 y에 값을 대입"
   ]
  },
  {
   "cell_type": "markdown",
   "metadata": {},
   "source": [
    "### <b>■ 신경망에서 bias를 만드는 코드를 텐서 플로우로 구현하는 방법</b>\n",
    "#### 예제1. 변수에 숫자 0과 숫자 1을 채워 넣는 배열을 생성하는 방법    "
   ]
  },
  {
   "cell_type": "code",
   "execution_count": 26,
   "metadata": {
    "ExecuteTime": {
     "end_time": "2020-08-17T02:20:38.548859Z",
     "start_time": "2020-08-17T02:20:38.402217Z"
    }
   },
   "outputs": [
    {
     "name": "stdout",
     "output_type": "stream",
     "text": [
      "numpy 구현\n",
      "[[0. 0.]\n",
      " [0. 0.]]\n",
      "[[1. 1.]\n",
      " [1. 1.]]\n",
      "\n",
      " tensorflow 구현\n",
      "[[0. 0.]\n",
      " [0. 0.]]\n",
      "[[1. 1.]\n",
      " [1. 1.]]\n"
     ]
    }
   ],
   "source": [
    "print('numpy 구현')\n",
    "import numpy as np\n",
    "a = np.zeros((2,2))\n",
    "b = np.ones((2,2))\n",
    "print(a)\n",
    "print(b)\n",
    "\n",
    "print('\\n tensorflow 구현')\n",
    "a = tf.zeros((2,2))\n",
    "b = tf.ones((2,2))\n",
    "init = tf.global_variables_initializer()\n",
    "\n",
    "with tf.Session() as sess:\n",
    "    sess.run(init)\n",
    "    print(sess.run(a))\n",
    "    print(sess.run(b))"
   ]
  },
  {
   "cell_type": "markdown",
   "metadata": {},
   "source": [
    "### <b>■ 배열의 원소중에서 최댓값 원소의 인덱스를 찾는 코드</b>"
   ]
  },
  {
   "cell_type": "code",
   "execution_count": 28,
   "metadata": {
    "ExecuteTime": {
     "end_time": "2020-08-17T02:23:59.561349Z",
     "start_time": "2020-08-17T02:23:59.425803Z"
    }
   },
   "outputs": [
    {
     "name": "stdout",
     "output_type": "stream",
     "text": [
      "파이썬의 numpy 이용방법\n",
      "2\n",
      "\n",
      " 텐서플로우 이용방법\n",
      "2\n"
     ]
    }
   ],
   "source": [
    "print('파이썬의 numpy 이용방법')\n",
    "import numpy as np\n",
    "a = np.array([0,0,1,0,0,0,0,0,0,0])\n",
    "print(np.argmax(a, axis=0))\n",
    "\n",
    "print('\\n 텐서플로우 이용방법')\n",
    "import tensorflow as tf\n",
    "a = np.array([0,0,1,0,0,0,0,0,0,0])\n",
    "b = tf.argmax(a, axis=0)\n",
    "\n",
    "init = tf.global_variables_initializer()\n",
    "with tf.Session() as sess:\n",
    "    sess.run(init)\n",
    "    print(sess.run(b))"
   ]
  },
  {
   "cell_type": "markdown",
   "metadata": {},
   "source": [
    "### ※ 문제11. 아래의 원핫 인코딩된 배열에서 최대 원소값의 인덱스를 출력하시오"
   ]
  },
  {
   "cell_type": "code",
   "execution_count": 30,
   "metadata": {
    "ExecuteTime": {
     "end_time": "2020-08-17T02:28:29.166071Z",
     "start_time": "2020-08-17T02:28:29.046057Z"
    }
   },
   "outputs": [
    {
     "name": "stdout",
     "output_type": "stream",
     "text": [
      "[2 4 6 0 8]\n"
     ]
    }
   ],
   "source": [
    "import numpy as np\n",
    "a = np.array([[0,0,1,0,0,0,0,0,0,0],\n",
    "              [0,0,0,0,1,0,0,0,0,0],\n",
    "              [0,0,0,0,0,0,1,0,0,0],\n",
    "              [1,0,0,0,0,0,0,0,0,0],\n",
    "              [0,0,0,0,0,0,0,0,1,0]])\n",
    "import tensorflow as tf\n",
    "b = tf.argmax(a, axis=1)\n",
    "\n",
    "init = tf.global_variables_initializer()\n",
    "\n",
    "with tf.Session() as sess:\n",
    "    sess.run(init)\n",
    "    print(sess.run(b))"
   ]
  },
  {
   "cell_type": "markdown",
   "metadata": {},
   "source": [
    "### <b>■ 다차원 배열에서의 행의 토탈값 구하는 방법</b>\n"
   ]
  },
  {
   "cell_type": "code",
   "execution_count": 32,
   "metadata": {
    "ExecuteTime": {
     "end_time": "2020-08-17T02:38:02.905107Z",
     "start_time": "2020-08-17T02:38:02.675187Z"
    }
   },
   "outputs": [
    {
     "name": "stdout",
     "output_type": "stream",
     "text": [
      "numpy 이용했을 때\n",
      "[[10  8 12]\n",
      " [10  8 11]\n",
      " [11  5 12]\n",
      " [13 15  6]]\n",
      "\n",
      " 텐서 플로우 이용했을 때\n",
      "[[10  8 12]\n",
      " [10  8 11]\n",
      " [11  5 12]\n",
      " [13 15  6]]\n"
     ]
    }
   ],
   "source": [
    "import numpy as np\n",
    "a = np.array([[[1, 2, 3],\n",
    "               [2, 1, 4],\n",
    "               [5, 2, 1],\n",
    "               [6, 3, 2]],\n",
    "              [[5, 1, 3],\n",
    "               [1, 3, 4],\n",
    "               [4, 2, 6],\n",
    "               [3, 9, 3]],\n",
    "              [[4, 5, 6],\n",
    "               [7, 4, 3],\n",
    "               [2, 1, 5],\n",
    "               [4, 3, 1]]])\n",
    "\n",
    "print('numpy 이용했을 때')\n",
    "print(np.sum(a, axis=0))\n",
    "\n",
    "print('\\n 텐서 플로우 이용했을 때')\n",
    "a = np.array([[[1, 2, 3],\n",
    "               [2, 1, 4],\n",
    "               [5, 2, 1],\n",
    "               [6, 3, 2]],\n",
    "              [[5, 1, 3],\n",
    "               [1, 3, 4],\n",
    "               [4, 2, 6],\n",
    "               [3, 9, 3]],\n",
    "              [[4, 5, 6],\n",
    "               [7, 4, 3],\n",
    "               [2, 1, 5],\n",
    "               [4, 3, 1]]])\n",
    "import tensorflow as tf\n",
    "d = tf.reduce_sum(a, reduction_indices=[0])\n",
    "\n",
    "init = tf.global_variables_initializer()\n",
    "\n",
    "with tf.Session() as sess:\n",
    "    sess.run(init)\n",
    "    print(sess.run(d))"
   ]
  },
  {
   "cell_type": "markdown",
   "metadata": {},
   "source": [
    "### ※ 문제115. 위에는 3차원 데이터의 축의 값을 토탈값을 구했는데 평균값을 구하는걸로 출력해보시오"
   ]
  },
  {
   "cell_type": "code",
   "execution_count": 33,
   "metadata": {
    "ExecuteTime": {
     "end_time": "2020-08-17T02:39:36.648700Z",
     "start_time": "2020-08-17T02:39:36.559754Z"
    }
   },
   "outputs": [
    {
     "name": "stdout",
     "output_type": "stream",
     "text": [
      "[[3 2 4]\n",
      " [3 2 3]\n",
      " [3 1 4]\n",
      " [4 5 2]]\n"
     ]
    }
   ],
   "source": [
    "a = np.array([[[1, 2, 3],\n",
    "               [2, 1, 4],\n",
    "               [5, 2, 1],\n",
    "               [6, 3, 2]],\n",
    "              [[5, 1, 3],\n",
    "               [1, 3, 4],\n",
    "               [4, 2, 6],\n",
    "               [3, 9, 3]],\n",
    "              [[4, 5, 6],\n",
    "               [7, 4, 3],\n",
    "               [2, 1, 5],\n",
    "               [4, 3, 1]]])\n",
    "import tensorflow as tf\n",
    "d = tf.reduce_mean(a, reduction_indices=[0])\n",
    "\n",
    "init = tf.global_variables_initializer()\n",
    "\n",
    "with tf.Session() as sess:\n",
    "    sess.run(init)\n",
    "    print(sess.run(d))"
   ]
  },
  {
   "cell_type": "markdown",
   "metadata": {},
   "source": [
    "### <b>■ 텐서 플로우로 행렬 내적하는 코드</b>"
   ]
  },
  {
   "cell_type": "code",
   "execution_count": 35,
   "metadata": {
    "ExecuteTime": {
     "end_time": "2020-08-17T02:45:38.804263Z",
     "start_time": "2020-08-17T02:45:38.641314Z"
    }
   },
   "outputs": [
    {
     "name": "stdout",
     "output_type": "stream",
     "text": [
      "numpy 형식\n",
      "[[18 18]\n",
      " [18 18]]\n",
      "\n",
      " tensorflow 형식\n",
      "[[18. 18.]\n",
      " [18. 18.]]\n"
     ]
    }
   ],
   "source": [
    "print('numpy 형식')\n",
    "a = np.array([[2,2,2],[2,2,2]])\n",
    "b = np.array([[3,3],[3,3],[3,3]])\n",
    "res = np.dot(a,b)\n",
    "print(res)\n",
    "\n",
    "print('\\n tensorflow 형식')\n",
    "x = tf.placeholder(\"float\",[2,3]) # (2,3) 행렬의 실수형 데이터를 담을 변수\n",
    "y = tf.placeholder(\"float\",[3,2]) \n",
    "rs = tf.matmul(x, y)\n",
    "\n",
    "init = tf.global_variables_initializer()\n",
    "\n",
    "with tf.Session() as sess:\n",
    "    sess.run(init)\n",
    "    print(sess.run(rs, feed_dict={x:[[2,2,2],[2,2,2]], y:[[3,3],[3,3],[3,3]]}))"
   ]
  },
  {
   "cell_type": "markdown",
   "metadata": {},
   "source": [
    "### ※ 문제116. (점심시간 문제) 아래의 행렬의 내적을 텐서플로우로 구현하시오\n",
    "$$\\begin{pmatrix} 6 & 7 \\\\ 3 & 5 \\\\ 2 & 9 \\\\ \\end{pmatrix} \\cdot \\begin{pmatrix} 3 & 8 & 1 \\\\ 4 & 5 & 2 \\\\ \\end{pmatrix}$$"
   ]
  },
  {
   "cell_type": "code",
   "execution_count": 38,
   "metadata": {
    "ExecuteTime": {
     "end_time": "2020-08-17T03:12:13.044605Z",
     "start_time": "2020-08-17T03:12:12.983643Z"
    }
   },
   "outputs": [
    {
     "name": "stdout",
     "output_type": "stream",
     "text": [
      "[[46. 83. 20.]\n",
      " [29. 49. 13.]\n",
      " [42. 61. 20.]]\n"
     ]
    }
   ],
   "source": [
    "a = np.array([[6,7],[3,5],[2,9]])\n",
    "b = np.array([[3,8,1],[4,5,2]])\n",
    "\n",
    "import tensorflow as tf\n",
    "x = tf.placeholder(\"float\",[3,2]) # (2,3) 행렬의 실수형 데이터를 담을 변수\n",
    "y = tf.placeholder(\"float\",[2,3]) \n",
    "rs = tf.matmul(x, y)\n",
    "\n",
    "init = tf.global_variables_initializer()\n",
    "\n",
    "with tf.Session() as sess:\n",
    "    sess.run(init)\n",
    "    print(sess.run(rs, feed_dict={x:[[6,7],[3,5],[2,9]], y:[[3,8,1],[4,5,2]]}))"
   ]
  },
  {
   "cell_type": "markdown",
   "metadata": {},
   "source": [
    "### <b>■ 신경망의 정확도를 출력하는 코드를 이해</b>\n",
    "    tensorflow의 cast 함수의 이해\n",
    "#### 예제1: 아래의 배열의 True를 1로 변경하고 False를 0으로 변경"
   ]
  },
  {
   "cell_type": "code",
   "execution_count": 41,
   "metadata": {
    "ExecuteTime": {
     "end_time": "2020-08-17T04:48:57.538662Z",
     "start_time": "2020-08-17T04:48:57.394734Z"
    }
   },
   "outputs": [
    {
     "name": "stdout",
     "output_type": "stream",
     "text": [
      "[1. 0. 1. 1. 1. 1. 1. 1. 1. 1. 1. 1. 1. 1. 1. 0. 1. 1. 0. 1. 1. 1. 1. 1.\n",
      " 1. 1. 1. 1. 1. 1. 1. 1. 1. 1. 1. 1. 1. 1. 1. 1. 1. 1. 1. 1. 1. 1. 1. 1.\n",
      " 1. 1. 1. 1. 1. 1. 1. 1. 1. 1. 1. 1. 1. 1. 1. 1. 1. 1. 0. 1. 1. 1. 1. 1.\n",
      " 1. 1. 0. 1. 0. 1. 1. 1. 1. 1. 1. 1. 1. 1. 1. 1. 1. 1. 1. 1. 1. 1. 1. 1.\n",
      " 0. 1. 1. 1.]\n"
     ]
    }
   ],
   "source": [
    "import tensorflow as tf\n",
    "\n",
    "correct_prediction = [ True, False , True  ,True  ,True  ,True  ,True,  True  ,True  ,True  ,True  ,True\n",
    "  ,True  ,True  ,True, False , True  ,True, False , True  ,True  ,True  ,True  ,True\n",
    "  ,True  ,True  ,True  ,True  ,True  ,True  ,True  ,True  ,True  ,True  ,True  ,True\n",
    "  ,True  ,True  ,True  ,True  ,True  ,True  ,True  ,True  ,True  ,True  ,True  ,True\n",
    "  ,True  ,True  ,True  ,True  ,True  ,True  ,True  ,True  ,True  ,True  ,True  ,True\n",
    "  ,True  ,True  ,True  ,True  ,True  ,True ,False , True  ,True  ,True  ,True  ,True\n",
    "  ,True  ,True, False , True, False , True  ,True  ,True  ,True  ,True  ,True  ,True\n",
    "  ,True  ,True  ,True  ,True  ,True  ,True  ,True  ,True  ,True  ,True  ,True  ,True\n",
    " ,False , True  ,True  ,True]\n",
    "\n",
    "sess = tf.Session()\n",
    "\n",
    "a = tf.cast(correct_prediction, 'float')\n",
    "print(sess.run(a))\n",
    "sess.close()"
   ]
  },
  {
   "cell_type": "markdown",
   "metadata": {},
   "source": [
    "#### 예제2. 위의 출력된 결과에서 전체 개수 중에 1이 몇개나 되는지 확인하여 정확도가 아래와 같이 출력되게 하시오\n",
    "    결과: 0.93\n",
    "    전부 다 더해서 전체 개수로 나눈 값을 출력"
   ]
  },
  {
   "cell_type": "code",
   "execution_count": 42,
   "metadata": {
    "ExecuteTime": {
     "end_time": "2020-08-17T04:51:28.072629Z",
     "start_time": "2020-08-17T04:51:27.947707Z"
    }
   },
   "outputs": [
    {
     "name": "stdout",
     "output_type": "stream",
     "text": [
      "0.93\n"
     ]
    }
   ],
   "source": [
    "sess = tf.Session()\n",
    "\n",
    "a = tf.cast(correct_prediction, 'float')\n",
    "b = tf.reduce_mean(a)\n",
    "print(sess.run(b))\n",
    "sess.close()"
   ]
  },
  {
   "cell_type": "markdown",
   "metadata": {},
   "source": [
    "### <b>■ 텐서 플로우에서 mnist 데이터 가져오기</b>\n",
    "    텐서 플로우는 기본적으로 실습용으로 mnist 데이터가 내장되어 있다."
   ]
  },
  {
   "cell_type": "code",
   "execution_count": 48,
   "metadata": {
    "ExecuteTime": {
     "end_time": "2020-08-17T04:57:06.129942Z",
     "start_time": "2020-08-17T04:57:05.515321Z"
    }
   },
   "outputs": [
    {
     "name": "stdout",
     "output_type": "stream",
     "text": [
      "Extracting MNIST_data/train-images-idx3-ubyte.gz\n",
      "Extracting MNIST_data/train-labels-idx1-ubyte.gz\n",
      "Extracting MNIST_data/t10k-images-idx3-ubyte.gz\n",
      "Extracting MNIST_data/t10k-labels-idx1-ubyte.gz\n",
      "(100, 784)\n",
      "(100, 10)\n"
     ]
    }
   ],
   "source": [
    "import tensorflow as tf\n",
    "from tensorflow.examples.tutorials.mnist import input_data\n",
    "\n",
    "mnist = input_data.read_data_sets(\"MNIST_data/\", one_hot = True)\n",
    "\n",
    "batch_xs, batch_ys = mnist.train.next_batch(100) # 100개의 데이터만 가져오기\n",
    "\n",
    "print(batch_xs.shape)\n",
    "print(batch_ys.shape)"
   ]
  },
  {
   "cell_type": "markdown",
   "metadata": {},
   "source": [
    "### ※ 문제117. mnist데이터에서 test 데이터 100개를 불러오시오"
   ]
  },
  {
   "cell_type": "code",
   "execution_count": 49,
   "metadata": {
    "ExecuteTime": {
     "end_time": "2020-08-17T05:00:05.055172Z",
     "start_time": "2020-08-17T05:00:05.029188Z"
    }
   },
   "outputs": [
    {
     "name": "stdout",
     "output_type": "stream",
     "text": [
      "(100, 784)\n",
      "(100, 10)\n"
     ]
    }
   ],
   "source": [
    "batch_xs, batch_ys = mnist.test.next_batch(100)\n",
    "\n",
    "print(batch_xs.shape)\n",
    "print(batch_ys.shape)"
   ]
  },
  {
   "cell_type": "markdown",
   "metadata": {},
   "source": [
    "### <b>■ 텐서 플로우에서 배치단위로 데이터를 불러올 때 None의 의미</b>\n",
    "#### 예제1. 아래의 숫자 2로 채워진 행렬 (2,3) 행렬을 텐서 플로우로 작성"
   ]
  },
  {
   "cell_type": "code",
   "execution_count": 55,
   "metadata": {
    "ExecuteTime": {
     "end_time": "2020-08-17T05:03:43.438892Z",
     "start_time": "2020-08-17T05:03:43.392919Z"
    }
   },
   "outputs": [
    {
     "name": "stdout",
     "output_type": "stream",
     "text": [
      "[[2. 2. 2.]\n",
      " [2. 2. 2.]]\n"
     ]
    }
   ],
   "source": [
    "import tensorflow as tf\n",
    "x = tf.placeholder(\"float\",[2,3])\n",
    "sess = tf.Session()\n",
    "init = tf.global_variables_initializer()\n",
    "sess.run(init)\n",
    "print(sess.run(x, feed_dict={x:[[2,2,2],[2,2,2]]}))\n",
    "sess.close()"
   ]
  },
  {
   "cell_type": "markdown",
   "metadata": {},
   "source": [
    "#### 예제2. 위의 코드에서 [2,3] --> [None, 3] 으로 변경해서 실행하시오"
   ]
  },
  {
   "cell_type": "code",
   "execution_count": 57,
   "metadata": {
    "ExecuteTime": {
     "end_time": "2020-08-17T05:04:11.163915Z",
     "start_time": "2020-08-17T05:04:11.117944Z"
    }
   },
   "outputs": [
    {
     "name": "stdout",
     "output_type": "stream",
     "text": [
      "[[2. 2. 2.]\n",
      " [2. 2. 2.]\n",
      " [2. 2. 2.]]\n"
     ]
    }
   ],
   "source": [
    "import tensorflow as tf\n",
    "x = tf.placeholder(\"float\",[None,3]) # None으로 작성 -> 행의 개수 무관하게 작성 가능\n",
    "\n",
    "sess = tf.Session()\n",
    "init = tf.global_variables_initializer()\n",
    "\n",
    "sess.run(init)\n",
    "print(sess.run(x, feed_dict={x:[[2,2,2],[2,2,2],[2,2,2]]}))\n",
    "\n",
    "sess.close()"
   ]
  },
  {
   "cell_type": "markdown",
   "metadata": {},
   "source": [
    "### ※ 문제118. mnist 데이터 784(28x28)개에 맞게 x 변수를 placeholder로 선언하고 배치로 입력될 데이터의 건수는 몇개든 관계없이 None을 사용한 변수를 만들고 mnist 데이터를 x변수에 100개를 담고 출력"
   ]
  },
  {
   "cell_type": "code",
   "execution_count": 60,
   "metadata": {
    "ExecuteTime": {
     "end_time": "2020-08-17T05:12:05.018147Z",
     "start_time": "2020-08-17T05:12:04.373545Z"
    }
   },
   "outputs": [
    {
     "name": "stdout",
     "output_type": "stream",
     "text": [
      "Extracting MNIST_data/train-images-idx3-ubyte.gz\n",
      "Extracting MNIST_data/train-labels-idx1-ubyte.gz\n",
      "Extracting MNIST_data/t10k-images-idx3-ubyte.gz\n",
      "Extracting MNIST_data/t10k-labels-idx1-ubyte.gz\n",
      "(100, 784)\n"
     ]
    }
   ],
   "source": [
    "from tensorflow.examples.tutorials.mnist import input_data\n",
    "mnist = input_data.read_data_sets(\"MNIST_data/\", one_hot = True)\n",
    "\n",
    "x = tf.placeholder('float',[None,784])\n",
    "\n",
    "batch_xs, batch_ys = mnist.train.next_batch(100)\n",
    "\n",
    "init = tf.global_variables_initializer()\n",
    "\n",
    "with tf.Session() as sess:\n",
    "    sess.run(init)\n",
    "    print(sess.run(x, feed_dict={x:batch_xs}).shape)"
   ]
  },
  {
   "cell_type": "markdown",
   "metadata": {},
   "source": [
    "### <b>■ 텐서 플로우로 신경망을 만들 때 가중치를 생성하는 코드</b>"
   ]
  },
  {
   "cell_type": "code",
   "execution_count": 63,
   "metadata": {
    "ExecuteTime": {
     "end_time": "2020-08-17T05:16:31.907004Z",
     "start_time": "2020-08-17T05:16:31.822056Z"
    }
   },
   "outputs": [
    {
     "name": "stdout",
     "output_type": "stream",
     "text": [
      "(784, 50)\n"
     ]
    }
   ],
   "source": [
    "W1 = tf.Variable(tf.random_uniform([784,50],-1,1)) # [-1,1] 사이의 숫자로 (784,50) 행렬의 변수를 W1로 생성\n",
    "init = tf.global_variables_initializer()\n",
    "\n",
    "with tf.Session() as sess:\n",
    "    sess.run(init)\n",
    "    print(sess.run(W1).shape)"
   ]
  },
  {
   "cell_type": "markdown",
   "metadata": {},
   "source": [
    "### ※ 문제119. mnist의 훈련 데이터 (100,784)와 가중치 행렬 W1 (784,50)과 행렬곱(내적)한 결과를 출력하시오"
   ]
  },
  {
   "cell_type": "code",
   "execution_count": 65,
   "metadata": {
    "ExecuteTime": {
     "end_time": "2020-08-17T05:20:07.260939Z",
     "start_time": "2020-08-17T05:20:06.581359Z"
    }
   },
   "outputs": [
    {
     "name": "stdout",
     "output_type": "stream",
     "text": [
      "Extracting MNIST_data/train-images-idx3-ubyte.gz\n",
      "Extracting MNIST_data/train-labels-idx1-ubyte.gz\n",
      "Extracting MNIST_data/t10k-images-idx3-ubyte.gz\n",
      "Extracting MNIST_data/t10k-labels-idx1-ubyte.gz\n",
      "[[ -6.606185     3.0263307    1.0772773  ...  -9.260778    -0.5921345\n",
      "    2.9072022 ]\n",
      " [ -3.9356213   16.533857    -0.6530335  ...  -7.138557     1.1199387\n",
      "   -2.3136544 ]\n",
      " [ -4.938776    10.810218    -0.09185028 ... -11.143063    -8.253414\n",
      "    4.3693542 ]\n",
      " ...\n",
      " [ -2.5267358   10.737777     0.44050515 ...  -5.3788486   -1.6410785\n",
      "    2.015374  ]\n",
      " [ -2.5639768    0.7654307    1.4454873  ...  -5.053457    -1.6340002\n",
      "    5.377161  ]\n",
      " [ -7.069396     6.8005834   -1.6288438  ...  -6.4135303   -1.8623493\n",
      "    4.1806006 ]]\n"
     ]
    }
   ],
   "source": [
    "from tensorflow.examples.tutorials.mnist import input_data\n",
    "mnist = input_data.read_data_sets(\"MNIST_data/\", one_hot = True)\n",
    "\n",
    "x = tf.placeholder('float',[None,784])\n",
    "# 앞으로 행렬로 어떤 데이터를 feed_dict 할거라 placeholder로 생성\n",
    "batch_xs, batch_ys = mnist.train.next_batch(100)\n",
    "    \n",
    "W1 = tf.Variable(tf.random_uniform([784,50],-1,1)) \n",
    "rs = tf.matmul(x, W1)\n",
    "\n",
    "init = tf.global_variables_initializer()\n",
    "\n",
    "with tf.Session() as sess:\n",
    "    sess.run(init)\n",
    "    print(sess.run(rs, feed_dict={x:batch_xs}))"
   ]
  },
  {
   "cell_type": "markdown",
   "metadata": {},
   "source": [
    "### ※ 문제120. (1,50) bias 생성하는데 변수를 b로 해서 생성하고 숫자1로 다 채우시오"
   ]
  },
  {
   "cell_type": "code",
   "execution_count": 69,
   "metadata": {
    "ExecuteTime": {
     "end_time": "2020-08-17T05:29:36.770747Z",
     "start_time": "2020-08-17T05:29:36.666814Z"
    }
   },
   "outputs": [
    {
     "name": "stdout",
     "output_type": "stream",
     "text": [
      "[[1. 1. 1. 1. 1. 1. 1. 1. 1. 1. 1. 1. 1. 1. 1. 1. 1. 1. 1. 1. 1. 1. 1. 1.\n",
      "  1. 1. 1. 1. 1. 1. 1. 1. 1. 1. 1. 1. 1. 1. 1. 1. 1. 1. 1. 1. 1. 1. 1. 1.\n",
      "  1. 1.]]\n",
      "(1, 50)\n"
     ]
    }
   ],
   "source": [
    "b = tf.Variable(tf.ones([1,50]))\n",
    "\n",
    "init = tf.global_variables_initializer()\n",
    "\n",
    "with tf.Session() as sess:\n",
    "    sess.run(init)\n",
    "    print(sess.run(b))\n",
    "    print(sess.run(b).shape)"
   ]
  },
  {
   "cell_type": "markdown",
   "metadata": {},
   "source": [
    "### ※ 문제121. mnist 훈련 데이터 100개와 W1 (784, 50)으로 만든 가중치와 내적한 결과와 위의 bias의 합을 구하시오"
   ]
  },
  {
   "cell_type": "code",
   "execution_count": 74,
   "metadata": {
    "ExecuteTime": {
     "end_time": "2020-08-17T05:32:45.191461Z",
     "start_time": "2020-08-17T05:32:44.503886Z"
    }
   },
   "outputs": [
    {
     "name": "stdout",
     "output_type": "stream",
     "text": [
      "Extracting MNIST_data/train-images-idx3-ubyte.gz\n",
      "Extracting MNIST_data/train-labels-idx1-ubyte.gz\n",
      "Extracting MNIST_data/t10k-images-idx3-ubyte.gz\n",
      "Extracting MNIST_data/t10k-labels-idx1-ubyte.gz\n",
      "[[ 6.238037    8.98834    11.626779   ...  7.19136    -1.9642506\n",
      "  -6.152054  ]\n",
      " [ 4.2653418   5.134612    6.7903295  ...  4.772041   -1.7245097\n",
      "   3.3326375 ]\n",
      " [ 2.9617202  -1.1303968   2.6033964  ...  1.8364942   3.7090244\n",
      "   0.39990473]\n",
      " ...\n",
      " [ 0.6526172   2.88939    10.071863   ...  8.315824   -0.4677856\n",
      "  -3.9605932 ]\n",
      " [ 1.7657442   9.639545    8.359711   ...  4.585883    3.3009493\n",
      "   1.2603588 ]\n",
      " [-1.3883157   1.3874772   9.155603   ... -2.3095734   4.9295473\n",
      "   1.3065573 ]]\n"
     ]
    }
   ],
   "source": [
    "from tensorflow.examples.tutorials.mnist import input_data\n",
    "mnist = input_data.read_data_sets(\"MNIST_data/\", one_hot = True)\n",
    "\n",
    "x = tf.placeholder('float',[None,784])\n",
    "# 앞으로 행렬로 어떤 데이터를 feed_dict 할거라 placeholder로 생성\n",
    "batch_xs, batch_ys = mnist.train.next_batch(100)\n",
    "    \n",
    "W1 = tf.Variable(tf.random_uniform([784,50],-1,1)) \n",
    "b = tf.Variable(tf.ones([1,50]))\n",
    "rs = tf.matmul(x, W1) + b\n",
    "\n",
    "init = tf.global_variables_initializer()\n",
    "\n",
    "with tf.Session() as sess:\n",
    "    sess.run(init)\n",
    "    print(sess.run(rs, feed_dict={x:batch_xs}))"
   ]
  },
  {
   "cell_type": "markdown",
   "metadata": {},
   "source": [
    "### ※ 문제122. 위의 내적한 결과 y를 시그모이드 함수에 통과시켜서 y_hat으로 출력하시오"
   ]
  },
  {
   "cell_type": "code",
   "execution_count": 75,
   "metadata": {
    "ExecuteTime": {
     "end_time": "2020-08-17T05:34:30.300442Z",
     "start_time": "2020-08-17T05:34:29.574876Z"
    }
   },
   "outputs": [
    {
     "name": "stdout",
     "output_type": "stream",
     "text": [
      "Extracting MNIST_data/train-images-idx3-ubyte.gz\n",
      "Extracting MNIST_data/train-labels-idx1-ubyte.gz\n",
      "Extracting MNIST_data/t10k-images-idx3-ubyte.gz\n",
      "Extracting MNIST_data/t10k-labels-idx1-ubyte.gz\n",
      "[[2.92897224e-04 1.00224525e-01 9.99111474e-01 ... 8.86635482e-01\n",
      "  8.12573910e-01 8.97140622e-01]\n",
      " [6.86297715e-02 2.03251839e-03 9.84430432e-01 ... 8.38124990e-01\n",
      "  2.82424688e-03 9.71738935e-01]\n",
      " [4.23902810e-01 2.13101506e-03 9.88733530e-01 ... 6.20792031e-01\n",
      "  3.66568565e-06 1.27492547e-02]\n",
      " ...\n",
      " [3.98921967e-03 9.90533590e-01 9.37338769e-02 ... 9.70375419e-01\n",
      "  2.68167853e-01 9.89655375e-01]\n",
      " [7.01248646e-05 1.39116943e-02 9.99566078e-01 ... 4.85259742e-01\n",
      "  1.61417007e-01 6.35398805e-01]\n",
      " [1.67247653e-03 6.00573421e-03 8.56327295e-01 ... 7.68782377e-01\n",
      "  4.18158472e-02 9.99859214e-01]]\n"
     ]
    }
   ],
   "source": [
    "from tensorflow.examples.tutorials.mnist import input_data\n",
    "mnist = input_data.read_data_sets(\"MNIST_data/\", one_hot = True)\n",
    "\n",
    "x = tf.placeholder('float',[None,784])\n",
    "# 앞으로 행렬로 어떤 데이터를 feed_dict 할거라 placeholder로 생성\n",
    "batch_xs, batch_ys = mnist.train.next_batch(100)\n",
    "    \n",
    "W1 = tf.Variable(tf.random_uniform([784,50],-1,1)) \n",
    "b = tf.Variable(tf.ones([1,50]))\n",
    "rs = tf.matmul(x, W1) + b\n",
    "\n",
    "y_hat = tf.sigmoid(rs)\n",
    "\n",
    "init = tf.global_variables_initializer()\n",
    "\n",
    "with tf.Session() as sess:\n",
    "    sess.run(init)\n",
    "    print(sess.run(y_hat, feed_dict={x:batch_xs}))"
   ]
  },
  {
   "cell_type": "markdown",
   "metadata": {},
   "source": [
    "### ※ 문제123. 위의 활성화 함수를 sigmoid에서 relu로 변경하시오"
   ]
  },
  {
   "cell_type": "code",
   "execution_count": 77,
   "metadata": {
    "ExecuteTime": {
     "end_time": "2020-08-17T05:38:51.372262Z",
     "start_time": "2020-08-17T05:38:50.570757Z"
    }
   },
   "outputs": [
    {
     "name": "stdout",
     "output_type": "stream",
     "text": [
      "Extracting MNIST_data/train-images-idx3-ubyte.gz\n",
      "Extracting MNIST_data/train-labels-idx1-ubyte.gz\n",
      "Extracting MNIST_data/t10k-images-idx3-ubyte.gz\n",
      "Extracting MNIST_data/t10k-labels-idx1-ubyte.gz\n",
      "[[ 5.404805    0.         12.500315   ...  0.          0.86951053\n",
      "   0.        ]\n",
      " [ 1.4221957   4.131101    6.9718895  ...  0.          2.6015842\n",
      "   0.77431184]\n",
      " [ 7.3012156   0.          6.3533626  ...  5.0717263   0.\n",
      "   0.        ]\n",
      " ...\n",
      " [ 7.2641616   0.          7.71401    ...  4.5675993   0.78730726\n",
      "   0.27933908]\n",
      " [ 1.5166872   0.          4.178323   ...  7.192248    2.5692124\n",
      "   4.812578  ]\n",
      " [ 3.3317857   0.          0.         ...  5.887022    2.6854236\n",
      "   0.        ]]\n"
     ]
    }
   ],
   "source": [
    "from tensorflow.examples.tutorials.mnist import input_data\n",
    "mnist = input_data.read_data_sets(\"MNIST_data/\", one_hot = True)\n",
    "\n",
    "x = tf.placeholder('float',[None,784])\n",
    "# 앞으로 행렬로 어떤 데이터를 feed_dict 할거라 placeholder로 생성\n",
    "batch_xs, batch_ys = mnist.train.next_batch(100)\n",
    "    \n",
    "W1 = tf.Variable(tf.random_uniform([784,50],-1,1)) \n",
    "b = tf.Variable(tf.ones([1,50]))\n",
    "rs = tf.matmul(x, W1) + b\n",
    "\n",
    "y_hat = tf.nn.relu(rs)\n",
    "\n",
    "init = tf.global_variables_initializer()\n",
    "\n",
    "with tf.Session() as sess:\n",
    "    sess.run(init)\n",
    "    print(sess.run(y_hat, feed_dict={x:batch_xs}))"
   ]
  },
  {
   "cell_type": "markdown",
   "metadata": {},
   "source": [
    "### ※ 문제124. 위의 1층 신경망을 통과한 y_hat (100,50)과 (50,10) 으로 만든 W2와의 내적한 결과가 z로 출력되게끔 출력층 코드를 추가하시오"
   ]
  },
  {
   "cell_type": "code",
   "execution_count": 80,
   "metadata": {
    "ExecuteTime": {
     "end_time": "2020-08-17T06:06:57.882366Z",
     "start_time": "2020-08-17T06:06:57.123834Z"
    }
   },
   "outputs": [
    {
     "name": "stdout",
     "output_type": "stream",
     "text": [
      "Extracting MNIST_data/train-images-idx3-ubyte.gz\n",
      "Extracting MNIST_data/train-labels-idx1-ubyte.gz\n",
      "Extracting MNIST_data/t10k-images-idx3-ubyte.gz\n",
      "Extracting MNIST_data/t10k-labels-idx1-ubyte.gz\n",
      "[[-7.10862541e+00 -1.53333855e+01 -2.22393837e+01 -4.15927124e+01\n",
      "  -1.03115921e+01 -6.56896973e+00 -1.08590374e+01 -2.75789661e+01\n",
      "   1.35529690e+01  2.52315006e+01]\n",
      " [ 1.93139935e+00 -3.67275543e+01 -6.22521544e+00 -5.47236481e+01\n",
      "  -2.01815300e+01  2.21018829e+01 -1.12713604e+01 -3.48640785e+01\n",
      "   8.22161388e+00  2.92435684e+01]\n",
      " [-9.25604725e+00 -1.00887604e+01  1.89971066e+01 -2.34644184e+01\n",
      "   7.93770885e+00  5.18727922e+00 -7.84276009e-01 -1.10859919e+01\n",
      "  -1.38790112e+01  4.60087013e+00]\n",
      " [ 2.81498194e+00 -1.63552094e+01  2.47417974e+00 -3.61777229e+01\n",
      "  -1.18232126e+01  3.43369865e+01 -1.49229565e+01 -3.42680588e+01\n",
      "  -1.74873695e+01  1.80363503e+01]\n",
      " [-1.87543297e+01 -2.07667007e+01 -8.45582008e+00 -1.53031349e+01\n",
      "   1.12859213e+00  8.82600975e+00 -1.56886959e+01 -9.01890945e+00\n",
      "  -2.01462612e+01 -6.79623127e+00]\n",
      " [ 1.36238871e+01 -3.92190590e+01 -1.82409534e+01 -1.95418606e+01\n",
      "  -1.56602554e+01 -9.06024742e+00 -1.37985764e+01 -2.58693123e+01\n",
      "  -9.00672150e+00  2.32384968e+01]\n",
      " [ 6.80014515e+00 -2.22400970e+01  4.39280033e+00 -1.74151764e+01\n",
      "   1.05482702e+01  8.66035843e+00  2.27115393e+00 -2.12426052e+01\n",
      "  -4.22777605e+00  2.19874649e+01]\n",
      " [ 1.36966619e+01 -4.14759874e+00 -6.09891748e+00 -2.33262558e+01\n",
      "  -1.09659214e+01  5.86043835e+00  1.12948990e+01 -1.44250402e+01\n",
      "   3.41085434e+00  7.25423622e+00]\n",
      " [-1.45944023e+00 -1.68691216e+01 -4.28725100e+00 -4.00992508e+01\n",
      "  -1.60811710e+01 -9.66540527e+00  2.77442646e+00 -1.34739380e+01\n",
      "   1.57672787e+00  5.25108910e+00]\n",
      " [ 1.32435169e+01 -7.89211941e+00 -1.48035975e+01 -2.31276512e+01\n",
      "  -2.78847179e+01  9.73964214e-01 -1.26779366e+01 -3.20689812e+01\n",
      "  -1.44828820e+00  2.55786114e+01]\n",
      " [ 4.00334454e+00 -2.11554413e+01  1.57170177e+00 -1.31300106e+01\n",
      "   3.83667207e+00  6.53082180e+00 -2.50556660e+01 -2.56655331e+01\n",
      "   2.18521919e+01  1.60659790e+01]\n",
      " [-3.11340809e-01 -2.80149097e+01 -2.76130714e+01 -2.99381466e+01\n",
      "  -9.55044842e+00  1.48346653e+01 -2.46108494e+01 -2.05937901e+01\n",
      "  -1.25084553e+01  2.55066376e+01]\n",
      " [ 6.50616741e+00 -1.39457207e+01 -1.94723463e+00 -3.87698250e+01\n",
      "  -2.72433815e+01  3.28193665e-01  1.54035187e+00 -3.35949783e+01\n",
      "   8.85887146e-02  7.50899792e+00]\n",
      " [-1.55866737e+01 -2.02057629e+01 -1.28911743e+01 -1.61560287e+01\n",
      "   3.64160633e+00 -9.93210983e+00 -1.15705967e+01 -2.80465927e+01\n",
      "   2.27008171e+01  8.27820778e+00]\n",
      " [ 4.27857304e+00 -3.04230537e+01 -4.53078938e+00 -4.52537766e+01\n",
      "  -3.16464272e+01  1.84396591e+01 -3.13159943e+01 -3.08394413e+01\n",
      "   9.99433327e+00  3.30364380e+01]\n",
      " [-1.00812273e+01 -1.33398523e+01 -2.23618374e+01 -2.66763554e+01\n",
      "  -7.10932255e+00  1.08151617e+01 -1.55738411e+01 -1.87157974e+01\n",
      "  -3.83565140e+00  1.14523306e+01]\n",
      " [ 8.40983391e+00 -5.60692835e+00 -7.20282555e+00 -1.42407026e+01\n",
      "  -6.71030998e-01 -3.13950300e-01 -1.01092424e+01 -2.28149090e+01\n",
      "   1.52630196e+01  1.79497986e+01]\n",
      " [-1.21642056e+01 -9.19397163e+00 -1.25207300e+01 -1.92213383e+01\n",
      "  -2.06750698e+01  1.29438286e+01 -1.29346943e+01 -1.44269085e+01\n",
      "  -4.05191374e+00  1.38917465e+01]\n",
      " [ 3.22416925e+00 -2.26196899e+01  9.52157736e-01 -1.51539097e+01\n",
      "   7.50289488e+00  1.02732887e+01 -2.35532703e+01 -2.33631439e+01\n",
      "   2.67084465e+01  1.26675873e+01]\n",
      " [-1.71786785e-01 -3.07092896e+01 -2.30359955e+01 -3.12004700e+01\n",
      "  -6.55193615e+00  1.27520428e+01 -3.03843079e+01 -3.30241852e+01\n",
      "  -1.47815313e+01  3.91159134e+01]\n",
      " [ 5.07180929e+00 -2.54887009e+01  4.15844631e+00 -1.33425884e+01\n",
      "  -7.70427823e-01 -1.24304972e+01 -1.19046755e+01  1.79401195e+00\n",
      "   4.56537008e+00  7.97052908e+00]\n",
      " [-5.29404831e+00 -9.57618713e+00 -6.59002781e-01 -2.05480232e+01\n",
      "  -1.42385321e+01  1.29307947e+01 -1.46707211e+01 -2.52842979e+01\n",
      "   8.96254539e+00  1.86694145e+01]\n",
      " [ 2.06081581e+00 -2.37424335e+01  1.16261339e+01 -1.77009773e+01\n",
      "   4.69313812e+00  1.31676254e+01 -7.64000893e+00 -3.82975864e+00\n",
      "  -1.18337736e+01 -1.43868694e+01]\n",
      " [ 3.16454649e-01 -1.95253582e+01 -2.28476486e+01 -2.75500565e+01\n",
      "  -1.22780657e+01  7.41253901e+00 -1.21120062e+01 -2.98817005e+01\n",
      "   6.66925144e+00  2.07364063e+01]\n",
      " [ 6.71908855e-02 -1.07851171e+01 -4.53221512e+00 -1.73076572e+01\n",
      "   1.86273932e+00  8.78183460e+00 -1.87557564e+01 -1.48477879e+01\n",
      "   2.28881493e+01  7.87254238e+00]\n",
      " [-5.49027252e+00 -2.29864216e+01 -2.47605729e+00 -8.35307312e+00\n",
      "  -7.25068760e+00 -2.11313319e+00 -1.68671551e+01 -2.55189495e+01\n",
      "   1.17523298e+01  5.08438730e+00]\n",
      " [ 3.73748875e+00 -2.18662891e+01 -1.26404505e+01 -8.73677921e+00\n",
      "  -6.51609039e+00  7.65354824e+00 -1.96265659e+01 -2.60797005e+01\n",
      "   2.38939648e+01  1.30935869e+01]\n",
      " [-1.55543098e+01 -2.08929691e+01 -2.34423237e+01 -5.48858376e+01\n",
      "  -2.95487556e+01 -1.19424744e+01 -2.16361446e+01 -6.08135300e+01\n",
      "   3.12425823e+01  2.79596443e+01]\n",
      " [-7.19978142e+00 -3.20361671e+01 -5.60367060e+00 -1.30386696e+01\n",
      "  -1.63713284e+01  1.65440750e+01 -1.21008186e+01 -1.63370056e+01\n",
      "  -3.10302019e-01  6.87294006e-02]\n",
      " [ 1.61240501e+01 -2.04506989e+01 -1.36812658e+01 -6.84457779e+00\n",
      "  -1.87410889e+01 -1.36138916e+00 -5.86407185e+00 -1.27459106e+01\n",
      "  -1.17575884e+01  6.09725428e+00]\n",
      " [ 1.29912577e+01 -1.21076479e+01  2.42784405e+00 -4.20116425e+01\n",
      "  -1.82648230e+00  1.18854942e+01 -6.83293152e+00 -2.35310116e+01\n",
      "   5.47611332e+00  1.43219070e+01]\n",
      " [-1.72357273e+01 -3.65881615e+01 -3.43212776e+01 -1.92710781e+01\n",
      "  -1.83687668e+01  1.42879753e+01 -3.72190170e+01 -5.13046417e+01\n",
      "   9.77743912e+00  2.66172361e+00]\n",
      " [-7.89943886e+00 -1.46316299e+01  5.61605167e+00 -7.59225178e+00\n",
      "   7.01270485e+00 -1.46136856e+00 -2.19228888e+00 -8.14926147e+00\n",
      "  -1.09147978e+00  2.02967358e+01]\n",
      " [ 9.40086746e+00 -2.81088276e+01 -2.29899025e+00 -2.00903111e+01\n",
      "  -4.35731125e+00 -1.61125755e+01 -2.48386497e+01 -4.72241669e+01\n",
      "   3.16970015e+00  2.62650642e+01]\n",
      " [ 2.34312401e+01 -1.80596390e+01 -3.58066444e+01 -3.34835701e+01\n",
      "  -2.64809895e+01  1.32904806e+01 -8.23416710e+00 -5.51504288e+01\n",
      "   3.24127274e+01  3.69075966e+01]\n",
      " [-8.83434296e+00 -1.63749619e+01 -8.28264999e+00 -2.65780849e+01\n",
      "   1.62738762e+01  6.17869663e+00 -1.76826401e+01 -3.14725952e+01\n",
      "  -6.90949726e+00  1.74982357e+01]\n",
      " [-1.69715786e+00 -1.83731213e+01  5.02461767e+00 -5.07551765e+00\n",
      "  -4.43577461e+01  7.14279175e+00 -1.91981277e+01 -3.51063080e+01\n",
      "   1.08913660e+01 -3.12654543e+00]\n",
      " [-6.00176525e+00 -4.51236725e+01 -8.03593445e+00 -3.05659447e+01\n",
      "  -1.21818151e+01  2.25085621e+01 -2.43978157e+01 -3.56535988e+01\n",
      "   5.56522560e+00  5.08747482e+00]\n",
      " [-2.36101484e+00 -2.90552788e+01 -7.41147232e+00 -1.56323242e+01\n",
      "  -1.70720215e+01  2.02191429e+01 -7.27740097e+00 -2.38365307e+01\n",
      "   9.46892166e+00  3.98797798e+00]\n",
      " [ 1.02718248e+01 -1.61167660e+01 -2.74651241e+00 -1.01309509e+01\n",
      "   1.85554862e+00  4.36598492e+00 -2.59237919e+01 -2.16159973e+01\n",
      "   1.67232628e+01  1.55717278e+01]\n",
      " [-2.80646133e+00 -1.93659134e+01  6.63581991e+00 -1.58826008e+01\n",
      "   1.07732162e+01  3.90406418e+00 -1.44309464e+01 -1.04088326e+01\n",
      "  -2.42169724e+01  1.68898678e+00]\n",
      " [ 1.28896208e+01 -8.22384262e+00 -1.32056379e+01 -4.36257706e+01\n",
      "  -2.68422871e+01  2.79160938e+01  3.19190025e-02 -2.29577770e+01\n",
      "  -6.00258923e+00  2.49714565e+01]\n",
      " [-9.58367443e+00 -3.27897501e+00 -1.37297988e+00 -2.29703999e+01\n",
      "  -1.58695393e+01  1.53934264e+00 -9.93895531e+00 -2.72213497e+01\n",
      "   8.35064697e+00  1.28721390e+01]\n",
      " [ 1.88195305e+01 -1.19948673e+01 -1.25610828e+01 -2.88327541e+01\n",
      "  -6.52168655e+00 -1.12283859e+01 -3.98798513e+00 -2.45427780e+01\n",
      "  -2.11506100e+01  2.53649597e+01]\n",
      " [ 1.84413319e+01 -2.59076786e+00 -1.12083702e+01 -1.50785789e+01\n",
      "  -4.05481529e+00 -8.84866142e+00 -2.04849195e+00 -2.16662750e+01\n",
      "   1.21659832e+01  1.84893465e+00]\n",
      " [-1.91557884e+00 -1.98797302e+01  3.12977743e+00 -2.55220985e+01\n",
      "  -1.07010841e+01  1.21033783e+01 -6.68682575e+00 -4.27357750e+01\n",
      "  -1.21781473e+01  1.49732647e+01]\n",
      " [-1.96264343e+01 -1.82366676e+01  3.63931966e+00 -2.66439018e+01\n",
      "  -6.15613818e-01  1.50516949e+01 -2.43208027e+01 -3.17174530e+01\n",
      "  -1.24260950e+00  1.34686985e+01]\n",
      " [-2.13673210e+01 -4.68705559e+01 -2.27519283e+01 -1.83356743e+01\n",
      "  -1.96683292e+01  5.59545231e+00 -9.23145390e+00 -2.30773373e+01\n",
      "   1.89452553e+01  6.19523001e+00]\n",
      " [-5.68659115e+00 -1.39921856e+01  1.24112263e+01 -2.21525192e+01\n",
      "  -3.26597023e+01 -4.08664227e-01 -1.13796101e+01 -2.77467880e+01\n",
      "   6.06831789e+00  8.81456566e+00]\n",
      " [-1.22895598e+00 -1.96684361e+01 -7.07598400e+00 -2.83638687e+01\n",
      "  -1.21377449e+01  1.16296988e+01 -2.79171696e+01 -2.26049938e+01\n",
      "   2.84353662e+00  2.15007229e+01]\n",
      " [-5.72315311e+00 -1.61250496e+01 -1.87795448e+01 -1.85616779e+01\n",
      "  -6.20667219e+00 -9.50221348e+00 -1.43611717e+00 -3.01231499e+01\n",
      "   3.09006996e+01  6.63395309e+00]\n",
      " [-1.01301050e+00 -1.47859364e+01  2.33548260e+00 -9.99814510e+00\n",
      "  -5.36282635e+00 -1.61061573e+00 -1.34285908e+01 -1.76652813e+01\n",
      "  -8.56366348e+00 -9.72410202e-01]\n",
      " [-9.27815342e+00 -1.24825716e+01  5.04535580e+00 -1.50305176e+01\n",
      "   2.16159153e+00  2.29149342e-01 -7.83942032e+00 -7.69488144e+00\n",
      "  -9.08000088e+00  1.13747606e+01]\n",
      " [ 4.04016113e+00 -3.17336960e+01 -1.54160633e+01 -4.42718582e+01\n",
      "   2.35362554e+00  1.10605354e+01  3.33481789e-01 -3.30240211e+01\n",
      "  -9.79546738e+00  1.47402020e+01]\n",
      " [ 7.00635433e+00 -2.67494850e+01 -7.11530972e+00 -1.05663986e+01\n",
      "  -1.45943737e+01  7.53625345e+00 -8.07021141e+00 -1.69079399e+01\n",
      "   1.41768379e+01  1.02939129e+01]\n",
      " [-2.52180958e+01 -4.23750343e+01 -3.11230431e+01 -2.45964699e+01\n",
      "  -2.33952904e+01  1.25627251e+01 -1.32593288e+01 -2.23907013e+01\n",
      "   1.58469963e+01  1.27786160e+01]\n",
      " [-3.16322803e-01 -1.33373795e+01 -9.20781136e-01 -2.27877121e+01\n",
      "  -1.13497772e+01 -1.64112244e+01 -1.53385162e-01 -3.88470745e+00\n",
      "   7.18685055e+00 -8.77836823e-01]\n",
      " [-1.95247650e+01 -4.14726906e+01 -1.83276634e+01 -1.68281956e+01\n",
      "  -1.35740042e-02  1.33909178e+01 -1.84881706e+01 -1.92332211e+01\n",
      "   2.24791012e+01  5.88431025e+00]\n",
      " [ 4.75906372e-01 -2.19231262e+01 -3.01119633e+01 -2.77152672e+01\n",
      "  -3.01678514e+00  9.59315681e+00 -2.25581608e+01 -2.68932724e+01\n",
      "   5.28810120e+00  3.41794777e+01]\n",
      " [ 8.80997658e+00 -8.09600258e+00 -9.81886101e+00 -2.97654896e+01\n",
      "   1.51362171e+01  9.30223370e+00 -1.80418091e+01 -1.57013111e+01\n",
      "  -1.83246708e+00  7.39228106e+00]\n",
      " [-2.82306900e+01 -2.53797379e+01 -2.87350101e+01 -3.57636490e+01\n",
      "  -7.53464222e+00 -1.53959141e+01 -2.17376747e+01 -3.42330055e+01\n",
      "   2.50800171e+01  2.46761856e+01]\n",
      " [ 1.48825340e+01 -2.35518551e+01 -1.93143845e-01 -4.32847900e+01\n",
      "  -4.24554634e+01  3.57371216e+01 -1.49226665e+01 -6.78781080e+00\n",
      "   5.82777691e+00  3.00139256e+01]\n",
      " [ 3.22005749e-02 -1.57959042e+01 -1.36222839e+00 -3.71676445e+01\n",
      "  -7.61051655e+00  1.50303707e+01 -1.19150887e+01 -3.48291512e+01\n",
      "   3.60869789e+00  3.77225399e+00]\n",
      " [-1.70427322e+01 -2.95140095e+01 -2.80615120e+01 -1.91188965e+01\n",
      "  -2.10166988e+01  8.76856136e+00 -1.04915142e+01 -2.17935467e+01\n",
      "   1.83543224e+01  1.30430403e+01]\n",
      " [ 6.81906605e+00 -1.56633911e+01 -1.71217232e+01 -1.51452656e+01\n",
      "  -4.80819941e+00  5.25403023e+00 -1.79638996e+01 -2.93167362e+01\n",
      "   2.37048531e+01  9.37133789e+00]\n",
      " [ 2.63175225e+00 -4.29095268e+01 -2.49362922e+00 -5.44604111e+01\n",
      "   1.86610374e+01  1.73598747e+01 -2.58040333e+00 -4.26866913e+01\n",
      "   1.56143312e+01  1.79995728e+01]\n",
      " [-5.22891426e+00 -1.19762268e+01 -7.47650433e+00 -3.36444511e+01\n",
      "  -4.39864206e+00 -1.18293629e+01  2.27884817e+00 -1.91876965e+01\n",
      "   6.33287430e-02  5.57107639e+00]\n",
      " [-8.34069633e+00 -3.36972351e+01 -2.99448776e+01 -3.57316666e+01\n",
      "  -3.02796707e+01  5.31033039e+00 -1.79284382e+01 -4.51818733e+01\n",
      "   9.65528965e+00  1.14359446e+01]\n",
      " [ 7.43095016e+00 -2.94513454e+01 -1.49455032e+01 -7.07558250e+00\n",
      "  -1.58474693e+01  6.55727386e+00 -1.42450199e+01 -1.20898142e+01\n",
      "   2.49510918e+01  1.83038635e+01]\n",
      " [-1.56149769e+00 -4.19675827e+01 -2.32749825e+01 -1.94075432e+01\n",
      "   1.35777879e+00  1.55321646e+01 -1.37103128e+01 -2.19183846e+01\n",
      "   5.67047739e+00 -1.82131767e-01]\n",
      " [-6.32663298e+00 -4.20851288e+01  4.10161304e+00 -2.39946327e+01\n",
      "   1.11991310e+01  1.63648758e+01 -1.71702538e+01 -2.26376228e+01\n",
      "   2.57844996e+00  1.38206024e+01]\n",
      " [-8.37958050e+00 -4.28066940e+01 -1.24675369e+01 -2.90438843e+01\n",
      "  -7.94620132e+00  2.21107330e+01 -1.27486553e+01 -2.43658295e+01\n",
      "  -4.45152760e+00 -2.10143948e+00]\n",
      " [ 3.43799353e+00 -2.15210629e+01 -7.10406065e-01 -2.12956142e+01\n",
      "   3.84996724e+00  3.23134279e+00  3.42812181e+00 -2.14954052e+01\n",
      "  -2.20590401e+00  2.08660202e+01]\n",
      " [-1.10545721e+01 -7.35885906e+00  4.82603168e+00 -2.46124601e+00\n",
      "   1.34472513e+01  3.02424240e+00 -2.04989529e+01 -3.16247253e+01\n",
      "   8.67440987e+00  5.70531940e+00]\n",
      " [ 2.27354360e+00 -2.84572792e+01 -2.25131359e+01 -3.05778084e+01\n",
      "  -7.38461590e+00  1.30576515e+01 -5.14750051e+00 -3.99728889e+01\n",
      "  -1.05331850e+00  2.72504025e+01]\n",
      " [ 1.43373623e+01 -1.62939606e+01 -1.46157589e+01 -2.82530632e+01\n",
      "  -1.13094282e+01  5.17177486e+00 -5.09467506e+00 -3.40884171e+01\n",
      "  -2.28352757e+01  7.57458115e+00]\n",
      " [-1.63554497e+01 -2.05136452e+01 -2.39961853e+01 -1.64525566e+01\n",
      "  -1.31809015e+01  1.41010475e+01 -1.39334316e+01 -3.22573700e+01\n",
      "   1.00221806e+01  1.92023621e+01]\n",
      " [ 1.66329074e+00 -1.85138836e+01  1.04568362e-01 -1.75886688e+01\n",
      "   2.01322079e-01  1.04705801e+01 -2.26155319e+01 -2.10632038e+01\n",
      "   2.58156109e+01  1.15375843e+01]\n",
      " [-2.11002922e+00 -1.00888872e+01 -8.10440445e+00 -5.98940086e+00\n",
      "   4.60824537e+00 -3.32745647e+00 -9.95733833e+00 -2.24114113e+01\n",
      "   3.26907039e+00  1.38764515e+01]\n",
      " [-8.63049889e+00 -1.11076050e+01 -1.11696329e+01 -3.54371300e+01\n",
      "   8.99255753e+00 -1.78777256e+01 -4.18695068e+00 -1.32611895e+01\n",
      "  -4.26098919e+00  1.01794157e+01]\n",
      " [ 2.54796529e+00 -5.93019629e+00 -6.08382702e-01 -3.12604980e+01\n",
      "  -1.83823528e+01  1.91103077e+01 -3.58795547e+01 -4.17624702e+01\n",
      "   1.65836678e+01  2.38959370e+01]\n",
      " [ 2.06410675e+01 -1.94137788e+00  1.35096431e+00 -2.16232567e+01\n",
      "  -1.28745441e+01  5.80914402e+00  1.30463457e+01 -8.34103107e+00\n",
      "  -8.87386322e+00  1.70517464e+01]\n",
      " [ 2.52761650e+01 -1.11223450e+01 -2.55126905e+00 -5.05884438e+01\n",
      "  -5.05775833e+01  3.12280273e+01 -1.35044060e+01 -9.03395653e+00\n",
      "   6.74352646e+00  2.75724525e+01]\n",
      " [-2.75302353e+01 -3.50813484e+01 -1.65161324e+01 -1.63948174e+01\n",
      "  -6.52420187e+00  1.80611992e+01 -1.68292332e+01 -1.59447384e+01\n",
      "  -1.34613943e+00 -1.56903973e+01]\n",
      " [ 3.44115067e+00 -2.66011486e+01 -2.26616650e+01 -3.07114811e+01\n",
      "  -6.05577612e+00  6.71725273e-01 -6.19817162e+00 -3.32655296e+01\n",
      "   3.12417526e+01  2.16357670e+01]\n",
      " [-1.76981831e+00 -8.40313530e+00  1.19393635e+01 -3.79605770e+00\n",
      "   1.55397863e+01  3.03259778e+00 -2.68144283e+01 -1.84128075e+01\n",
      "   1.30848122e+01  8.49147439e-01]\n",
      " [ 2.07184906e+01 -6.57272053e+00 -1.67597198e+01 -2.65346012e+01\n",
      "  -4.34857273e+00  4.73677731e+00 -1.36155777e+01 -3.04299660e+01\n",
      "  -6.32593727e+00  1.52788219e+01]\n",
      " [ 3.99311590e+00 -1.52937584e+01 -1.55589504e+01 -1.22775106e+01\n",
      "  -1.28327341e+01 -4.11699295e-01 -1.45895433e+01 -1.41644106e+01\n",
      "   3.52063632e+00  1.67804108e+01]\n",
      " [-1.68360367e+01 -4.55231056e+01 -2.48938618e+01 -1.41201344e+01\n",
      "  -8.97340679e+00  1.08880482e+01 -2.88691216e+01 -1.97521553e+01\n",
      "   1.85821476e+01  1.26335230e+01]\n",
      " [-2.39080524e+00 -1.89062157e+01  1.31359282e+01 -1.20690060e+01\n",
      "   6.62352848e+00  1.44585133e+01 -1.03726883e+01  7.86059809e+00\n",
      "  -1.27381935e+01  3.69557905e+00]\n",
      " [ 3.51049995e+00 -2.61643677e+01  3.09394836e-01 -3.15025978e+01\n",
      "  -1.71411324e+01 -1.20847588e+01 -2.68259430e+00 -2.92737656e+01\n",
      "  -1.52415714e+01  2.28467560e+01]\n",
      " [-6.12335777e+00 -1.88669205e+01 -5.95604801e+00 -2.42212715e+01\n",
      "  -8.73384857e+00  3.58179235e+00 -1.04049339e+01 -1.75162582e+01\n",
      "   3.93198919e+00  1.14807720e+01]\n",
      " [-7.59974003e+00 -1.74165297e+00 -4.12776232e+00 -6.37891626e+00\n",
      "  -1.65620995e+01 -1.37550392e+01 -1.03757896e+01 -1.79900208e+01\n",
      "  -1.69845676e+00  1.91075993e+01]\n",
      " [-1.29350777e+01 -1.15948372e+01  1.63917303e+00 -2.38749199e+01\n",
      "  -1.47470922e+01  1.75917816e+00  7.87778807e+00 -3.46635132e+01\n",
      "   7.83333397e+00  6.00496292e+00]\n",
      " [-4.67506886e-01 -2.16529408e+01 -1.16221266e+01 -2.26751289e+01\n",
      "  -4.72808599e-01  1.00173740e+01 -2.78630447e+01  2.70068884e+00\n",
      "  -1.54343624e+01  2.27013855e+01]\n",
      " [-6.57664585e+00 -2.60166664e+01  6.10030413e+00 -1.07242832e+01\n",
      "   4.33234930e+00  3.77208233e+00 -1.50588245e+01 -2.19933453e+01\n",
      "   1.10454350e+01  2.11617165e+01]\n",
      " [-1.00408640e+01 -4.40033417e+01 -2.17926540e+01 -4.83031082e+01\n",
      "  -1.71670189e+01  4.26270294e+00 -8.87637138e-01 -4.95304832e+01\n",
      "   1.97543068e+01  2.62904053e+01]\n",
      " [-1.18475971e+01 -1.63630867e+01 -1.68112717e+01 -1.27684937e+01\n",
      "  -2.16594601e+01 -4.22437906e-01  1.82574284e+00 -2.74877300e+01\n",
      "   2.27351494e+01  8.68903923e+00]\n",
      " [ 4.05715895e+00 -2.60186806e+01 -1.01114655e+00 -5.29182777e+01\n",
      "   6.70231009e+00  1.61427612e+01  5.58805370e+00 -3.50366745e+01\n",
      "  -7.89865780e+00  1.35050783e+01]\n",
      " [-1.15308952e+01 -2.25351830e+01 -2.07892551e+01 -1.41499166e+01\n",
      "  -1.49200611e+01 -5.83467436e+00 -1.18126831e+01 -2.53759499e+01\n",
      "   2.10572681e+01  3.91195416e+00]]\n"
     ]
    }
   ],
   "source": [
    "mnist = input_data.read_data_sets(\"MNIST_data/\", one_hot = True)\n",
    "batch_xs, batch_ys = mnist.train.next_batch(100)\n",
    "\n",
    "# 은닉1층\n",
    "x = tf.placeholder('float',[None,784])\n",
    "W1 = tf.Variable(tf.random_uniform([784,50],-1,1)) \n",
    "b1 = tf.Variable(tf.ones([1,50]))\n",
    "y = tf.matmul(x, W1) + b1\n",
    "y_hat = tf.nn.relu(y)\n",
    "\n",
    "# 출력층\n",
    "W2 = tf.Variable(tf.random_uniform([50,10],-1,1))\n",
    "b2 = tf.Variable(tf.ones([1,10]))\n",
    "z = tf.matmul(y_hat,W2) + b2\n",
    "\n",
    "init = tf.global_variables_initializer()\n",
    "\n",
    "with tf.Session() as sess:\n",
    "    sess.run(init)\n",
    "    print(sess.run(z, feed_dict={x:batch_xs}))"
   ]
  },
  {
   "cell_type": "code",
   "execution_count": null,
   "metadata": {},
   "outputs": [],
   "source": []
  },
  {
   "cell_type": "code",
   "execution_count": null,
   "metadata": {},
   "outputs": [],
   "source": []
  },
  {
   "cell_type": "code",
   "execution_count": null,
   "metadata": {},
   "outputs": [],
   "source": []
  }
 ],
 "metadata": {
  "kernelspec": {
   "display_name": "Python 3",
   "language": "python",
   "name": "python3"
  },
  "language_info": {
   "codemirror_mode": {
    "name": "ipython",
    "version": 3
   },
   "file_extension": ".py",
   "mimetype": "text/x-python",
   "name": "python",
   "nbconvert_exporter": "python",
   "pygments_lexer": "ipython3",
   "version": "3.7.6"
  },
  "toc": {
   "base_numbering": 1,
   "nav_menu": {},
   "number_sections": true,
   "sideBar": true,
   "skip_h1_title": false,
   "title_cell": "Table of Contents",
   "title_sidebar": "Contents",
   "toc_cell": false,
   "toc_position": {},
   "toc_section_display": true,
   "toc_window_display": false
  },
  "varInspector": {
   "cols": {
    "lenName": 16,
    "lenType": 16,
    "lenVar": 40
   },
   "kernels_config": {
    "python": {
     "delete_cmd_postfix": "",
     "delete_cmd_prefix": "del ",
     "library": "var_list.py",
     "varRefreshCmd": "print(var_dic_list())"
    },
    "r": {
     "delete_cmd_postfix": ") ",
     "delete_cmd_prefix": "rm(",
     "library": "var_list.r",
     "varRefreshCmd": "cat(var_dic_list()) "
    }
   },
   "types_to_exclude": [
    "module",
    "function",
    "builtin_function_or_method",
    "instance",
    "_Feature"
   ],
   "window_display": false
  }
 },
 "nbformat": 4,
 "nbformat_minor": 4
}
