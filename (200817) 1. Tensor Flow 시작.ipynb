{
 "cells": [
  {
   "cell_type": "markdown",
   "metadata": {},
   "source": [
    "    1. 텐서 플로우 1.x : snowdeer_env\n",
    "    2. 텐서 플로우 2.x : keras_study\n",
    "\n",
    "## <b>■ 복습</b>\n",
    "    1장. Numpy\n",
    "    2장. 퍼셉트론\n",
    "    3장. 3층 신경망 구현\n",
    "    4장. 2층 신경망 구현(수치미분)\n",
    "    5장. 2층 신경망 구현(오차 역전파)\n",
    "    6장. 신경망 학습 기술들\n",
    "        - under-fitting 방지\n",
    "        - over-fitting 방지\n",
    "    7장. CNN을 이용한 3층 신경망 구현\n",
    "    ------------------------------------------2010년\n",
    "    8장. 딥러닝 역사 \n",
    "        1. 텐서 플로우\n",
    "        2. Object detection (자율 주행차, 불량품 선별, 종양 발견 등)\n",
    "        3. RNN (주가 예측, 번역 신경망, 작곡 등)\n",
    "\n",
    "### <b>■ 텐서 플로우 1.x버전의 큰 그림</b>\n",
    "    딥러닝 면접질문 : 딥러닝 프레임워크는 뭘 썼는가?\n",
    "        1. 텐서 플로우 1.x, 2.x 사용\n",
    "        2. Pytorch 사용\n",
    "        \n",
    "    다차원 데이터가 흘러가는 그래프를 구성하는 부분\n",
    "    -------------------------------------------\n",
    "    다차원 데이터가 흘러가는 그래프를 실행하는 부분"
   ]
  },
  {
   "cell_type": "markdown",
   "metadata": {},
   "source": [
    "#### 예제1. 문자열 데이터 출력"
   ]
  },
  {
   "cell_type": "code",
   "execution_count": 2,
   "metadata": {
    "ExecuteTime": {
     "end_time": "2020-08-17T01:10:07.757004Z",
     "start_time": "2020-08-17T01:10:04.865273Z"
    }
   },
   "outputs": [
    {
     "name": "stderr",
     "output_type": "stream",
     "text": [
      "C:\\Users\\knitwill\\anaconda3\\lib\\site-packages\\tensorflow\\python\\framework\\dtypes.py:526: FutureWarning: Passing (type, 1) or '1type' as a synonym of type is deprecated; in a future version of numpy, it will be understood as (type, (1,)) / '(1,)type'.\n",
      "  _np_qint8 = np.dtype([(\"qint8\", np.int8, 1)])\n",
      "C:\\Users\\knitwill\\anaconda3\\lib\\site-packages\\tensorflow\\python\\framework\\dtypes.py:527: FutureWarning: Passing (type, 1) or '1type' as a synonym of type is deprecated; in a future version of numpy, it will be understood as (type, (1,)) / '(1,)type'.\n",
      "  _np_quint8 = np.dtype([(\"quint8\", np.uint8, 1)])\n",
      "C:\\Users\\knitwill\\anaconda3\\lib\\site-packages\\tensorflow\\python\\framework\\dtypes.py:528: FutureWarning: Passing (type, 1) or '1type' as a synonym of type is deprecated; in a future version of numpy, it will be understood as (type, (1,)) / '(1,)type'.\n",
      "  _np_qint16 = np.dtype([(\"qint16\", np.int16, 1)])\n",
      "C:\\Users\\knitwill\\anaconda3\\lib\\site-packages\\tensorflow\\python\\framework\\dtypes.py:529: FutureWarning: Passing (type, 1) or '1type' as a synonym of type is deprecated; in a future version of numpy, it will be understood as (type, (1,)) / '(1,)type'.\n",
      "  _np_quint16 = np.dtype([(\"quint16\", np.uint16, 1)])\n",
      "C:\\Users\\knitwill\\anaconda3\\lib\\site-packages\\tensorflow\\python\\framework\\dtypes.py:530: FutureWarning: Passing (type, 1) or '1type' as a synonym of type is deprecated; in a future version of numpy, it will be understood as (type, (1,)) / '(1,)type'.\n",
      "  _np_qint32 = np.dtype([(\"qint32\", np.int32, 1)])\n",
      "C:\\Users\\knitwill\\anaconda3\\lib\\site-packages\\tensorflow\\python\\framework\\dtypes.py:535: FutureWarning: Passing (type, 1) or '1type' as a synonym of type is deprecated; in a future version of numpy, it will be understood as (type, (1,)) / '(1,)type'.\n",
      "  np_resource = np.dtype([(\"resource\", np.ubyte, 1)])\n"
     ]
    },
    {
     "name": "stdout",
     "output_type": "stream",
     "text": [
      "b'Hello Tensorflow'\n"
     ]
    }
   ],
   "source": [
    "import tensorflow as tf\n",
    "hello = tf.constant(\"Hello Tensorflow\")\n",
    "\n",
    "sess = tf.Session() # 그래프를 실행할 세션을 구성\n",
    "\n",
    "print(sess.run(hello))"
   ]
  },
  {
   "cell_type": "markdown",
   "metadata": {},
   "source": [
    "    파이썬 3버전은 문자열 unicode가 기본이므로\n",
    "    str을 이용해서 encoding 처리를 해주면서 binary 타입을 unicode 타입으로 반환해줘야 함"
   ]
  },
  {
   "cell_type": "code",
   "execution_count": 3,
   "metadata": {
    "ExecuteTime": {
     "end_time": "2020-08-17T01:10:08.732266Z",
     "start_time": "2020-08-17T01:10:08.727270Z"
    }
   },
   "outputs": [
    {
     "name": "stdout",
     "output_type": "stream",
     "text": [
      "Hello Tensorflow\n"
     ]
    }
   ],
   "source": [
    "print(str(sess.run(hello),encoding='utf-8'))"
   ]
  },
  {
   "cell_type": "markdown",
   "metadata": {},
   "source": [
    "#### 예제2. 숫자형 변수를 출력"
   ]
  },
  {
   "cell_type": "code",
   "execution_count": 4,
   "metadata": {
    "ExecuteTime": {
     "end_time": "2020-08-17T01:17:58.376397Z",
     "start_time": "2020-08-17T01:17:57.687754Z"
    }
   },
   "outputs": [
    {
     "name": "stdout",
     "output_type": "stream",
     "text": [
      "WARNING:tensorflow:From C:\\Users\\knitwill\\anaconda3\\lib\\site-packages\\tensorflow\\python\\framework\\op_def_library.py:263: colocate_with (from tensorflow.python.framework.ops) is deprecated and will be removed in a future version.\n",
      "Instructions for updating:\n",
      "Colocations handled automatically by placer.\n"
     ]
    }
   ],
   "source": [
    "################################################ 그래프 그리는 영역\n",
    "import tensorflow as tf\n",
    "x = tf.constant(35, name='x') # x라는 상수값을 만들고 숫자 35를 지정\n",
    "y = tf.Variable(x+5, name='y') # y라는 변수를 만들고 방정식 x+5를 정의\n",
    "model = tf.global_variables_initializer() # 변수를 생성했으면 초기화 해줘야하는데 필요한 명령어. 무조건 초기화를 해줘야 실행 가능\n",
    "\n",
    "################################################ 그래프 실행할 영역\n",
    "sess = tf.Session()\n",
    "sess.run(model)"
   ]
  },
  {
   "cell_type": "markdown",
   "metadata": {},
   "source": [
    "#### 예제3. 상수형 변수를 실행하기"
   ]
  },
  {
   "cell_type": "code",
   "execution_count": 5,
   "metadata": {
    "ExecuteTime": {
     "end_time": "2020-08-17T01:20:14.053944Z",
     "start_time": "2020-08-17T01:20:14.045949Z"
    }
   },
   "outputs": [
    {
     "name": "stdout",
     "output_type": "stream",
     "text": [
      "Tensor(\"Add_1:0\", shape=(), dtype=int32)\n"
     ]
    }
   ],
   "source": [
    "import tensorflow as tf\n",
    "a = tf.constant(10)\n",
    "b = tf.constant(32)\n",
    "c = tf.add(a,b)\n",
    "print(c)"
   ]
  },
  {
   "cell_type": "markdown",
   "metadata": {},
   "source": [
    "### ※ 문제110. 위에서 만든 텐서 그래프를 실행하시오"
   ]
  },
  {
   "cell_type": "code",
   "execution_count": 8,
   "metadata": {
    "ExecuteTime": {
     "end_time": "2020-08-17T01:22:39.474175Z",
     "start_time": "2020-08-17T01:22:39.453188Z"
    }
   },
   "outputs": [
    {
     "name": "stdout",
     "output_type": "stream",
     "text": [
      "42\n"
     ]
    }
   ],
   "source": [
    "import tensorflow as tf\n",
    "a = tf.constant(10)\n",
    "b = tf.constant(32)\n",
    "c = tf.add(a,b)\n",
    "\n",
    "sess = tf.Session()\n",
    "print(sess.run(c))\n",
    "\n",
    "sess.close() # 세션을 닫는 구문을 작성해줘야 함"
   ]
  },
  {
   "cell_type": "code",
   "execution_count": 9,
   "metadata": {
    "ExecuteTime": {
     "end_time": "2020-08-17T01:25:01.240489Z",
     "start_time": "2020-08-17T01:25:01.228495Z"
    }
   },
   "outputs": [
    {
     "name": "stdout",
     "output_type": "stream",
     "text": [
      "42\n"
     ]
    }
   ],
   "source": [
    "# 다른 방법으로 세션 종료\n",
    "import tensorflow as tf\n",
    "a = tf.constant(10)\n",
    "b = tf.constant(32)\n",
    "c = tf.add(a,b)\n",
    "\n",
    "with tf.Session() as sess:\n",
    "    print(sess.run(c))\n",
    "# 위와 같이 with절을 이용하면 close를 안해도 자동으로 닫힌다."
   ]
  },
  {
   "cell_type": "markdown",
   "metadata": {},
   "source": [
    "### ※ 문제11. 아래의 그래프를 실행하시오"
   ]
  },
  {
   "cell_type": "code",
   "execution_count": 11,
   "metadata": {
    "ExecuteTime": {
     "end_time": "2020-08-17T01:29:31.051583Z",
     "start_time": "2020-08-17T01:29:31.027597Z"
    }
   },
   "outputs": [
    {
     "name": "stdout",
     "output_type": "stream",
     "text": [
      "10780\n"
     ]
    }
   ],
   "source": [
    "import tensorflow as tf\n",
    "old_v = tf.logging.get_verbosity()\n",
    "tf.logging.set_verbosity(tf.logging.ERROR)\n",
    "\n",
    "a = tf.add(1, 2)\n",
    "b = tf.multiply(a, 3)\n",
    "c = tf.add(b, 5)\n",
    "d = tf.multiply(c, 6)\n",
    "e = tf.multiply(d, 5)\n",
    "f = tf.div(e, 6)\n",
    "g = tf.add(f, d)\n",
    "h = tf.multiply(g, f)\n",
    "\n",
    "with tf.Session() as sess:\n",
    "    print(sess.run(h))"
   ]
  },
  {
   "cell_type": "markdown",
   "metadata": {},
   "source": [
    "#### 예제4. 텐서플로우로 loop문 실행\n",
    "    1부터 5까지 숫자를 출력"
   ]
  },
  {
   "cell_type": "code",
   "execution_count": 12,
   "metadata": {
    "ExecuteTime": {
     "end_time": "2020-08-17T01:33:26.006886Z",
     "start_time": "2020-08-17T01:33:26.002887Z"
    }
   },
   "outputs": [
    {
     "name": "stdout",
     "output_type": "stream",
     "text": [
      "1\n",
      "2\n",
      "3\n",
      "4\n",
      "5\n"
     ]
    }
   ],
   "source": [
    "# 파이썬 기본 문법으로 수행\n",
    "for i in range(1,6):\n",
    "    print(i)"
   ]
  },
  {
   "cell_type": "code",
   "execution_count": 13,
   "metadata": {
    "ExecuteTime": {
     "end_time": "2020-08-17T01:38:23.132011Z",
     "start_time": "2020-08-17T01:38:22.932132Z"
    }
   },
   "outputs": [
    {
     "name": "stdout",
     "output_type": "stream",
     "text": [
      "1\n",
      "2\n",
      "3\n",
      "4\n",
      "5\n"
     ]
    }
   ],
   "source": [
    "# 텐서 플로우로 수행\n",
    "import tensorflow as tf\n",
    "x = tf.Variable(0)\n",
    "init = tf.global_variables_initializer() # 변수를 생성했으면 초기화를 해줘야 함\n",
    "\n",
    "with tf.Session() as sess :\n",
    "    sess.run(init)\n",
    "    for i in range(5):\n",
    "        x = x+1\n",
    "        print(sess.run(x))"
   ]
  },
  {
   "cell_type": "markdown",
   "metadata": {},
   "source": [
    "### ※ 문제112. 위의 코드를 이용해서 구구단 2단을 출력하시오\n",
    "    (tf.multiply를 이용)"
   ]
  },
  {
   "cell_type": "code",
   "execution_count": 21,
   "metadata": {
    "ExecuteTime": {
     "end_time": "2020-08-17T01:49:09.936348Z",
     "start_time": "2020-08-17T01:49:09.808426Z"
    }
   },
   "outputs": [
    {
     "name": "stdout",
     "output_type": "stream",
     "text": [
      "2 x 1 = 2\n",
      "2 x 2 = 4\n",
      "2 x 3 = 6\n",
      "2 x 4 = 8\n",
      "2 x 5 = 10\n",
      "2 x 6 = 12\n",
      "2 x 7 = 14\n",
      "2 x 8 = 16\n",
      "2 x 9 = 18\n"
     ]
    }
   ],
   "source": [
    "import tensorflow as tf\n",
    "with tf.Session() as sess:\n",
    "    for i in range(1,10):        \n",
    "        m = tf.multiply(2,i)\n",
    "        print(f'2 x {i} = {sess.run(m)}')"
   ]
  },
  {
   "cell_type": "markdown",
   "metadata": {},
   "source": [
    "### ※ 문제113. 구구단 2단 ~ 9단까지 출력하시오"
   ]
  },
  {
   "cell_type": "code",
   "execution_count": 24,
   "metadata": {
    "ExecuteTime": {
     "end_time": "2020-08-17T02:05:11.414329Z",
     "start_time": "2020-08-17T02:05:09.904587Z"
    },
    "scrolled": true
   },
   "outputs": [
    {
     "name": "stdout",
     "output_type": "stream",
     "text": [
      "2 x 1 = 2\n",
      "2 x 2 = 4\n",
      "2 x 3 = 6\n",
      "2 x 4 = 8\n",
      "2 x 5 = 10\n",
      "2 x 6 = 12\n",
      "2 x 7 = 14\n",
      "2 x 8 = 16\n",
      "2 x 9 = 18\n",
      "3 x 1 = 3\n",
      "3 x 2 = 6\n",
      "3 x 3 = 9\n",
      "3 x 4 = 12\n",
      "3 x 5 = 15\n",
      "3 x 6 = 18\n",
      "3 x 7 = 21\n",
      "3 x 8 = 24\n",
      "3 x 9 = 27\n",
      "4 x 1 = 4\n",
      "4 x 2 = 8\n",
      "4 x 3 = 12\n",
      "4 x 4 = 16\n",
      "4 x 5 = 20\n",
      "4 x 6 = 24\n",
      "4 x 7 = 28\n",
      "4 x 8 = 32\n",
      "4 x 9 = 36\n",
      "5 x 1 = 5\n",
      "5 x 2 = 10\n",
      "5 x 3 = 15\n",
      "5 x 4 = 20\n",
      "5 x 5 = 25\n",
      "5 x 6 = 30\n",
      "5 x 7 = 35\n",
      "5 x 8 = 40\n",
      "5 x 9 = 45\n",
      "6 x 1 = 6\n",
      "6 x 2 = 12\n",
      "6 x 3 = 18\n",
      "6 x 4 = 24\n",
      "6 x 5 = 30\n",
      "6 x 6 = 36\n",
      "6 x 7 = 42\n",
      "6 x 8 = 48\n",
      "6 x 9 = 54\n",
      "7 x 1 = 7\n",
      "7 x 2 = 14\n",
      "7 x 3 = 21\n",
      "7 x 4 = 28\n",
      "7 x 5 = 35\n",
      "7 x 6 = 42\n",
      "7 x 7 = 49\n",
      "7 x 8 = 56\n",
      "7 x 9 = 63\n",
      "8 x 1 = 8\n",
      "8 x 2 = 16\n",
      "8 x 3 = 24\n",
      "8 x 4 = 32\n",
      "8 x 5 = 40\n",
      "8 x 6 = 48\n",
      "8 x 7 = 56\n",
      "8 x 8 = 64\n",
      "8 x 9 = 72\n",
      "9 x 1 = 9\n",
      "9 x 2 = 18\n",
      "9 x 3 = 27\n",
      "9 x 4 = 36\n",
      "9 x 5 = 45\n",
      "9 x 6 = 54\n",
      "9 x 7 = 63\n",
      "9 x 8 = 72\n",
      "9 x 9 = 81\n"
     ]
    }
   ],
   "source": [
    "import tensorflow as tf\n",
    "with tf.Session() as sess:\n",
    "    for i in range(2,10):\n",
    "        for j in range(1,10):\n",
    "            print(f\"{i} x {j} = {sess.run(tf.multiply(i,j))}\")"
   ]
  },
  {
   "cell_type": "code",
   "execution_count": 25,
   "metadata": {
    "ExecuteTime": {
     "end_time": "2020-08-17T02:09:33.942466Z",
     "start_time": "2020-08-17T02:09:33.736577Z"
    },
    "scrolled": true
   },
   "outputs": [
    {
     "name": "stdout",
     "output_type": "stream",
     "text": [
      "2 x 1 = 2\n",
      "2 x 2 = 4\n",
      "2 x 3 = 6\n",
      "2 x 4 = 8\n",
      "2 x 5 = 10\n",
      "2 x 6 = 12\n",
      "2 x 7 = 14\n",
      "2 x 8 = 16\n",
      "2 x 9 = 18\n",
      "3 x 1 = 3\n",
      "3 x 2 = 6\n",
      "3 x 3 = 9\n",
      "3 x 4 = 12\n",
      "3 x 5 = 15\n",
      "3 x 6 = 18\n",
      "3 x 7 = 21\n",
      "3 x 8 = 24\n",
      "3 x 9 = 27\n",
      "4 x 1 = 4\n",
      "4 x 2 = 8\n",
      "4 x 3 = 12\n",
      "4 x 4 = 16\n",
      "4 x 5 = 20\n",
      "4 x 6 = 24\n",
      "4 x 7 = 28\n",
      "4 x 8 = 32\n",
      "4 x 9 = 36\n",
      "5 x 1 = 5\n",
      "5 x 2 = 10\n",
      "5 x 3 = 15\n",
      "5 x 4 = 20\n",
      "5 x 5 = 25\n",
      "5 x 6 = 30\n",
      "5 x 7 = 35\n",
      "5 x 8 = 40\n",
      "5 x 9 = 45\n",
      "6 x 1 = 6\n",
      "6 x 2 = 12\n",
      "6 x 3 = 18\n",
      "6 x 4 = 24\n",
      "6 x 5 = 30\n",
      "6 x 6 = 36\n",
      "6 x 7 = 42\n",
      "6 x 8 = 48\n",
      "6 x 9 = 54\n",
      "7 x 1 = 7\n",
      "7 x 2 = 14\n",
      "7 x 3 = 21\n",
      "7 x 4 = 28\n",
      "7 x 5 = 35\n",
      "7 x 6 = 42\n",
      "7 x 7 = 49\n",
      "7 x 8 = 56\n",
      "7 x 9 = 63\n",
      "8 x 1 = 8\n",
      "8 x 2 = 16\n",
      "8 x 3 = 24\n",
      "8 x 4 = 32\n",
      "8 x 5 = 40\n",
      "8 x 6 = 48\n",
      "8 x 7 = 56\n",
      "8 x 8 = 64\n",
      "8 x 9 = 72\n",
      "9 x 1 = 9\n",
      "9 x 2 = 18\n",
      "9 x 3 = 27\n",
      "9 x 4 = 36\n",
      "9 x 5 = 45\n",
      "9 x 6 = 54\n",
      "9 x 7 = 63\n",
      "9 x 8 = 72\n",
      "9 x 9 = 81\n"
     ]
    }
   ],
   "source": [
    "x = tf.Variable(0)\n",
    "y = tf.Variable(0)\n",
    "z = tf.multiply(x, y)\n",
    "\n",
    "init = tf.global_variables_initializer()\n",
    "\n",
    "with tf.Session() as sess:\n",
    "    for i in range(2,10):\n",
    "        for j in range(1,10):\n",
    "            print(i, 'x', j, '=', sess.run(z, feed_dict=({x:i, y:j})))"
   ]
  },
  {
   "cell_type": "markdown",
   "metadata": {},
   "source": [
    "    feed_dict 명령어로 데이터를 텐서 그래프에 주입\n",
    "        x 변수에는 i의 값을 대입, y 변수에는 j 값을 대입\n",
    "        z를 실행하기 위해서 x와 y에 값을 대입"
   ]
  },
  {
   "cell_type": "markdown",
   "metadata": {},
   "source": [
    "### <b>■ 신경망에서 bias를 만드는 코드를 텐서 플로우로 구현하는 방법</b>\n",
    "#### 예제1. 변수에 숫자 0과 숫자 1을 채워 넣는 배열을 생성하는 방법    "
   ]
  },
  {
   "cell_type": "code",
   "execution_count": 26,
   "metadata": {
    "ExecuteTime": {
     "end_time": "2020-08-17T02:20:38.548859Z",
     "start_time": "2020-08-17T02:20:38.402217Z"
    }
   },
   "outputs": [
    {
     "name": "stdout",
     "output_type": "stream",
     "text": [
      "numpy 구현\n",
      "[[0. 0.]\n",
      " [0. 0.]]\n",
      "[[1. 1.]\n",
      " [1. 1.]]\n",
      "\n",
      " tensorflow 구현\n",
      "[[0. 0.]\n",
      " [0. 0.]]\n",
      "[[1. 1.]\n",
      " [1. 1.]]\n"
     ]
    }
   ],
   "source": [
    "print('numpy 구현')\n",
    "import numpy as np\n",
    "a = np.zeros((2,2))\n",
    "b = np.ones((2,2))\n",
    "print(a)\n",
    "print(b)\n",
    "\n",
    "print('\\n tensorflow 구현')\n",
    "a = tf.zeros((2,2))\n",
    "b = tf.ones((2,2))\n",
    "init = tf.global_variables_initializer()\n",
    "\n",
    "with tf.Session() as sess:\n",
    "    sess.run(init)\n",
    "    print(sess.run(a))\n",
    "    print(sess.run(b))"
   ]
  },
  {
   "cell_type": "markdown",
   "metadata": {},
   "source": [
    "### <b>■ 배열의 원소중에서 최댓값 원소의 인덱스를 찾는 코드</b>"
   ]
  },
  {
   "cell_type": "code",
   "execution_count": 28,
   "metadata": {
    "ExecuteTime": {
     "end_time": "2020-08-17T02:23:59.561349Z",
     "start_time": "2020-08-17T02:23:59.425803Z"
    }
   },
   "outputs": [
    {
     "name": "stdout",
     "output_type": "stream",
     "text": [
      "파이썬의 numpy 이용방법\n",
      "2\n",
      "\n",
      " 텐서플로우 이용방법\n",
      "2\n"
     ]
    }
   ],
   "source": [
    "print('파이썬의 numpy 이용방법')\n",
    "import numpy as np\n",
    "a = np.array([0,0,1,0,0,0,0,0,0,0])\n",
    "print(np.argmax(a, axis=0))\n",
    "\n",
    "print('\\n 텐서플로우 이용방법')\n",
    "import tensorflow as tf\n",
    "a = np.array([0,0,1,0,0,0,0,0,0,0])\n",
    "b = tf.argmax(a, axis=0)\n",
    "\n",
    "init = tf.global_variables_initializer()\n",
    "with tf.Session() as sess:\n",
    "    sess.run(init)\n",
    "    print(sess.run(b))"
   ]
  },
  {
   "cell_type": "markdown",
   "metadata": {},
   "source": [
    "### ※ 문제11. 아래의 원핫 인코딩된 배열에서 최대 원소값의 인덱스를 출력하시오"
   ]
  },
  {
   "cell_type": "code",
   "execution_count": 30,
   "metadata": {
    "ExecuteTime": {
     "end_time": "2020-08-17T02:28:29.166071Z",
     "start_time": "2020-08-17T02:28:29.046057Z"
    }
   },
   "outputs": [
    {
     "name": "stdout",
     "output_type": "stream",
     "text": [
      "[2 4 6 0 8]\n"
     ]
    }
   ],
   "source": [
    "import numpy as np\n",
    "a = np.array([[0,0,1,0,0,0,0,0,0,0],\n",
    "              [0,0,0,0,1,0,0,0,0,0],\n",
    "              [0,0,0,0,0,0,1,0,0,0],\n",
    "              [1,0,0,0,0,0,0,0,0,0],\n",
    "              [0,0,0,0,0,0,0,0,1,0]])\n",
    "import tensorflow as tf\n",
    "b = tf.argmax(a, axis=1)\n",
    "\n",
    "init = tf.global_variables_initializer()\n",
    "\n",
    "with tf.Session() as sess:\n",
    "    sess.run(init)\n",
    "    print(sess.run(b))"
   ]
  },
  {
   "cell_type": "markdown",
   "metadata": {},
   "source": [
    "### <b>■ 다차원 배열에서의 행의 토탈값 구하는 방법</b>\n"
   ]
  },
  {
   "cell_type": "code",
   "execution_count": 32,
   "metadata": {
    "ExecuteTime": {
     "end_time": "2020-08-17T02:38:02.905107Z",
     "start_time": "2020-08-17T02:38:02.675187Z"
    }
   },
   "outputs": [
    {
     "name": "stdout",
     "output_type": "stream",
     "text": [
      "numpy 이용했을 때\n",
      "[[10  8 12]\n",
      " [10  8 11]\n",
      " [11  5 12]\n",
      " [13 15  6]]\n",
      "\n",
      " 텐서 플로우 이용했을 때\n",
      "[[10  8 12]\n",
      " [10  8 11]\n",
      " [11  5 12]\n",
      " [13 15  6]]\n"
     ]
    }
   ],
   "source": [
    "import numpy as np\n",
    "a = np.array([[[1, 2, 3],\n",
    "               [2, 1, 4],\n",
    "               [5, 2, 1],\n",
    "               [6, 3, 2]],\n",
    "              [[5, 1, 3],\n",
    "               [1, 3, 4],\n",
    "               [4, 2, 6],\n",
    "               [3, 9, 3]],\n",
    "              [[4, 5, 6],\n",
    "               [7, 4, 3],\n",
    "               [2, 1, 5],\n",
    "               [4, 3, 1]]])\n",
    "\n",
    "print('numpy 이용했을 때')\n",
    "print(np.sum(a, axis=0))\n",
    "\n",
    "print('\\n 텐서 플로우 이용했을 때')\n",
    "a = np.array([[[1, 2, 3],\n",
    "               [2, 1, 4],\n",
    "               [5, 2, 1],\n",
    "               [6, 3, 2]],\n",
    "              [[5, 1, 3],\n",
    "               [1, 3, 4],\n",
    "               [4, 2, 6],\n",
    "               [3, 9, 3]],\n",
    "              [[4, 5, 6],\n",
    "               [7, 4, 3],\n",
    "               [2, 1, 5],\n",
    "               [4, 3, 1]]])\n",
    "import tensorflow as tf\n",
    "d = tf.reduce_sum(a, reduction_indices=[0])\n",
    "\n",
    "init = tf.global_variables_initializer()\n",
    "\n",
    "with tf.Session() as sess:\n",
    "    sess.run(init)\n",
    "    print(sess.run(d))"
   ]
  },
  {
   "cell_type": "markdown",
   "metadata": {},
   "source": [
    "### ※ 문제115. 위에는 3차원 데이터의 축의 값을 토탈값을 구했는데 평균값을 구하는걸로 출력해보시오"
   ]
  },
  {
   "cell_type": "code",
   "execution_count": 33,
   "metadata": {
    "ExecuteTime": {
     "end_time": "2020-08-17T02:39:36.648700Z",
     "start_time": "2020-08-17T02:39:36.559754Z"
    }
   },
   "outputs": [
    {
     "name": "stdout",
     "output_type": "stream",
     "text": [
      "[[3 2 4]\n",
      " [3 2 3]\n",
      " [3 1 4]\n",
      " [4 5 2]]\n"
     ]
    }
   ],
   "source": [
    "a = np.array([[[1, 2, 3],\n",
    "               [2, 1, 4],\n",
    "               [5, 2, 1],\n",
    "               [6, 3, 2]],\n",
    "              [[5, 1, 3],\n",
    "               [1, 3, 4],\n",
    "               [4, 2, 6],\n",
    "               [3, 9, 3]],\n",
    "              [[4, 5, 6],\n",
    "               [7, 4, 3],\n",
    "               [2, 1, 5],\n",
    "               [4, 3, 1]]])\n",
    "import tensorflow as tf\n",
    "d = tf.reduce_mean(a, reduction_indices=[0])\n",
    "\n",
    "init = tf.global_variables_initializer()\n",
    "\n",
    "with tf.Session() as sess:\n",
    "    sess.run(init)\n",
    "    print(sess.run(d))"
   ]
  },
  {
   "cell_type": "markdown",
   "metadata": {},
   "source": [
    "### <b>■ 텐서 플로우로 행렬 내적하는 코드</b>"
   ]
  },
  {
   "cell_type": "code",
   "execution_count": 35,
   "metadata": {
    "ExecuteTime": {
     "end_time": "2020-08-17T02:45:38.804263Z",
     "start_time": "2020-08-17T02:45:38.641314Z"
    }
   },
   "outputs": [
    {
     "name": "stdout",
     "output_type": "stream",
     "text": [
      "numpy 형식\n",
      "[[18 18]\n",
      " [18 18]]\n",
      "\n",
      " tensorflow 형식\n",
      "[[18. 18.]\n",
      " [18. 18.]]\n"
     ]
    }
   ],
   "source": [
    "print('numpy 형식')\n",
    "a = np.array([[2,2,2],[2,2,2]])\n",
    "b = np.array([[3,3],[3,3],[3,3]])\n",
    "res = np.dot(a,b)\n",
    "print(res)\n",
    "\n",
    "print('\\n tensorflow 형식')\n",
    "x = tf.placeholder(\"float\",[2,3]) # (2,3) 행렬의 실수형 데이터를 담을 변수\n",
    "y = tf.placeholder(\"float\",[3,2]) \n",
    "rs = tf.matmul(x, y)\n",
    "\n",
    "init = tf.global_variables_initializer()\n",
    "\n",
    "with tf.Session() as sess:\n",
    "    sess.run(init)\n",
    "    print(sess.run(rs, feed_dict={x:[[2,2,2],[2,2,2]], y:[[3,3],[3,3],[3,3]]}))"
   ]
  },
  {
   "cell_type": "markdown",
   "metadata": {},
   "source": [
    "### ※ 문제116. (점심시간 문제) 아래의 행렬의 내적을 텐서플로우로 구현하시오\n",
    "$$\\begin{pmatrix} 6 & 7 \\\\ 3 & 5 \\\\ 2 & 9 \\\\ \\end{pmatrix} \\cdot \\begin{pmatrix} 3 & 8 & 1 \\\\ 4 & 5 & 2 \\\\ \\end{pmatrix}$$"
   ]
  },
  {
   "cell_type": "code",
   "execution_count": 38,
   "metadata": {
    "ExecuteTime": {
     "end_time": "2020-08-17T03:12:13.044605Z",
     "start_time": "2020-08-17T03:12:12.983643Z"
    }
   },
   "outputs": [
    {
     "name": "stdout",
     "output_type": "stream",
     "text": [
      "[[46. 83. 20.]\n",
      " [29. 49. 13.]\n",
      " [42. 61. 20.]]\n"
     ]
    }
   ],
   "source": [
    "a = np.array([[6,7],[3,5],[2,9]])\n",
    "b = np.array([[3,8,1],[4,5,2]])\n",
    "\n",
    "import tensorflow as tf\n",
    "x = tf.placeholder(\"float\",[3,2]) # (2,3) 행렬의 실수형 데이터를 담을 변수\n",
    "y = tf.placeholder(\"float\",[2,3]) \n",
    "rs = tf.matmul(x, y)\n",
    "\n",
    "init = tf.global_variables_initializer()\n",
    "\n",
    "with tf.Session() as sess:\n",
    "    sess.run(init)\n",
    "    print(sess.run(rs, feed_dict={x:[[6,7],[3,5],[2,9]], y:[[3,8,1],[4,5,2]]}))"
   ]
  },
  {
   "cell_type": "markdown",
   "metadata": {},
   "source": [
    "### <b>■ 신경망의 정확도를 출력하는 코드를 이해</b>\n",
    "    tensorflow의 cast 함수의 이해\n",
    "#### 예제1: 아래의 배열의 True를 1로 변경하고 False를 0으로 변경"
   ]
  },
  {
   "cell_type": "code",
   "execution_count": 41,
   "metadata": {
    "ExecuteTime": {
     "end_time": "2020-08-17T04:48:57.538662Z",
     "start_time": "2020-08-17T04:48:57.394734Z"
    }
   },
   "outputs": [
    {
     "name": "stdout",
     "output_type": "stream",
     "text": [
      "[1. 0. 1. 1. 1. 1. 1. 1. 1. 1. 1. 1. 1. 1. 1. 0. 1. 1. 0. 1. 1. 1. 1. 1.\n",
      " 1. 1. 1. 1. 1. 1. 1. 1. 1. 1. 1. 1. 1. 1. 1. 1. 1. 1. 1. 1. 1. 1. 1. 1.\n",
      " 1. 1. 1. 1. 1. 1. 1. 1. 1. 1. 1. 1. 1. 1. 1. 1. 1. 1. 0. 1. 1. 1. 1. 1.\n",
      " 1. 1. 0. 1. 0. 1. 1. 1. 1. 1. 1. 1. 1. 1. 1. 1. 1. 1. 1. 1. 1. 1. 1. 1.\n",
      " 0. 1. 1. 1.]\n"
     ]
    }
   ],
   "source": [
    "import tensorflow as tf\n",
    "\n",
    "correct_prediction = [ True, False , True  ,True  ,True  ,True  ,True,  True  ,True  ,True  ,True  ,True\n",
    "  ,True  ,True  ,True, False , True  ,True, False , True  ,True  ,True  ,True  ,True\n",
    "  ,True  ,True  ,True  ,True  ,True  ,True  ,True  ,True  ,True  ,True  ,True  ,True\n",
    "  ,True  ,True  ,True  ,True  ,True  ,True  ,True  ,True  ,True  ,True  ,True  ,True\n",
    "  ,True  ,True  ,True  ,True  ,True  ,True  ,True  ,True  ,True  ,True  ,True  ,True\n",
    "  ,True  ,True  ,True  ,True  ,True  ,True ,False , True  ,True  ,True  ,True  ,True\n",
    "  ,True  ,True, False , True, False , True  ,True  ,True  ,True  ,True  ,True  ,True\n",
    "  ,True  ,True  ,True  ,True  ,True  ,True  ,True  ,True  ,True  ,True  ,True  ,True\n",
    " ,False , True  ,True  ,True]\n",
    "\n",
    "sess = tf.Session()\n",
    "\n",
    "a = tf.cast(correct_prediction, 'float')\n",
    "print(sess.run(a))\n",
    "sess.close()"
   ]
  },
  {
   "cell_type": "markdown",
   "metadata": {},
   "source": [
    "#### 예제2. 위의 출력된 결과에서 전체 개수 중에 1이 몇개나 되는지 확인하여 정확도가 아래와 같이 출력되게 하시오\n",
    "    결과: 0.93\n",
    "    전부 다 더해서 전체 개수로 나눈 값을 출력"
   ]
  },
  {
   "cell_type": "code",
   "execution_count": 42,
   "metadata": {
    "ExecuteTime": {
     "end_time": "2020-08-17T04:51:28.072629Z",
     "start_time": "2020-08-17T04:51:27.947707Z"
    }
   },
   "outputs": [
    {
     "name": "stdout",
     "output_type": "stream",
     "text": [
      "0.93\n"
     ]
    }
   ],
   "source": [
    "sess = tf.Session()\n",
    "\n",
    "a = tf.cast(correct_prediction, 'float')\n",
    "b = tf.reduce_mean(a)\n",
    "print(sess.run(b))\n",
    "sess.close()"
   ]
  },
  {
   "cell_type": "markdown",
   "metadata": {},
   "source": [
    "### <b>■ 텐서 플로우에서 mnist 데이터 가져오기</b>\n",
    "    텐서 플로우는 기본적으로 실습용으로 mnist 데이터가 내장되어 있다."
   ]
  },
  {
   "cell_type": "code",
   "execution_count": 48,
   "metadata": {
    "ExecuteTime": {
     "end_time": "2020-08-17T04:57:06.129942Z",
     "start_time": "2020-08-17T04:57:05.515321Z"
    }
   },
   "outputs": [
    {
     "name": "stdout",
     "output_type": "stream",
     "text": [
      "Extracting MNIST_data/train-images-idx3-ubyte.gz\n",
      "Extracting MNIST_data/train-labels-idx1-ubyte.gz\n",
      "Extracting MNIST_data/t10k-images-idx3-ubyte.gz\n",
      "Extracting MNIST_data/t10k-labels-idx1-ubyte.gz\n",
      "(100, 784)\n",
      "(100, 10)\n"
     ]
    }
   ],
   "source": [
    "import tensorflow as tf\n",
    "from tensorflow.examples.tutorials.mnist import input_data\n",
    "\n",
    "mnist = input_data.read_data_sets(\"MNIST_data/\", one_hot = True)\n",
    "\n",
    "batch_xs, batch_ys = mnist.train.next_batch(100) # 100개의 데이터만 가져오기\n",
    "\n",
    "print(batch_xs.shape)\n",
    "print(batch_ys.shape)"
   ]
  },
  {
   "cell_type": "markdown",
   "metadata": {},
   "source": [
    "### ※ 문제117. mnist데이터에서 test 데이터 100개를 불러오시오"
   ]
  },
  {
   "cell_type": "code",
   "execution_count": 49,
   "metadata": {
    "ExecuteTime": {
     "end_time": "2020-08-17T05:00:05.055172Z",
     "start_time": "2020-08-17T05:00:05.029188Z"
    }
   },
   "outputs": [
    {
     "name": "stdout",
     "output_type": "stream",
     "text": [
      "(100, 784)\n",
      "(100, 10)\n"
     ]
    }
   ],
   "source": [
    "batch_xs, batch_ys = mnist.test.next_batch(100)\n",
    "\n",
    "print(batch_xs.shape)\n",
    "print(batch_ys.shape)"
   ]
  },
  {
   "cell_type": "markdown",
   "metadata": {},
   "source": [
    "### <b>■ 텐서 플로우에서 배치단위로 데이터를 불러올 때 None의 의미</b>\n",
    "#### 예제1. 아래의 숫자 2로 채워진 행렬 (2,3) 행렬을 텐서 플로우로 작성"
   ]
  },
  {
   "cell_type": "code",
   "execution_count": 55,
   "metadata": {
    "ExecuteTime": {
     "end_time": "2020-08-17T05:03:43.438892Z",
     "start_time": "2020-08-17T05:03:43.392919Z"
    }
   },
   "outputs": [
    {
     "name": "stdout",
     "output_type": "stream",
     "text": [
      "[[2. 2. 2.]\n",
      " [2. 2. 2.]]\n"
     ]
    }
   ],
   "source": [
    "import tensorflow as tf\n",
    "x = tf.placeholder(\"float\",[2,3])\n",
    "sess = tf.Session()\n",
    "init = tf.global_variables_initializer()\n",
    "sess.run(init)\n",
    "print(sess.run(x, feed_dict={x:[[2,2,2],[2,2,2]]}))\n",
    "sess.close()"
   ]
  },
  {
   "cell_type": "markdown",
   "metadata": {},
   "source": [
    "#### 예제2. 위의 코드에서 [2,3] --> [None, 3] 으로 변경해서 실행하시오"
   ]
  },
  {
   "cell_type": "code",
   "execution_count": 57,
   "metadata": {
    "ExecuteTime": {
     "end_time": "2020-08-17T05:04:11.163915Z",
     "start_time": "2020-08-17T05:04:11.117944Z"
    }
   },
   "outputs": [
    {
     "name": "stdout",
     "output_type": "stream",
     "text": [
      "[[2. 2. 2.]\n",
      " [2. 2. 2.]\n",
      " [2. 2. 2.]]\n"
     ]
    }
   ],
   "source": [
    "import tensorflow as tf\n",
    "x = tf.placeholder(\"float\",[None,3]) # None으로 작성 -> 행의 개수 무관하게 작성 가능\n",
    "\n",
    "sess = tf.Session()\n",
    "init = tf.global_variables_initializer()\n",
    "\n",
    "sess.run(init)\n",
    "print(sess.run(x, feed_dict={x:[[2,2,2],[2,2,2],[2,2,2]]}))\n",
    "\n",
    "sess.close()"
   ]
  },
  {
   "cell_type": "markdown",
   "metadata": {},
   "source": [
    "### ※ 문제118. mnist 데이터 784(28x28)개에 맞게 x 변수를 placeholder로 선언하고 배치로 입력될 데이터의 건수는 몇개든 관계없이 None을 사용한 변수를 만들고 mnist 데이터를 x변수에 100개를 담고 출력"
   ]
  },
  {
   "cell_type": "code",
   "execution_count": 60,
   "metadata": {
    "ExecuteTime": {
     "end_time": "2020-08-17T05:12:05.018147Z",
     "start_time": "2020-08-17T05:12:04.373545Z"
    }
   },
   "outputs": [
    {
     "name": "stdout",
     "output_type": "stream",
     "text": [
      "Extracting MNIST_data/train-images-idx3-ubyte.gz\n",
      "Extracting MNIST_data/train-labels-idx1-ubyte.gz\n",
      "Extracting MNIST_data/t10k-images-idx3-ubyte.gz\n",
      "Extracting MNIST_data/t10k-labels-idx1-ubyte.gz\n",
      "(100, 784)\n"
     ]
    }
   ],
   "source": [
    "from tensorflow.examples.tutorials.mnist import input_data\n",
    "mnist = input_data.read_data_sets(\"MNIST_data/\", one_hot = True)\n",
    "\n",
    "x = tf.placeholder('float',[None,784])\n",
    "\n",
    "batch_xs, batch_ys = mnist.train.next_batch(100)\n",
    "\n",
    "init = tf.global_variables_initializer()\n",
    "\n",
    "with tf.Session() as sess:\n",
    "    sess.run(init)\n",
    "    print(sess.run(x, feed_dict={x:batch_xs}).shape)"
   ]
  },
  {
   "cell_type": "markdown",
   "metadata": {},
   "source": [
    "### <b>■ 텐서 플로우로 신경망을 만들 때 가중치를 생성하는 코드</b>"
   ]
  },
  {
   "cell_type": "code",
   "execution_count": 63,
   "metadata": {
    "ExecuteTime": {
     "end_time": "2020-08-17T05:16:31.907004Z",
     "start_time": "2020-08-17T05:16:31.822056Z"
    }
   },
   "outputs": [
    {
     "name": "stdout",
     "output_type": "stream",
     "text": [
      "(784, 50)\n"
     ]
    }
   ],
   "source": [
    "W1 = tf.Variable(tf.random_uniform([784,50],-1,1)) # [-1,1] 사이의 숫자로 (784,50) 행렬의 변수를 W1로 생성\n",
    "init = tf.global_variables_initializer()\n",
    "\n",
    "with tf.Session() as sess:\n",
    "    sess.run(init)\n",
    "    print(sess.run(W1).shape)"
   ]
  },
  {
   "cell_type": "markdown",
   "metadata": {},
   "source": [
    "### ※ 문제119. mnist의 훈련 데이터 (100,784)와 가중치 행렬 W1 (784,50)과 행렬곱(내적)한 결과를 출력하시오"
   ]
  },
  {
   "cell_type": "code",
   "execution_count": 65,
   "metadata": {
    "ExecuteTime": {
     "end_time": "2020-08-17T05:20:07.260939Z",
     "start_time": "2020-08-17T05:20:06.581359Z"
    }
   },
   "outputs": [
    {
     "name": "stdout",
     "output_type": "stream",
     "text": [
      "Extracting MNIST_data/train-images-idx3-ubyte.gz\n",
      "Extracting MNIST_data/train-labels-idx1-ubyte.gz\n",
      "Extracting MNIST_data/t10k-images-idx3-ubyte.gz\n",
      "Extracting MNIST_data/t10k-labels-idx1-ubyte.gz\n",
      "[[ -6.606185     3.0263307    1.0772773  ...  -9.260778    -0.5921345\n",
      "    2.9072022 ]\n",
      " [ -3.9356213   16.533857    -0.6530335  ...  -7.138557     1.1199387\n",
      "   -2.3136544 ]\n",
      " [ -4.938776    10.810218    -0.09185028 ... -11.143063    -8.253414\n",
      "    4.3693542 ]\n",
      " ...\n",
      " [ -2.5267358   10.737777     0.44050515 ...  -5.3788486   -1.6410785\n",
      "    2.015374  ]\n",
      " [ -2.5639768    0.7654307    1.4454873  ...  -5.053457    -1.6340002\n",
      "    5.377161  ]\n",
      " [ -7.069396     6.8005834   -1.6288438  ...  -6.4135303   -1.8623493\n",
      "    4.1806006 ]]\n"
     ]
    }
   ],
   "source": [
    "from tensorflow.examples.tutorials.mnist import input_data\n",
    "mnist = input_data.read_data_sets(\"MNIST_data/\", one_hot = True)\n",
    "\n",
    "x = tf.placeholder('float',[None,784])\n",
    "# 앞으로 행렬로 어떤 데이터를 feed_dict 할거라 placeholder로 생성\n",
    "batch_xs, batch_ys = mnist.train.next_batch(100)\n",
    "    \n",
    "W1 = tf.Variable(tf.random_uniform([784,50],-1,1)) \n",
    "rs = tf.matmul(x, W1)\n",
    "\n",
    "init = tf.global_variables_initializer()\n",
    "\n",
    "with tf.Session() as sess:\n",
    "    sess.run(init)\n",
    "    print(sess.run(rs, feed_dict={x:batch_xs}))"
   ]
  },
  {
   "cell_type": "markdown",
   "metadata": {},
   "source": [
    "### ※ 문제120. (1,50) bias 생성하는데 변수를 b로 해서 생성하고 숫자1로 다 채우시오"
   ]
  },
  {
   "cell_type": "code",
   "execution_count": 69,
   "metadata": {
    "ExecuteTime": {
     "end_time": "2020-08-17T05:29:36.770747Z",
     "start_time": "2020-08-17T05:29:36.666814Z"
    }
   },
   "outputs": [
    {
     "name": "stdout",
     "output_type": "stream",
     "text": [
      "[[1. 1. 1. 1. 1. 1. 1. 1. 1. 1. 1. 1. 1. 1. 1. 1. 1. 1. 1. 1. 1. 1. 1. 1.\n",
      "  1. 1. 1. 1. 1. 1. 1. 1. 1. 1. 1. 1. 1. 1. 1. 1. 1. 1. 1. 1. 1. 1. 1. 1.\n",
      "  1. 1.]]\n",
      "(1, 50)\n"
     ]
    }
   ],
   "source": [
    "b = tf.Variable(tf.ones([1,50]))\n",
    "\n",
    "init = tf.global_variables_initializer()\n",
    "\n",
    "with tf.Session() as sess:\n",
    "    sess.run(init)\n",
    "    print(sess.run(b))\n",
    "    print(sess.run(b).shape)"
   ]
  },
  {
   "cell_type": "markdown",
   "metadata": {},
   "source": [
    "### ※ 문제121. mnist 훈련 데이터 100개와 W1 (784, 50)으로 만든 가중치와 내적한 결과와 위의 bias의 합을 구하시오"
   ]
  },
  {
   "cell_type": "code",
   "execution_count": 74,
   "metadata": {
    "ExecuteTime": {
     "end_time": "2020-08-17T05:32:45.191461Z",
     "start_time": "2020-08-17T05:32:44.503886Z"
    }
   },
   "outputs": [
    {
     "name": "stdout",
     "output_type": "stream",
     "text": [
      "Extracting MNIST_data/train-images-idx3-ubyte.gz\n",
      "Extracting MNIST_data/train-labels-idx1-ubyte.gz\n",
      "Extracting MNIST_data/t10k-images-idx3-ubyte.gz\n",
      "Extracting MNIST_data/t10k-labels-idx1-ubyte.gz\n",
      "[[ 6.238037    8.98834    11.626779   ...  7.19136    -1.9642506\n",
      "  -6.152054  ]\n",
      " [ 4.2653418   5.134612    6.7903295  ...  4.772041   -1.7245097\n",
      "   3.3326375 ]\n",
      " [ 2.9617202  -1.1303968   2.6033964  ...  1.8364942   3.7090244\n",
      "   0.39990473]\n",
      " ...\n",
      " [ 0.6526172   2.88939    10.071863   ...  8.315824   -0.4677856\n",
      "  -3.9605932 ]\n",
      " [ 1.7657442   9.639545    8.359711   ...  4.585883    3.3009493\n",
      "   1.2603588 ]\n",
      " [-1.3883157   1.3874772   9.155603   ... -2.3095734   4.9295473\n",
      "   1.3065573 ]]\n"
     ]
    }
   ],
   "source": [
    "from tensorflow.examples.tutorials.mnist import input_data\n",
    "mnist = input_data.read_data_sets(\"MNIST_data/\", one_hot = True)\n",
    "\n",
    "x = tf.placeholder('float',[None,784])\n",
    "# 앞으로 행렬로 어떤 데이터를 feed_dict 할거라 placeholder로 생성\n",
    "batch_xs, batch_ys = mnist.train.next_batch(100)\n",
    "    \n",
    "W1 = tf.Variable(tf.random_uniform([784,50],-1,1)) \n",
    "b = tf.Variable(tf.ones([1,50]))\n",
    "rs = tf.matmul(x, W1) + b\n",
    "\n",
    "init = tf.global_variables_initializer()\n",
    "\n",
    "with tf.Session() as sess:\n",
    "    sess.run(init)\n",
    "    print(sess.run(rs, feed_dict={x:batch_xs}))"
   ]
  },
  {
   "cell_type": "markdown",
   "metadata": {},
   "source": [
    "### ※ 문제122. 위의 내적한 결과 y를 시그모이드 함수에 통과시켜서 y_hat으로 출력하시오"
   ]
  },
  {
   "cell_type": "code",
   "execution_count": 75,
   "metadata": {
    "ExecuteTime": {
     "end_time": "2020-08-17T05:34:30.300442Z",
     "start_time": "2020-08-17T05:34:29.574876Z"
    }
   },
   "outputs": [
    {
     "name": "stdout",
     "output_type": "stream",
     "text": [
      "Extracting MNIST_data/train-images-idx3-ubyte.gz\n",
      "Extracting MNIST_data/train-labels-idx1-ubyte.gz\n",
      "Extracting MNIST_data/t10k-images-idx3-ubyte.gz\n",
      "Extracting MNIST_data/t10k-labels-idx1-ubyte.gz\n",
      "[[2.92897224e-04 1.00224525e-01 9.99111474e-01 ... 8.86635482e-01\n",
      "  8.12573910e-01 8.97140622e-01]\n",
      " [6.86297715e-02 2.03251839e-03 9.84430432e-01 ... 8.38124990e-01\n",
      "  2.82424688e-03 9.71738935e-01]\n",
      " [4.23902810e-01 2.13101506e-03 9.88733530e-01 ... 6.20792031e-01\n",
      "  3.66568565e-06 1.27492547e-02]\n",
      " ...\n",
      " [3.98921967e-03 9.90533590e-01 9.37338769e-02 ... 9.70375419e-01\n",
      "  2.68167853e-01 9.89655375e-01]\n",
      " [7.01248646e-05 1.39116943e-02 9.99566078e-01 ... 4.85259742e-01\n",
      "  1.61417007e-01 6.35398805e-01]\n",
      " [1.67247653e-03 6.00573421e-03 8.56327295e-01 ... 7.68782377e-01\n",
      "  4.18158472e-02 9.99859214e-01]]\n"
     ]
    }
   ],
   "source": [
    "from tensorflow.examples.tutorials.mnist import input_data\n",
    "mnist = input_data.read_data_sets(\"MNIST_data/\", one_hot = True)\n",
    "\n",
    "x = tf.placeholder('float',[None,784])\n",
    "# 앞으로 행렬로 어떤 데이터를 feed_dict 할거라 placeholder로 생성\n",
    "batch_xs, batch_ys = mnist.train.next_batch(100)\n",
    "    \n",
    "W1 = tf.Variable(tf.random_uniform([784,50],-1,1)) \n",
    "b = tf.Variable(tf.ones([1,50]))\n",
    "rs = tf.matmul(x, W1) + b\n",
    "\n",
    "y_hat = tf.sigmoid(rs)\n",
    "\n",
    "init = tf.global_variables_initializer()\n",
    "\n",
    "with tf.Session() as sess:\n",
    "    sess.run(init)\n",
    "    print(sess.run(y_hat, feed_dict={x:batch_xs}))"
   ]
  },
  {
   "cell_type": "markdown",
   "metadata": {},
   "source": [
    "### ※ 문제123. 위의 활성화 함수를 sigmoid에서 relu로 변경하시오"
   ]
  },
  {
   "cell_type": "code",
   "execution_count": 77,
   "metadata": {
    "ExecuteTime": {
     "end_time": "2020-08-17T05:38:51.372262Z",
     "start_time": "2020-08-17T05:38:50.570757Z"
    }
   },
   "outputs": [
    {
     "name": "stdout",
     "output_type": "stream",
     "text": [
      "Extracting MNIST_data/train-images-idx3-ubyte.gz\n",
      "Extracting MNIST_data/train-labels-idx1-ubyte.gz\n",
      "Extracting MNIST_data/t10k-images-idx3-ubyte.gz\n",
      "Extracting MNIST_data/t10k-labels-idx1-ubyte.gz\n",
      "[[ 5.404805    0.         12.500315   ...  0.          0.86951053\n",
      "   0.        ]\n",
      " [ 1.4221957   4.131101    6.9718895  ...  0.          2.6015842\n",
      "   0.77431184]\n",
      " [ 7.3012156   0.          6.3533626  ...  5.0717263   0.\n",
      "   0.        ]\n",
      " ...\n",
      " [ 7.2641616   0.          7.71401    ...  4.5675993   0.78730726\n",
      "   0.27933908]\n",
      " [ 1.5166872   0.          4.178323   ...  7.192248    2.5692124\n",
      "   4.812578  ]\n",
      " [ 3.3317857   0.          0.         ...  5.887022    2.6854236\n",
      "   0.        ]]\n"
     ]
    }
   ],
   "source": [
    "from tensorflow.examples.tutorials.mnist import input_data\n",
    "mnist = input_data.read_data_sets(\"MNIST_data/\", one_hot = True)\n",
    "\n",
    "x = tf.placeholder('float',[None,784])\n",
    "# 앞으로 행렬로 어떤 데이터를 feed_dict 할거라 placeholder로 생성\n",
    "batch_xs, batch_ys = mnist.train.next_batch(100)\n",
    "    \n",
    "W1 = tf.Variable(tf.random_uniform([784,50],-1,1)) \n",
    "b = tf.Variable(tf.ones([1,50]))\n",
    "rs = tf.matmul(x, W1) + b\n",
    "\n",
    "y_hat = tf.nn.relu(rs)\n",
    "\n",
    "init = tf.global_variables_initializer()\n",
    "\n",
    "with tf.Session() as sess:\n",
    "    sess.run(init)\n",
    "    print(sess.run(y_hat, feed_dict={x:batch_xs}))"
   ]
  },
  {
   "cell_type": "markdown",
   "metadata": {},
   "source": [
    "### ※ 문제124. 위의 1층 신경망을 통과한 y_hat (100,50)과 (50,10) 으로 만든 W2와의 내적한 결과가 z로 출력되게끔 출력층 코드를 추가하시오"
   ]
  },
  {
   "cell_type": "code",
   "execution_count": 80,
   "metadata": {
    "ExecuteTime": {
     "end_time": "2020-08-17T06:06:57.882366Z",
     "start_time": "2020-08-17T06:06:57.123834Z"
    }
   },
   "outputs": [
    {
     "name": "stdout",
     "output_type": "stream",
     "text": [
      "Extracting MNIST_data/train-images-idx3-ubyte.gz\n",
      "Extracting MNIST_data/train-labels-idx1-ubyte.gz\n",
      "Extracting MNIST_data/t10k-images-idx3-ubyte.gz\n",
      "Extracting MNIST_data/t10k-labels-idx1-ubyte.gz\n",
      "[[-7.10862541e+00 -1.53333855e+01 -2.22393837e+01 -4.15927124e+01\n",
      "  -1.03115921e+01 -6.56896973e+00 -1.08590374e+01 -2.75789661e+01\n",
      "   1.35529690e+01  2.52315006e+01]\n",
      " [ 1.93139935e+00 -3.67275543e+01 -6.22521544e+00 -5.47236481e+01\n",
      "  -2.01815300e+01  2.21018829e+01 -1.12713604e+01 -3.48640785e+01\n",
      "   8.22161388e+00  2.92435684e+01]\n",
      " [-9.25604725e+00 -1.00887604e+01  1.89971066e+01 -2.34644184e+01\n",
      "   7.93770885e+00  5.18727922e+00 -7.84276009e-01 -1.10859919e+01\n",
      "  -1.38790112e+01  4.60087013e+00]\n",
      " [ 2.81498194e+00 -1.63552094e+01  2.47417974e+00 -3.61777229e+01\n",
      "  -1.18232126e+01  3.43369865e+01 -1.49229565e+01 -3.42680588e+01\n",
      "  -1.74873695e+01  1.80363503e+01]\n",
      " [-1.87543297e+01 -2.07667007e+01 -8.45582008e+00 -1.53031349e+01\n",
      "   1.12859213e+00  8.82600975e+00 -1.56886959e+01 -9.01890945e+00\n",
      "  -2.01462612e+01 -6.79623127e+00]\n",
      " [ 1.36238871e+01 -3.92190590e+01 -1.82409534e+01 -1.95418606e+01\n",
      "  -1.56602554e+01 -9.06024742e+00 -1.37985764e+01 -2.58693123e+01\n",
      "  -9.00672150e+00  2.32384968e+01]\n",
      " [ 6.80014515e+00 -2.22400970e+01  4.39280033e+00 -1.74151764e+01\n",
      "   1.05482702e+01  8.66035843e+00  2.27115393e+00 -2.12426052e+01\n",
      "  -4.22777605e+00  2.19874649e+01]\n",
      " [ 1.36966619e+01 -4.14759874e+00 -6.09891748e+00 -2.33262558e+01\n",
      "  -1.09659214e+01  5.86043835e+00  1.12948990e+01 -1.44250402e+01\n",
      "   3.41085434e+00  7.25423622e+00]\n",
      " [-1.45944023e+00 -1.68691216e+01 -4.28725100e+00 -4.00992508e+01\n",
      "  -1.60811710e+01 -9.66540527e+00  2.77442646e+00 -1.34739380e+01\n",
      "   1.57672787e+00  5.25108910e+00]\n",
      " [ 1.32435169e+01 -7.89211941e+00 -1.48035975e+01 -2.31276512e+01\n",
      "  -2.78847179e+01  9.73964214e-01 -1.26779366e+01 -3.20689812e+01\n",
      "  -1.44828820e+00  2.55786114e+01]\n",
      " [ 4.00334454e+00 -2.11554413e+01  1.57170177e+00 -1.31300106e+01\n",
      "   3.83667207e+00  6.53082180e+00 -2.50556660e+01 -2.56655331e+01\n",
      "   2.18521919e+01  1.60659790e+01]\n",
      " [-3.11340809e-01 -2.80149097e+01 -2.76130714e+01 -2.99381466e+01\n",
      "  -9.55044842e+00  1.48346653e+01 -2.46108494e+01 -2.05937901e+01\n",
      "  -1.25084553e+01  2.55066376e+01]\n",
      " [ 6.50616741e+00 -1.39457207e+01 -1.94723463e+00 -3.87698250e+01\n",
      "  -2.72433815e+01  3.28193665e-01  1.54035187e+00 -3.35949783e+01\n",
      "   8.85887146e-02  7.50899792e+00]\n",
      " [-1.55866737e+01 -2.02057629e+01 -1.28911743e+01 -1.61560287e+01\n",
      "   3.64160633e+00 -9.93210983e+00 -1.15705967e+01 -2.80465927e+01\n",
      "   2.27008171e+01  8.27820778e+00]\n",
      " [ 4.27857304e+00 -3.04230537e+01 -4.53078938e+00 -4.52537766e+01\n",
      "  -3.16464272e+01  1.84396591e+01 -3.13159943e+01 -3.08394413e+01\n",
      "   9.99433327e+00  3.30364380e+01]\n",
      " [-1.00812273e+01 -1.33398523e+01 -2.23618374e+01 -2.66763554e+01\n",
      "  -7.10932255e+00  1.08151617e+01 -1.55738411e+01 -1.87157974e+01\n",
      "  -3.83565140e+00  1.14523306e+01]\n",
      " [ 8.40983391e+00 -5.60692835e+00 -7.20282555e+00 -1.42407026e+01\n",
      "  -6.71030998e-01 -3.13950300e-01 -1.01092424e+01 -2.28149090e+01\n",
      "   1.52630196e+01  1.79497986e+01]\n",
      " [-1.21642056e+01 -9.19397163e+00 -1.25207300e+01 -1.92213383e+01\n",
      "  -2.06750698e+01  1.29438286e+01 -1.29346943e+01 -1.44269085e+01\n",
      "  -4.05191374e+00  1.38917465e+01]\n",
      " [ 3.22416925e+00 -2.26196899e+01  9.52157736e-01 -1.51539097e+01\n",
      "   7.50289488e+00  1.02732887e+01 -2.35532703e+01 -2.33631439e+01\n",
      "   2.67084465e+01  1.26675873e+01]\n",
      " [-1.71786785e-01 -3.07092896e+01 -2.30359955e+01 -3.12004700e+01\n",
      "  -6.55193615e+00  1.27520428e+01 -3.03843079e+01 -3.30241852e+01\n",
      "  -1.47815313e+01  3.91159134e+01]\n",
      " [ 5.07180929e+00 -2.54887009e+01  4.15844631e+00 -1.33425884e+01\n",
      "  -7.70427823e-01 -1.24304972e+01 -1.19046755e+01  1.79401195e+00\n",
      "   4.56537008e+00  7.97052908e+00]\n",
      " [-5.29404831e+00 -9.57618713e+00 -6.59002781e-01 -2.05480232e+01\n",
      "  -1.42385321e+01  1.29307947e+01 -1.46707211e+01 -2.52842979e+01\n",
      "   8.96254539e+00  1.86694145e+01]\n",
      " [ 2.06081581e+00 -2.37424335e+01  1.16261339e+01 -1.77009773e+01\n",
      "   4.69313812e+00  1.31676254e+01 -7.64000893e+00 -3.82975864e+00\n",
      "  -1.18337736e+01 -1.43868694e+01]\n",
      " [ 3.16454649e-01 -1.95253582e+01 -2.28476486e+01 -2.75500565e+01\n",
      "  -1.22780657e+01  7.41253901e+00 -1.21120062e+01 -2.98817005e+01\n",
      "   6.66925144e+00  2.07364063e+01]\n",
      " [ 6.71908855e-02 -1.07851171e+01 -4.53221512e+00 -1.73076572e+01\n",
      "   1.86273932e+00  8.78183460e+00 -1.87557564e+01 -1.48477879e+01\n",
      "   2.28881493e+01  7.87254238e+00]\n",
      " [-5.49027252e+00 -2.29864216e+01 -2.47605729e+00 -8.35307312e+00\n",
      "  -7.25068760e+00 -2.11313319e+00 -1.68671551e+01 -2.55189495e+01\n",
      "   1.17523298e+01  5.08438730e+00]\n",
      " [ 3.73748875e+00 -2.18662891e+01 -1.26404505e+01 -8.73677921e+00\n",
      "  -6.51609039e+00  7.65354824e+00 -1.96265659e+01 -2.60797005e+01\n",
      "   2.38939648e+01  1.30935869e+01]\n",
      " [-1.55543098e+01 -2.08929691e+01 -2.34423237e+01 -5.48858376e+01\n",
      "  -2.95487556e+01 -1.19424744e+01 -2.16361446e+01 -6.08135300e+01\n",
      "   3.12425823e+01  2.79596443e+01]\n",
      " [-7.19978142e+00 -3.20361671e+01 -5.60367060e+00 -1.30386696e+01\n",
      "  -1.63713284e+01  1.65440750e+01 -1.21008186e+01 -1.63370056e+01\n",
      "  -3.10302019e-01  6.87294006e-02]\n",
      " [ 1.61240501e+01 -2.04506989e+01 -1.36812658e+01 -6.84457779e+00\n",
      "  -1.87410889e+01 -1.36138916e+00 -5.86407185e+00 -1.27459106e+01\n",
      "  -1.17575884e+01  6.09725428e+00]\n",
      " [ 1.29912577e+01 -1.21076479e+01  2.42784405e+00 -4.20116425e+01\n",
      "  -1.82648230e+00  1.18854942e+01 -6.83293152e+00 -2.35310116e+01\n",
      "   5.47611332e+00  1.43219070e+01]\n",
      " [-1.72357273e+01 -3.65881615e+01 -3.43212776e+01 -1.92710781e+01\n",
      "  -1.83687668e+01  1.42879753e+01 -3.72190170e+01 -5.13046417e+01\n",
      "   9.77743912e+00  2.66172361e+00]\n",
      " [-7.89943886e+00 -1.46316299e+01  5.61605167e+00 -7.59225178e+00\n",
      "   7.01270485e+00 -1.46136856e+00 -2.19228888e+00 -8.14926147e+00\n",
      "  -1.09147978e+00  2.02967358e+01]\n",
      " [ 9.40086746e+00 -2.81088276e+01 -2.29899025e+00 -2.00903111e+01\n",
      "  -4.35731125e+00 -1.61125755e+01 -2.48386497e+01 -4.72241669e+01\n",
      "   3.16970015e+00  2.62650642e+01]\n",
      " [ 2.34312401e+01 -1.80596390e+01 -3.58066444e+01 -3.34835701e+01\n",
      "  -2.64809895e+01  1.32904806e+01 -8.23416710e+00 -5.51504288e+01\n",
      "   3.24127274e+01  3.69075966e+01]\n",
      " [-8.83434296e+00 -1.63749619e+01 -8.28264999e+00 -2.65780849e+01\n",
      "   1.62738762e+01  6.17869663e+00 -1.76826401e+01 -3.14725952e+01\n",
      "  -6.90949726e+00  1.74982357e+01]\n",
      " [-1.69715786e+00 -1.83731213e+01  5.02461767e+00 -5.07551765e+00\n",
      "  -4.43577461e+01  7.14279175e+00 -1.91981277e+01 -3.51063080e+01\n",
      "   1.08913660e+01 -3.12654543e+00]\n",
      " [-6.00176525e+00 -4.51236725e+01 -8.03593445e+00 -3.05659447e+01\n",
      "  -1.21818151e+01  2.25085621e+01 -2.43978157e+01 -3.56535988e+01\n",
      "   5.56522560e+00  5.08747482e+00]\n",
      " [-2.36101484e+00 -2.90552788e+01 -7.41147232e+00 -1.56323242e+01\n",
      "  -1.70720215e+01  2.02191429e+01 -7.27740097e+00 -2.38365307e+01\n",
      "   9.46892166e+00  3.98797798e+00]\n",
      " [ 1.02718248e+01 -1.61167660e+01 -2.74651241e+00 -1.01309509e+01\n",
      "   1.85554862e+00  4.36598492e+00 -2.59237919e+01 -2.16159973e+01\n",
      "   1.67232628e+01  1.55717278e+01]\n",
      " [-2.80646133e+00 -1.93659134e+01  6.63581991e+00 -1.58826008e+01\n",
      "   1.07732162e+01  3.90406418e+00 -1.44309464e+01 -1.04088326e+01\n",
      "  -2.42169724e+01  1.68898678e+00]\n",
      " [ 1.28896208e+01 -8.22384262e+00 -1.32056379e+01 -4.36257706e+01\n",
      "  -2.68422871e+01  2.79160938e+01  3.19190025e-02 -2.29577770e+01\n",
      "  -6.00258923e+00  2.49714565e+01]\n",
      " [-9.58367443e+00 -3.27897501e+00 -1.37297988e+00 -2.29703999e+01\n",
      "  -1.58695393e+01  1.53934264e+00 -9.93895531e+00 -2.72213497e+01\n",
      "   8.35064697e+00  1.28721390e+01]\n",
      " [ 1.88195305e+01 -1.19948673e+01 -1.25610828e+01 -2.88327541e+01\n",
      "  -6.52168655e+00 -1.12283859e+01 -3.98798513e+00 -2.45427780e+01\n",
      "  -2.11506100e+01  2.53649597e+01]\n",
      " [ 1.84413319e+01 -2.59076786e+00 -1.12083702e+01 -1.50785789e+01\n",
      "  -4.05481529e+00 -8.84866142e+00 -2.04849195e+00 -2.16662750e+01\n",
      "   1.21659832e+01  1.84893465e+00]\n",
      " [-1.91557884e+00 -1.98797302e+01  3.12977743e+00 -2.55220985e+01\n",
      "  -1.07010841e+01  1.21033783e+01 -6.68682575e+00 -4.27357750e+01\n",
      "  -1.21781473e+01  1.49732647e+01]\n",
      " [-1.96264343e+01 -1.82366676e+01  3.63931966e+00 -2.66439018e+01\n",
      "  -6.15613818e-01  1.50516949e+01 -2.43208027e+01 -3.17174530e+01\n",
      "  -1.24260950e+00  1.34686985e+01]\n",
      " [-2.13673210e+01 -4.68705559e+01 -2.27519283e+01 -1.83356743e+01\n",
      "  -1.96683292e+01  5.59545231e+00 -9.23145390e+00 -2.30773373e+01\n",
      "   1.89452553e+01  6.19523001e+00]\n",
      " [-5.68659115e+00 -1.39921856e+01  1.24112263e+01 -2.21525192e+01\n",
      "  -3.26597023e+01 -4.08664227e-01 -1.13796101e+01 -2.77467880e+01\n",
      "   6.06831789e+00  8.81456566e+00]\n",
      " [-1.22895598e+00 -1.96684361e+01 -7.07598400e+00 -2.83638687e+01\n",
      "  -1.21377449e+01  1.16296988e+01 -2.79171696e+01 -2.26049938e+01\n",
      "   2.84353662e+00  2.15007229e+01]\n",
      " [-5.72315311e+00 -1.61250496e+01 -1.87795448e+01 -1.85616779e+01\n",
      "  -6.20667219e+00 -9.50221348e+00 -1.43611717e+00 -3.01231499e+01\n",
      "   3.09006996e+01  6.63395309e+00]\n",
      " [-1.01301050e+00 -1.47859364e+01  2.33548260e+00 -9.99814510e+00\n",
      "  -5.36282635e+00 -1.61061573e+00 -1.34285908e+01 -1.76652813e+01\n",
      "  -8.56366348e+00 -9.72410202e-01]\n",
      " [-9.27815342e+00 -1.24825716e+01  5.04535580e+00 -1.50305176e+01\n",
      "   2.16159153e+00  2.29149342e-01 -7.83942032e+00 -7.69488144e+00\n",
      "  -9.08000088e+00  1.13747606e+01]\n",
      " [ 4.04016113e+00 -3.17336960e+01 -1.54160633e+01 -4.42718582e+01\n",
      "   2.35362554e+00  1.10605354e+01  3.33481789e-01 -3.30240211e+01\n",
      "  -9.79546738e+00  1.47402020e+01]\n",
      " [ 7.00635433e+00 -2.67494850e+01 -7.11530972e+00 -1.05663986e+01\n",
      "  -1.45943737e+01  7.53625345e+00 -8.07021141e+00 -1.69079399e+01\n",
      "   1.41768379e+01  1.02939129e+01]\n",
      " [-2.52180958e+01 -4.23750343e+01 -3.11230431e+01 -2.45964699e+01\n",
      "  -2.33952904e+01  1.25627251e+01 -1.32593288e+01 -2.23907013e+01\n",
      "   1.58469963e+01  1.27786160e+01]\n",
      " [-3.16322803e-01 -1.33373795e+01 -9.20781136e-01 -2.27877121e+01\n",
      "  -1.13497772e+01 -1.64112244e+01 -1.53385162e-01 -3.88470745e+00\n",
      "   7.18685055e+00 -8.77836823e-01]\n",
      " [-1.95247650e+01 -4.14726906e+01 -1.83276634e+01 -1.68281956e+01\n",
      "  -1.35740042e-02  1.33909178e+01 -1.84881706e+01 -1.92332211e+01\n",
      "   2.24791012e+01  5.88431025e+00]\n",
      " [ 4.75906372e-01 -2.19231262e+01 -3.01119633e+01 -2.77152672e+01\n",
      "  -3.01678514e+00  9.59315681e+00 -2.25581608e+01 -2.68932724e+01\n",
      "   5.28810120e+00  3.41794777e+01]\n",
      " [ 8.80997658e+00 -8.09600258e+00 -9.81886101e+00 -2.97654896e+01\n",
      "   1.51362171e+01  9.30223370e+00 -1.80418091e+01 -1.57013111e+01\n",
      "  -1.83246708e+00  7.39228106e+00]\n",
      " [-2.82306900e+01 -2.53797379e+01 -2.87350101e+01 -3.57636490e+01\n",
      "  -7.53464222e+00 -1.53959141e+01 -2.17376747e+01 -3.42330055e+01\n",
      "   2.50800171e+01  2.46761856e+01]\n",
      " [ 1.48825340e+01 -2.35518551e+01 -1.93143845e-01 -4.32847900e+01\n",
      "  -4.24554634e+01  3.57371216e+01 -1.49226665e+01 -6.78781080e+00\n",
      "   5.82777691e+00  3.00139256e+01]\n",
      " [ 3.22005749e-02 -1.57959042e+01 -1.36222839e+00 -3.71676445e+01\n",
      "  -7.61051655e+00  1.50303707e+01 -1.19150887e+01 -3.48291512e+01\n",
      "   3.60869789e+00  3.77225399e+00]\n",
      " [-1.70427322e+01 -2.95140095e+01 -2.80615120e+01 -1.91188965e+01\n",
      "  -2.10166988e+01  8.76856136e+00 -1.04915142e+01 -2.17935467e+01\n",
      "   1.83543224e+01  1.30430403e+01]\n",
      " [ 6.81906605e+00 -1.56633911e+01 -1.71217232e+01 -1.51452656e+01\n",
      "  -4.80819941e+00  5.25403023e+00 -1.79638996e+01 -2.93167362e+01\n",
      "   2.37048531e+01  9.37133789e+00]\n",
      " [ 2.63175225e+00 -4.29095268e+01 -2.49362922e+00 -5.44604111e+01\n",
      "   1.86610374e+01  1.73598747e+01 -2.58040333e+00 -4.26866913e+01\n",
      "   1.56143312e+01  1.79995728e+01]\n",
      " [-5.22891426e+00 -1.19762268e+01 -7.47650433e+00 -3.36444511e+01\n",
      "  -4.39864206e+00 -1.18293629e+01  2.27884817e+00 -1.91876965e+01\n",
      "   6.33287430e-02  5.57107639e+00]\n",
      " [-8.34069633e+00 -3.36972351e+01 -2.99448776e+01 -3.57316666e+01\n",
      "  -3.02796707e+01  5.31033039e+00 -1.79284382e+01 -4.51818733e+01\n",
      "   9.65528965e+00  1.14359446e+01]\n",
      " [ 7.43095016e+00 -2.94513454e+01 -1.49455032e+01 -7.07558250e+00\n",
      "  -1.58474693e+01  6.55727386e+00 -1.42450199e+01 -1.20898142e+01\n",
      "   2.49510918e+01  1.83038635e+01]\n",
      " [-1.56149769e+00 -4.19675827e+01 -2.32749825e+01 -1.94075432e+01\n",
      "   1.35777879e+00  1.55321646e+01 -1.37103128e+01 -2.19183846e+01\n",
      "   5.67047739e+00 -1.82131767e-01]\n",
      " [-6.32663298e+00 -4.20851288e+01  4.10161304e+00 -2.39946327e+01\n",
      "   1.11991310e+01  1.63648758e+01 -1.71702538e+01 -2.26376228e+01\n",
      "   2.57844996e+00  1.38206024e+01]\n",
      " [-8.37958050e+00 -4.28066940e+01 -1.24675369e+01 -2.90438843e+01\n",
      "  -7.94620132e+00  2.21107330e+01 -1.27486553e+01 -2.43658295e+01\n",
      "  -4.45152760e+00 -2.10143948e+00]\n",
      " [ 3.43799353e+00 -2.15210629e+01 -7.10406065e-01 -2.12956142e+01\n",
      "   3.84996724e+00  3.23134279e+00  3.42812181e+00 -2.14954052e+01\n",
      "  -2.20590401e+00  2.08660202e+01]\n",
      " [-1.10545721e+01 -7.35885906e+00  4.82603168e+00 -2.46124601e+00\n",
      "   1.34472513e+01  3.02424240e+00 -2.04989529e+01 -3.16247253e+01\n",
      "   8.67440987e+00  5.70531940e+00]\n",
      " [ 2.27354360e+00 -2.84572792e+01 -2.25131359e+01 -3.05778084e+01\n",
      "  -7.38461590e+00  1.30576515e+01 -5.14750051e+00 -3.99728889e+01\n",
      "  -1.05331850e+00  2.72504025e+01]\n",
      " [ 1.43373623e+01 -1.62939606e+01 -1.46157589e+01 -2.82530632e+01\n",
      "  -1.13094282e+01  5.17177486e+00 -5.09467506e+00 -3.40884171e+01\n",
      "  -2.28352757e+01  7.57458115e+00]\n",
      " [-1.63554497e+01 -2.05136452e+01 -2.39961853e+01 -1.64525566e+01\n",
      "  -1.31809015e+01  1.41010475e+01 -1.39334316e+01 -3.22573700e+01\n",
      "   1.00221806e+01  1.92023621e+01]\n",
      " [ 1.66329074e+00 -1.85138836e+01  1.04568362e-01 -1.75886688e+01\n",
      "   2.01322079e-01  1.04705801e+01 -2.26155319e+01 -2.10632038e+01\n",
      "   2.58156109e+01  1.15375843e+01]\n",
      " [-2.11002922e+00 -1.00888872e+01 -8.10440445e+00 -5.98940086e+00\n",
      "   4.60824537e+00 -3.32745647e+00 -9.95733833e+00 -2.24114113e+01\n",
      "   3.26907039e+00  1.38764515e+01]\n",
      " [-8.63049889e+00 -1.11076050e+01 -1.11696329e+01 -3.54371300e+01\n",
      "   8.99255753e+00 -1.78777256e+01 -4.18695068e+00 -1.32611895e+01\n",
      "  -4.26098919e+00  1.01794157e+01]\n",
      " [ 2.54796529e+00 -5.93019629e+00 -6.08382702e-01 -3.12604980e+01\n",
      "  -1.83823528e+01  1.91103077e+01 -3.58795547e+01 -4.17624702e+01\n",
      "   1.65836678e+01  2.38959370e+01]\n",
      " [ 2.06410675e+01 -1.94137788e+00  1.35096431e+00 -2.16232567e+01\n",
      "  -1.28745441e+01  5.80914402e+00  1.30463457e+01 -8.34103107e+00\n",
      "  -8.87386322e+00  1.70517464e+01]\n",
      " [ 2.52761650e+01 -1.11223450e+01 -2.55126905e+00 -5.05884438e+01\n",
      "  -5.05775833e+01  3.12280273e+01 -1.35044060e+01 -9.03395653e+00\n",
      "   6.74352646e+00  2.75724525e+01]\n",
      " [-2.75302353e+01 -3.50813484e+01 -1.65161324e+01 -1.63948174e+01\n",
      "  -6.52420187e+00  1.80611992e+01 -1.68292332e+01 -1.59447384e+01\n",
      "  -1.34613943e+00 -1.56903973e+01]\n",
      " [ 3.44115067e+00 -2.66011486e+01 -2.26616650e+01 -3.07114811e+01\n",
      "  -6.05577612e+00  6.71725273e-01 -6.19817162e+00 -3.32655296e+01\n",
      "   3.12417526e+01  2.16357670e+01]\n",
      " [-1.76981831e+00 -8.40313530e+00  1.19393635e+01 -3.79605770e+00\n",
      "   1.55397863e+01  3.03259778e+00 -2.68144283e+01 -1.84128075e+01\n",
      "   1.30848122e+01  8.49147439e-01]\n",
      " [ 2.07184906e+01 -6.57272053e+00 -1.67597198e+01 -2.65346012e+01\n",
      "  -4.34857273e+00  4.73677731e+00 -1.36155777e+01 -3.04299660e+01\n",
      "  -6.32593727e+00  1.52788219e+01]\n",
      " [ 3.99311590e+00 -1.52937584e+01 -1.55589504e+01 -1.22775106e+01\n",
      "  -1.28327341e+01 -4.11699295e-01 -1.45895433e+01 -1.41644106e+01\n",
      "   3.52063632e+00  1.67804108e+01]\n",
      " [-1.68360367e+01 -4.55231056e+01 -2.48938618e+01 -1.41201344e+01\n",
      "  -8.97340679e+00  1.08880482e+01 -2.88691216e+01 -1.97521553e+01\n",
      "   1.85821476e+01  1.26335230e+01]\n",
      " [-2.39080524e+00 -1.89062157e+01  1.31359282e+01 -1.20690060e+01\n",
      "   6.62352848e+00  1.44585133e+01 -1.03726883e+01  7.86059809e+00\n",
      "  -1.27381935e+01  3.69557905e+00]\n",
      " [ 3.51049995e+00 -2.61643677e+01  3.09394836e-01 -3.15025978e+01\n",
      "  -1.71411324e+01 -1.20847588e+01 -2.68259430e+00 -2.92737656e+01\n",
      "  -1.52415714e+01  2.28467560e+01]\n",
      " [-6.12335777e+00 -1.88669205e+01 -5.95604801e+00 -2.42212715e+01\n",
      "  -8.73384857e+00  3.58179235e+00 -1.04049339e+01 -1.75162582e+01\n",
      "   3.93198919e+00  1.14807720e+01]\n",
      " [-7.59974003e+00 -1.74165297e+00 -4.12776232e+00 -6.37891626e+00\n",
      "  -1.65620995e+01 -1.37550392e+01 -1.03757896e+01 -1.79900208e+01\n",
      "  -1.69845676e+00  1.91075993e+01]\n",
      " [-1.29350777e+01 -1.15948372e+01  1.63917303e+00 -2.38749199e+01\n",
      "  -1.47470922e+01  1.75917816e+00  7.87778807e+00 -3.46635132e+01\n",
      "   7.83333397e+00  6.00496292e+00]\n",
      " [-4.67506886e-01 -2.16529408e+01 -1.16221266e+01 -2.26751289e+01\n",
      "  -4.72808599e-01  1.00173740e+01 -2.78630447e+01  2.70068884e+00\n",
      "  -1.54343624e+01  2.27013855e+01]\n",
      " [-6.57664585e+00 -2.60166664e+01  6.10030413e+00 -1.07242832e+01\n",
      "   4.33234930e+00  3.77208233e+00 -1.50588245e+01 -2.19933453e+01\n",
      "   1.10454350e+01  2.11617165e+01]\n",
      " [-1.00408640e+01 -4.40033417e+01 -2.17926540e+01 -4.83031082e+01\n",
      "  -1.71670189e+01  4.26270294e+00 -8.87637138e-01 -4.95304832e+01\n",
      "   1.97543068e+01  2.62904053e+01]\n",
      " [-1.18475971e+01 -1.63630867e+01 -1.68112717e+01 -1.27684937e+01\n",
      "  -2.16594601e+01 -4.22437906e-01  1.82574284e+00 -2.74877300e+01\n",
      "   2.27351494e+01  8.68903923e+00]\n",
      " [ 4.05715895e+00 -2.60186806e+01 -1.01114655e+00 -5.29182777e+01\n",
      "   6.70231009e+00  1.61427612e+01  5.58805370e+00 -3.50366745e+01\n",
      "  -7.89865780e+00  1.35050783e+01]\n",
      " [-1.15308952e+01 -2.25351830e+01 -2.07892551e+01 -1.41499166e+01\n",
      "  -1.49200611e+01 -5.83467436e+00 -1.18126831e+01 -2.53759499e+01\n",
      "   2.10572681e+01  3.91195416e+00]]\n"
     ]
    }
   ],
   "source": [
    "mnist = input_data.read_data_sets(\"MNIST_data/\", one_hot = True)\n",
    "batch_xs, batch_ys = mnist.train.next_batch(100)\n",
    "\n",
    "# 은닉1층\n",
    "x = tf.placeholder('float',[None,784])\n",
    "W1 = tf.Variable(tf.random_uniform([784,50],-1,1)) \n",
    "b1 = tf.Variable(tf.ones([1,50]))\n",
    "y = tf.matmul(x, W1) + b1\n",
    "y_hat = tf.nn.relu(y)\n",
    "\n",
    "# 출력층\n",
    "W2 = tf.Variable(tf.random_uniform([50,10],-1,1))\n",
    "b2 = tf.Variable(tf.ones([1,10]))\n",
    "z = tf.matmul(y_hat,W2) + b2\n",
    "\n",
    "init = tf.global_variables_initializer()\n",
    "\n",
    "with tf.Session() as sess:\n",
    "    sess.run(init)\n",
    "    print(sess.run(z, feed_dict={x:batch_xs}))"
   ]
  },
  {
   "cell_type": "markdown",
   "metadata": {},
   "source": [
    "### ※ 문제125. 위의 출력층에서 나온 z값을 softmax 함수에 넣고 통과시켜서 나온 확률 벡터를 z_hat에 담게끔 코드를 추가하시오"
   ]
  },
  {
   "cell_type": "code",
   "execution_count": 82,
   "metadata": {
    "ExecuteTime": {
     "end_time": "2020-08-17T06:11:03.015886Z",
     "start_time": "2020-08-17T06:11:02.128367Z"
    }
   },
   "outputs": [
    {
     "name": "stdout",
     "output_type": "stream",
     "text": [
      "Extracting MNIST_data/train-images-idx3-ubyte.gz\n",
      "Extracting MNIST_data/train-labels-idx1-ubyte.gz\n",
      "Extracting MNIST_data/t10k-images-idx3-ubyte.gz\n",
      "Extracting MNIST_data/t10k-labels-idx1-ubyte.gz\n",
      "[[2.95397271e-08 2.74325562e-09 2.71074179e-13 5.77582538e-27\n",
      "  2.38294918e-02 1.12978360e-09 3.64958324e-12 9.76170480e-01\n",
      "  3.58744634e-09 3.51824635e-13]\n",
      " [1.01485469e-08 6.62696677e-12 5.73179877e-14 8.19042082e-17\n",
      "  1.00000000e+00 1.04092794e-13 1.43379046e-14 4.93746022e-08\n",
      "  1.18038346e-09 4.47620323e-08]\n",
      " [8.21563217e-12 1.99202766e-20 6.80955197e-17 1.36534750e-30\n",
      "  1.00000000e+00 2.05775657e-27 2.28492253e-30 2.87434046e-17\n",
      "  7.98917410e-14 3.92648332e-08]\n",
      " [1.30188944e-08 2.26879579e-28 8.02774834e-24 0.00000000e+00\n",
      "  1.00000000e+00 2.82068977e-19 2.00459534e-30 8.54375080e-20\n",
      "  1.13631880e-12 3.93694002e-14]\n",
      " [4.84666884e-08 7.56924107e-11 3.21231131e-16 2.71158335e-19\n",
      "  9.99972343e-01 4.83444448e-12 6.71543323e-19 3.40353960e-12\n",
      "  1.44139640e-05 1.32749919e-05]\n",
      " [3.82284561e-05 1.05143404e-16 3.25455198e-28 2.28030972e-28\n",
      "  9.99961734e-01 1.01705192e-27 1.05632419e-28 3.33367839e-12\n",
      "  3.17615574e-12 2.22661008e-14]\n",
      " [7.65233543e-10 3.27168591e-03 5.31287514e-10 4.46968027e-12\n",
      "  9.98014398e-03 2.79555596e-08 5.83093987e-16 9.84499156e-01\n",
      "  2.17367429e-03 7.53283966e-05]\n",
      " [2.47349846e-04 8.39805289e-04 1.12906679e-18 3.11900361e-23\n",
      "  1.06143067e-02 4.85468476e-19 2.25747577e-18 9.88298535e-01\n",
      "  1.93566874e-09 1.12180129e-13]\n",
      " [1.10734181e-04 2.36242991e-12 2.66365809e-21 2.00432029e-25\n",
      "  9.03812051e-01 7.89466637e-13 1.91006459e-17 1.62520693e-04\n",
      "  9.59146991e-02 7.82963269e-16]\n",
      " [2.76312328e-12 9.99972105e-01 1.09292112e-16 9.10575043e-24\n",
      "  2.77664712e-05 1.08866959e-14 1.26367627e-18 1.59315650e-09\n",
      "  6.57930315e-08 1.67587118e-08]\n",
      " [9.99973536e-01 2.02226370e-20 8.41165083e-19 2.08895144e-26\n",
      "  2.64410719e-05 2.37979297e-20 4.78151644e-13 1.28661054e-10\n",
      "  3.88542102e-15 2.00933579e-14]\n",
      " [1.03921523e-18 9.76168202e-16 1.74851328e-29 3.40038682e-36\n",
      "  1.00000000e+00 1.77168289e-30 8.97905033e-35 6.82711202e-16\n",
      "  1.17000629e-15 7.86050793e-23]\n",
      " [9.30453002e-01 5.53459834e-10 1.57014484e-13 3.28744779e-12\n",
      "  9.57910379e-04 1.44684471e-12 6.58907217e-12 6.85822815e-02\n",
      "  6.77036678e-06 9.60986846e-09]\n",
      " [9.83353853e-01 1.55804618e-18 6.90453120e-13 5.58131368e-29\n",
      "  1.66367143e-02 1.26220649e-14 3.33057352e-26 1.00195983e-10\n",
      "  9.48771867e-06 1.66679360e-13]\n",
      " [4.07167408e-06 2.13356204e-23 1.38149140e-19 2.66582007e-20\n",
      "  9.99995947e-01 1.44010433e-22 1.40678770e-29 1.07215991e-15\n",
      "  7.74618163e-13 3.64278920e-14]\n",
      " [2.14902558e-11 7.17944419e-03 3.77169663e-24 9.68622821e-24\n",
      "  7.19608128e-01 1.07753371e-25 3.78136185e-25 2.72539198e-01\n",
      "  3.88692251e-06 6.69394678e-04]\n",
      " [4.19355359e-07 4.36499156e-03 2.53808170e-18 2.93616030e-19\n",
      "  9.02734220e-01 3.91442168e-16 2.99417994e-15 9.28999707e-02\n",
      "  3.01498604e-09 4.61138256e-07]\n",
      " [1.68607361e-15 1.65357539e-15 1.05950023e-11 8.74491828e-19\n",
      "  9.99544919e-01 3.32488685e-19 1.98858642e-27 9.82638623e-11\n",
      "  5.73271881e-11 4.55011497e-04]\n",
      " [2.17618371e-11 1.86423983e-13 1.30112351e-25 0.00000000e+00\n",
      "  1.00000000e+00 1.18918640e-26 4.27238645e-35 4.74724970e-08\n",
      "  1.37555821e-14 4.93979503e-16]\n",
      " [9.96026158e-01 2.14402824e-19 1.38035041e-18 4.74508842e-31\n",
      "  3.97385703e-03 7.83608417e-23 1.59494718e-13 7.86274778e-12\n",
      "  1.46751550e-18 1.34299275e-21]\n",
      " [4.82463156e-06 6.49030968e-11 1.48861406e-13 3.97560009e-17\n",
      "  9.99969721e-01 6.19155812e-12 9.76281230e-14 9.39218268e-08\n",
      "  1.23201258e-11 2.53597409e-05]\n",
      " [7.74228036e-01 5.81632565e-19 5.86427955e-12 3.14819171e-16\n",
      "  1.98019579e-01 1.03473330e-09 2.55834362e-20 3.10120124e-11\n",
      "  2.77523864e-02 2.00615258e-09]\n",
      " [6.06238109e-06 1.12921131e-12 1.31099080e-15 5.49162122e-14\n",
      "  9.99970198e-01 4.16724959e-19 2.07110081e-25 1.64878089e-09\n",
      "  9.35347719e-13 2.37355198e-05]\n",
      " [1.09312950e-07 4.07116658e-17 9.73714517e-14 3.80036501e-32\n",
      "  9.99999881e-01 4.35595585e-19 3.94472781e-21 1.44140274e-13\n",
      "  2.32859482e-10 1.58039457e-25]\n",
      " [4.82406328e-03 2.11004921e-20 4.38857528e-14 2.28233484e-27\n",
      "  9.40401077e-01 1.05758512e-12 1.19198772e-13 1.01164303e-04\n",
      "  5.46737351e-02 2.55428196e-11]\n",
      " [3.66256665e-15 8.35396856e-13 1.48915283e-32 1.55992159e-33\n",
      "  9.99999762e-01 1.42288365e-19 2.35336960e-26 1.39972800e-09\n",
      "  1.06646506e-12 2.72261474e-07]\n",
      " [1.78818673e-01 6.05721376e-04 6.80986165e-14 1.39993453e-12\n",
      "  8.19625497e-01 5.47854557e-12 3.60532063e-17 9.50115500e-04\n",
      "  1.31125724e-08 6.26581686e-13]\n",
      " [1.04904819e-16 1.08664722e-08 2.74210968e-19 1.33155187e-21\n",
      "  9.99997854e-01 3.45060710e-22 2.76764086e-23 2.19932258e-06\n",
      "  1.56462156e-17 1.59425839e-09]\n",
      " [1.98609396e-09 2.10831329e-14 1.85838029e-11 1.64000378e-13\n",
      "  1.00000000e+00 1.88618316e-16 3.76805124e-21 8.73825838e-12\n",
      "  2.90676418e-13 1.14087614e-10]\n",
      " [3.01924298e-17 3.30788622e-20 2.12641881e-17 1.91436560e-17\n",
      "  1.00000000e+00 5.54635147e-19 1.18289456e-31 2.29556534e-21\n",
      "  5.50043101e-11 3.81642451e-14]\n",
      " [9.63921242e-21 7.60801366e-10 1.28433860e-23 8.61044676e-24\n",
      "  1.00000000e+00 4.47688976e-29 1.08638566e-28 2.06604157e-17\n",
      "  1.95671678e-16 1.17658927e-09]\n",
      " [8.99651064e-18 2.63675173e-14 3.01252205e-26 0.00000000e+00\n",
      "  1.00000000e+00 6.71432593e-30 2.98003855e-26 4.15795942e-18\n",
      "  1.95059033e-24 1.10513632e-21]\n",
      " [1.13470733e-05 2.33597086e-10 6.71554283e-19 1.59274314e-23\n",
      "  9.99988675e-01 1.96385441e-20 1.46814502e-21 1.23593535e-08\n",
      "  1.62431828e-08 6.78799016e-20]\n",
      " [5.69662632e-07 1.40845905e-05 5.47507332e-19 1.78464575e-24\n",
      "  9.99955177e-01 9.69972356e-19 8.19388339e-28 3.00991505e-05\n",
      "  9.73941830e-11 1.06077647e-11]\n",
      " [2.26459362e-09 1.01790371e-16 7.50362223e-20 2.42597537e-31\n",
      "  9.99999881e-01 4.71203395e-18 2.48255789e-24 6.20542480e-08\n",
      "  1.37591752e-14 1.19882500e-17]\n",
      " [1.18291948e-03 4.29982612e-11 2.28206259e-10 1.10472504e-18\n",
      "  9.98448730e-01 9.02740204e-14 1.01080353e-16 9.34429918e-05\n",
      "  2.74944789e-04 6.48664743e-14]\n",
      " [2.33890750e-12 3.23365794e-06 1.28275326e-15 1.03518461e-17\n",
      "  9.99996781e-01 3.81180491e-19 2.34612058e-18 1.19277743e-09\n",
      "  3.87204137e-14 4.72789452e-09]\n",
      " [5.29232714e-03 6.85144441e-11 3.45703311e-13 2.03498406e-21\n",
      "  9.94707704e-01 9.39188167e-14 7.35832421e-19 3.30999013e-11\n",
      "  7.35730626e-21 3.00085023e-23]\n",
      " [6.38081838e-06 2.78083864e-14 2.94747893e-09 3.29541456e-24\n",
      "  9.99993563e-01 2.66371285e-25 1.93485378e-22 4.41697824e-15\n",
      "  6.19461115e-27 8.54322161e-24]\n",
      " [9.22142529e-10 1.29915912e-18 9.46386438e-18 3.96487960e-23\n",
      "  1.00000000e+00 2.21086197e-19 7.52498362e-26 1.64406025e-16\n",
      "  5.31538626e-13 6.74100625e-18]\n",
      " [9.15416961e-17 1.81245036e-32 9.73166794e-33 0.00000000e+00\n",
      "  1.00000000e+00 7.18207524e-37 0.00000000e+00 1.65300521e-28\n",
      "  4.25800146e-21 3.94513556e-28]\n",
      " [1.44512562e-08 8.06151071e-15 3.98725649e-13 7.28223871e-17\n",
      "  1.00000000e+00 8.18601691e-17 3.86952441e-20 2.61961121e-19\n",
      "  4.74123833e-13 2.19664032e-17]\n",
      " [6.50657530e-05 1.26725647e-15 3.88504680e-12 1.48458722e-24\n",
      "  9.99679327e-01 1.02390509e-23 2.84160759e-12 2.55625404e-04\n",
      "  2.86249094e-16 6.01961633e-17]\n",
      " [7.31865736e-03 6.62229342e-18 3.77951143e-12 3.10952245e-23\n",
      "  9.92681205e-01 1.11357592e-14 1.08093000e-14 1.45863936e-07\n",
      "  3.96557898e-09 7.66383138e-11]\n",
      " [3.20025777e-07 8.22439870e-06 3.51570338e-24 1.84131843e-29\n",
      "  6.67448580e-01 1.60849406e-18 4.76158746e-23 3.32270950e-01\n",
      "  6.08681217e-10 2.71978060e-04]\n",
      " [2.03935106e-05 6.26934489e-05 5.18912203e-17 1.42700585e-19\n",
      "  9.77731273e-02 2.92125157e-13 5.55762491e-19 9.01119590e-01\n",
      "  1.30305892e-07 1.02407904e-03]\n",
      " [1.91096769e-04 8.45930964e-11 6.28204950e-15 1.20204760e-27\n",
      "  9.99794185e-01 1.79714879e-14 2.41056187e-23 1.15364355e-06\n",
      "  1.36160197e-05 2.49480964e-13]\n",
      " [2.42592618e-02 5.16142901e-17 1.34989989e-14 2.45462230e-25\n",
      "  9.75708604e-01 1.17802581e-14 1.41486481e-20 1.43964410e-10\n",
      "  3.21268526e-05 2.43814605e-14]\n",
      " [8.60691909e-03 3.15601969e-14 1.69168661e-12 1.57746237e-24\n",
      "  9.91253316e-01 2.05372849e-17 1.79029437e-12 1.39821364e-04\n",
      "  5.34291253e-13 1.16824139e-13]\n",
      " [3.03165049e-09 1.48405311e-12 1.33576037e-16 1.70041834e-26\n",
      "  1.00000000e+00 1.79282423e-18 4.00180184e-24 2.11253024e-08\n",
      "  6.77049237e-13 2.31850915e-13]\n",
      " [8.77354159e-06 1.78210879e-09 1.02899103e-08 2.77523161e-11\n",
      "  9.99961138e-01 1.95311313e-05 1.79742831e-14 1.66192820e-06\n",
      "  7.62598074e-06 1.16321075e-06]\n",
      " [7.22831464e-05 3.26457117e-23 5.09891527e-24 1.98924225e-34\n",
      "  9.99927759e-01 1.61264221e-17 2.29042386e-20 5.54075286e-14\n",
      "  1.83588717e-17 1.84496315e-19]\n",
      " [6.99445081e-07 1.29582040e-05 1.36570429e-13 7.42137499e-16\n",
      "  2.24841642e-04 5.18481535e-10 3.00514965e-15 4.04821709e-03\n",
      "  9.91738141e-01 3.97517579e-03]\n",
      " [7.00923265e-05 2.16038504e-18 1.07859863e-14 9.72960086e-26\n",
      "  6.47190630e-01 3.70133497e-24 7.29788129e-16 1.63059087e-06\n",
      "  8.41749684e-13 3.52737606e-01]\n",
      " [1.12661862e-15 2.48282328e-09 5.21642395e-14 1.44449560e-14\n",
      "  1.00000000e+00 1.49032502e-23 3.48454961e-26 1.52846435e-14\n",
      "  7.60237793e-12 4.77004666e-13]\n",
      " [1.00000000e+00 3.34332005e-19 1.03515140e-19 2.81111816e-27\n",
      "  1.66466556e-08 3.70763129e-17 9.55021376e-18 3.79783566e-10\n",
      "  9.51976938e-18 3.22613212e-22]\n",
      " [1.43895590e-11 1.04341924e-03 3.42115859e-20 8.75140997e-20\n",
      "  9.98956561e-01 1.68477427e-28 4.66389310e-28 4.92873475e-08\n",
      "  1.79118005e-13 1.56532481e-10]\n",
      " [2.14042160e-20 3.41867250e-29 0.00000000e+00 0.00000000e+00\n",
      "  1.00000000e+00 2.61579658e-34 0.00000000e+00 5.95695432e-26\n",
      "  8.39646350e-24 7.66997687e-26]\n",
      " [4.90767249e-09 7.44146805e-22 7.01642020e-22 4.78686032e-31\n",
      "  8.36967229e-06 2.90925147e-25 4.47038135e-23 2.16156586e-08\n",
      "  1.28164951e-10 9.99991655e-01]\n",
      " [3.36082703e-05 2.06435702e-10 4.17462560e-15 7.05406316e-28\n",
      "  9.99691963e-01 5.55056544e-20 2.10216041e-17 2.74483406e-04\n",
      "  1.21884085e-14 1.48967332e-11]\n",
      " [3.97307515e-01 7.91261062e-23 5.76229835e-19 4.10974428e-21\n",
      "  6.02692485e-01 5.09593219e-18 7.47880065e-16 1.82369370e-15\n",
      "  1.69421127e-15 3.45895671e-21]\n",
      " [1.14331233e-05 1.66975393e-15 7.71165053e-15 5.29426926e-17\n",
      "  9.99988556e-01 1.50878582e-21 2.20268743e-27 1.34957905e-16\n",
      "  5.34757565e-15 2.96798439e-15]\n",
      " [6.23322088e-11 2.81870194e-10 1.60370002e-14 3.32052916e-20\n",
      "  1.00000000e+00 1.68329254e-23 1.30970293e-26 7.49333755e-13\n",
      "  9.69959180e-14 3.23235227e-15]\n",
      " [5.51081753e-17 8.48172968e-18 2.83266016e-17 1.14072064e-22\n",
      "  6.23086464e-07 9.42514955e-10 3.10978583e-25 5.94284086e-16\n",
      "  9.99999404e-01 6.77043278e-18]\n",
      " [4.26439166e-01 6.15604928e-11 6.45632269e-07 2.09473231e-20\n",
      "  1.81071889e-02 7.10806502e-15 3.02795016e-08 5.55420876e-01\n",
      "  1.54603048e-15 3.20297113e-05]\n",
      " [1.23662539e-06 2.16354251e-17 1.59797800e-11 2.58810189e-14\n",
      "  9.99996543e-01 7.80605278e-19 9.80269863e-23 5.22650716e-13\n",
      "  2.22038807e-06 4.41286367e-08]\n",
      " [5.95474012e-06 3.13653800e-07 3.00425206e-11 1.34519594e-17\n",
      "  1.74616277e-01 2.16528806e-16 2.56073164e-24 1.59131996e-02\n",
      "  7.71498263e-01 3.79659608e-02]\n",
      " [1.46883004e-16 1.67312646e-05 2.23291045e-21 4.79789915e-31\n",
      "  9.99983311e-01 4.62316463e-10 9.39054403e-14 2.97151792e-09\n",
      "  7.75483233e-10 3.56846996e-08]\n",
      " [2.07331565e-11 7.27270901e-08 3.60768772e-24 1.10495729e-21\n",
      "  9.99998212e-01 5.83079032e-20 2.53249952e-19 1.62276388e-06\n",
      "  3.49637541e-10 4.68848995e-08]\n",
      " [9.43409145e-01 1.35730579e-06 1.51752074e-17 1.13148894e-22\n",
      "  5.57532869e-02 2.16748816e-17 1.98168015e-20 8.36281746e-04\n",
      "  2.77646073e-10 8.71101691e-10]\n",
      " [5.64600885e-01 7.15665868e-04 8.22234533e-15 7.34530234e-14\n",
      "  4.27570909e-01 2.04339856e-16 7.67870274e-18 7.11089652e-03\n",
      "  3.82457586e-08 1.52468817e-06]\n",
      " [1.73411790e-05 1.01064819e-04 1.70926885e-13 5.34754315e-13\n",
      "  9.86820638e-01 1.42830157e-11 1.45740859e-15 2.64086109e-03\n",
      "  1.04157180e-02 4.39767791e-06]\n",
      " [3.91962518e-10 3.75330463e-13 1.23150875e-16 6.30306928e-17\n",
      "  1.00000000e+00 3.35075098e-19 3.24664777e-24 3.04176476e-12\n",
      "  9.43384659e-09 2.33429907e-11]\n",
      " [6.67692022e-03 1.65800611e-17 4.28816814e-19 1.38809311e-17\n",
      "  9.93317723e-01 1.88124132e-17 7.90410573e-19 2.25673236e-09\n",
      "  5.34265382e-06 3.55736057e-13]\n",
      " [9.24045268e-15 1.26011179e-09 7.18856757e-23 4.36792982e-37\n",
      "  1.00000000e+00 6.81538857e-20 5.56551525e-25 1.00758169e-15\n",
      "  6.78288304e-22 1.08281529e-20]\n",
      " [6.49325921e-06 8.02359530e-16 1.88671088e-08 8.06356754e-18\n",
      "  9.99993443e-01 7.47308257e-23 1.74023963e-19 2.80795938e-12\n",
      "  7.27177873e-10 1.49355639e-08]\n",
      " [2.64226551e-17 1.25347420e-20 7.36908498e-26 1.03884772e-31\n",
      "  1.00000000e+00 3.97466143e-31 2.20738677e-37 9.78975286e-18\n",
      "  2.73295546e-13 1.89624290e-13]\n",
      " [6.34783159e-09 1.05614845e-18 1.00292647e-11 1.11190018e-32\n",
      "  1.00000000e+00 2.45674737e-22 5.87975713e-14 8.45728186e-17\n",
      "  6.84080709e-21 2.51117232e-15]\n",
      " [1.99281658e-09 3.88389019e-08 2.10861316e-07 4.62334829e-16\n",
      "  9.99492168e-01 8.90343088e-08 4.45535264e-14 5.07399556e-04\n",
      "  3.80051119e-08 2.86712809e-09]\n",
      " [8.62968152e-17 6.76194656e-10 3.22723667e-24 1.34371429e-36\n",
      "  1.00000000e+00 2.35310569e-22 2.00837498e-24 3.14234305e-10\n",
      "  6.84238012e-19 3.44576516e-12]\n",
      " [3.24879229e-12 5.53019539e-17 5.91192601e-19 1.27794332e-20\n",
      "  1.00000000e+00 2.20140505e-17 1.55457196e-15 3.67595407e-12\n",
      "  2.64364468e-11 2.46843162e-16]\n",
      " [3.65641084e-14 2.99592184e-10 2.64657074e-10 2.13548238e-03\n",
      "  2.15202495e-01 1.33872190e-05 9.13402015e-17 3.19997118e-09\n",
      "  7.82646716e-01 1.87789237e-06]\n",
      " [1.35358661e-07 5.05557152e-10 4.11815937e-23 0.00000000e+00\n",
      "  2.11642310e-02 9.97621178e-21 3.14923087e-35 9.78835583e-01\n",
      "  1.31229271e-07 2.52493564e-11]\n",
      " [3.16015196e-08 2.60735482e-16 3.96637445e-11 1.53229254e-25\n",
      "  9.99859691e-01 8.11818549e-13 5.56173380e-13 1.39710042e-04\n",
      "  6.06379501e-07 4.81595492e-08]\n",
      " [8.68028148e-20 7.57292846e-19 5.28493868e-20 4.11851843e-29\n",
      "  1.00000000e+00 1.29043512e-20 3.50038490e-29 2.75209220e-19\n",
      "  2.16670445e-10 4.09540811e-15]\n",
      " [4.50601829e-06 8.33543012e-09 9.81506196e-12 9.84585058e-23\n",
      "  9.99994397e-01 3.64512647e-21 1.75619895e-20 1.10096971e-06\n",
      "  9.61372469e-18 1.49652172e-14]\n",
      " [2.62441069e-01 1.96575736e-24 8.46573381e-14 8.91641143e-17\n",
      "  2.36376873e-05 1.87437100e-18 5.98241414e-22 1.64842640e-10\n",
      "  2.62678640e-07 7.37535059e-01]\n",
      " [2.42905139e-06 9.09064024e-09 7.57751492e-16 1.49551230e-19\n",
      "  9.99997377e-01 1.33624242e-14 3.04927456e-15 6.76528655e-09\n",
      "  8.63369891e-08 7.76944304e-08]\n",
      " [2.86553245e-07 1.01057971e-17 6.62875401e-19 3.98871823e-21\n",
      "  9.99920368e-01 1.69202651e-19 2.00248633e-23 2.96858644e-07\n",
      "  1.19716858e-14 7.90958220e-05]\n",
      " [1.34596185e-05 3.07714621e-22 1.28951796e-19 1.01799236e-21\n",
      "  9.99986529e-01 1.30345667e-31 2.97630479e-27 9.19039516e-18\n",
      "  2.08207465e-17 1.18114556e-26]\n",
      " [3.54844183e-01 1.66352975e-13 2.99856077e-22 1.78909539e-22\n",
      "  6.45130873e-01 2.47666462e-15 1.67491310e-15 1.53987365e-08\n",
      "  2.49367986e-05 8.45808455e-16]\n",
      " [9.63135064e-01 1.43679319e-14 4.60104962e-16 2.43379632e-29\n",
      "  3.68649364e-02 2.15564980e-20 5.14868448e-17 3.37447709e-10\n",
      "  4.55632421e-10 1.51337956e-10]\n",
      " [9.85048711e-01 1.27942166e-12 1.09013762e-11 2.23987694e-27\n",
      "  1.49512710e-02 4.09708761e-19 1.20055809e-27 1.03605693e-10\n",
      "  3.11620951e-08 1.25324154e-10]\n",
      " [3.49424190e-05 1.70663910e-08 8.84384959e-13 6.50524479e-09\n",
      "  9.99852538e-01 5.66297391e-11 4.06330862e-08 1.11384594e-04\n",
      "  9.92437663e-07 2.74106412e-07]\n",
      " [1.59529963e-12 1.16143333e-29 4.49118186e-25 0.00000000e+00\n",
      "  1.00000000e+00 8.03551369e-28 3.65359278e-31 2.00965223e-19\n",
      "  1.95518363e-12 4.84900366e-23]\n",
      " [1.00000000e+00 1.53950012e-37 1.83304807e-22 0.00000000e+00\n",
      "  4.24574709e-10 3.95169536e-24 9.04805891e-20 6.24752327e-20\n",
      "  1.18197406e-24 1.20518160e-30]\n",
      " [7.80523539e-01 2.69389545e-12 1.37213409e-11 4.62441576e-15\n",
      "  6.16818652e-05 1.16153549e-08 9.16731781e-17 1.27122086e-02\n",
      "  1.54805764e-06 2.06701025e-01]\n",
      " [3.18312154e-10 2.53820724e-14 8.55358048e-13 8.19175624e-19\n",
      "  1.00000000e+00 1.63294838e-22 3.26818780e-28 2.08919491e-14\n",
      "  4.60786160e-14 1.06127802e-17]\n",
      " [8.42562131e-11 3.28057851e-28 2.90756247e-28 0.00000000e+00\n",
      "  1.00000000e+00 9.99431247e-17 9.90496696e-32 3.42349273e-19\n",
      "  1.15933142e-13 1.96482925e-19]\n",
      " [7.98623357e-03 5.79411829e-16 1.37566771e-23 1.06578784e-28\n",
      "  9.92013752e-01 1.71989405e-16 1.38362210e-20 2.52152947e-08\n",
      "  1.42749586e-17 1.76024447e-15]]\n"
     ]
    }
   ],
   "source": [
    "mnist = input_data.read_data_sets(\"MNIST_data/\", one_hot = True)\n",
    "batch_xs, batch_ys = mnist.train.next_batch(100)\n",
    "\n",
    "# 은닉1층\n",
    "x = tf.placeholder('float',[None,784])\n",
    "W1 = tf.Variable(tf.random_uniform([784,50],-1,1)) \n",
    "b1 = tf.Variable(tf.ones([1,50]))\n",
    "y = tf.matmul(x, W1) + b1\n",
    "y_hat = tf.nn.relu(y)\n",
    "\n",
    "# 출력층\n",
    "W2 = tf.Variable(tf.random_uniform([50,10],-1,1))\n",
    "b2 = tf.Variable(tf.ones([1,10]))\n",
    "z = tf.matmul(y_hat,W2) + b2\n",
    "z_hat = tf.nn.softmax(z)\n",
    "\n",
    "init = tf.global_variables_initializer()\n",
    "\n",
    "with tf.Session() as sess:\n",
    "    sess.run(init)\n",
    "    print(sess.run(z_hat, feed_dict={x:batch_xs}))"
   ]
  },
  {
   "cell_type": "markdown",
   "metadata": {},
   "source": [
    "### ※ 문제126. 위에서 출력한 확률벡터에서 최댓값 원소의 인덱스 번호를 출력하시오\n",
    "    100개 출력"
   ]
  },
  {
   "cell_type": "code",
   "execution_count": 86,
   "metadata": {
    "ExecuteTime": {
     "end_time": "2020-08-17T06:15:43.522568Z",
     "start_time": "2020-08-17T06:15:42.745048Z"
    }
   },
   "outputs": [
    {
     "name": "stdout",
     "output_type": "stream",
     "text": [
      "Extracting MNIST_data/train-images-idx3-ubyte.gz\n",
      "Extracting MNIST_data/train-labels-idx1-ubyte.gz\n",
      "Extracting MNIST_data/t10k-images-idx3-ubyte.gz\n",
      "Extracting MNIST_data/t10k-labels-idx1-ubyte.gz\n",
      "[3 2 3 3 3 8 3 3 3 3 3 3 3 5 3 3 3 3 3 3 6 3 3 7 4 3 3 3 5 3 2 2 3 3 3 3 3\n",
      " 3 3 3 3 3 3 2 2 3 3 6 3 2 3 2 3 3 3 3 3 5 3 2 4 3 3 3 3 3 3 3 2 3 3 3 3 7\n",
      " 3 3 2 3 3 3 3 3 4 3 2 3 3 3 6 3 3 3 3 3 1 2 2 3 3 3]\n"
     ]
    }
   ],
   "source": [
    "mnist = input_data.read_data_sets(\"MNIST_data/\", one_hot = True)\n",
    "batch_xs, batch_ys = mnist.train.next_batch(100)\n",
    "\n",
    "# 은닉1층\n",
    "x = tf.placeholder('float',[None,784])\n",
    "W1 = tf.Variable(tf.random_uniform([784,50],-1,1)) \n",
    "b1 = tf.Variable(tf.ones([1,50]))\n",
    "y = tf.matmul(x, W1) + b1\n",
    "y_hat = tf.nn.relu(y)\n",
    "\n",
    "# 출력층\n",
    "W2 = tf.Variable(tf.random_uniform([50,10],-1,1))\n",
    "b2 = tf.Variable(tf.ones([1,10]))\n",
    "z = tf.matmul(y_hat,W2) + b2\n",
    "z_hat = tf.nn.softmax(z)\n",
    "\n",
    "y_predict = tf.argmax(z_hat, axis=1)\n",
    "\n",
    "init = tf.global_variables_initializer()\n",
    "\n",
    "with tf.Session() as sess:\n",
    "    sess.run(init)\n",
    "    print(sess.run(y_predict, feed_dict={x:batch_xs}))"
   ]
  },
  {
   "cell_type": "markdown",
   "metadata": {},
   "source": [
    "### ※ 문제127. 위의 코드에 정답(라벨)을 100개 가져오는 코드를 추가해서 정답을 출력하시오"
   ]
  },
  {
   "cell_type": "code",
   "execution_count": 87,
   "metadata": {
    "ExecuteTime": {
     "end_time": "2020-08-17T06:22:50.174858Z",
     "start_time": "2020-08-17T06:22:49.375351Z"
    },
    "scrolled": true
   },
   "outputs": [
    {
     "name": "stdout",
     "output_type": "stream",
     "text": [
      "Extracting MNIST_data/train-images-idx3-ubyte.gz\n",
      "Extracting MNIST_data/train-labels-idx1-ubyte.gz\n",
      "Extracting MNIST_data/t10k-images-idx3-ubyte.gz\n",
      "Extracting MNIST_data/t10k-labels-idx1-ubyte.gz\n",
      "[6 9 9 8 7 5 1 2 1 4 8 7 9 4 0 7 5 5 5 7 5 9 0 3 3 0 2 5 4 6 4 9 7 8 8 0 0\n",
      " 6 9 9 7 4 2 8 6 4 5 0 6 3 4 8 7 6 3 6 7 1 8 7 1 6 3 9 3 8 2 1 1 9 3 8 2 2\n",
      " 0 7 6 8 7 8 5 1 1 7 7 8 4 6 1 3 9 5 8 3 3 9 4 0 0 3]\n"
     ]
    }
   ],
   "source": [
    "# 데이터 불러오기\n",
    "mnist = input_data.read_data_sets(\"MNIST_data/\", one_hot = True)\n",
    "batch_xs, batch_ys = mnist.train.next_batch(100)\n",
    "\n",
    "# 은닉1층\n",
    "x = tf.placeholder('float',[None,784])\n",
    "W1 = tf.Variable(tf.random_uniform([784,50],-1,1)) \n",
    "b1 = tf.Variable(tf.ones([1,50]))\n",
    "y = tf.matmul(x, W1) + b1\n",
    "y_hat = tf.nn.relu(y)\n",
    "\n",
    "# 출력층\n",
    "W2 = tf.Variable(tf.random_uniform([50,10],-1,1))\n",
    "b2 = tf.Variable(tf.ones([1,10]))\n",
    "z = tf.matmul(y_hat,W2) + b2\n",
    "z_hat = tf.nn.softmax(z)\n",
    "\n",
    "y_predict = tf.argmax(z_hat, axis=1)\n",
    "\n",
    "# 정확도 확인\n",
    "y_onehot = tf.placeholder('float',[None,10]) # 정답 데이터를 담을 배열\n",
    "y_label = tf.argmax(y_onehot, axis=1)\n",
    "\n",
    "# 변수 초기화\n",
    "init = tf.global_variables_initializer()\n",
    "\n",
    "# 그래프 실행\n",
    "with tf.Session() as sess:\n",
    "    sess.run(init)\n",
    "    print(sess.run(y_label, feed_dict={x:batch_xs, y_onehot:batch_ys}))"
   ]
  },
  {
   "cell_type": "markdown",
   "metadata": {},
   "source": [
    "### ※ 문제128. 126번에서의 예측값과 127번에서 본 정답과의 비교를 통해 정확도를 출력하시오"
   ]
  },
  {
   "cell_type": "code",
   "execution_count": 88,
   "metadata": {
    "ExecuteTime": {
     "end_time": "2020-08-17T06:29:09.515881Z",
     "start_time": "2020-08-17T06:29:08.629396Z"
    }
   },
   "outputs": [
    {
     "name": "stdout",
     "output_type": "stream",
     "text": [
      "Extracting MNIST_data/train-images-idx3-ubyte.gz\n",
      "Extracting MNIST_data/train-labels-idx1-ubyte.gz\n",
      "Extracting MNIST_data/t10k-images-idx3-ubyte.gz\n",
      "Extracting MNIST_data/t10k-labels-idx1-ubyte.gz\n",
      "[2 4 7 0 2 4 3 5 1 9 9 6 5 2 5 6 0 7 0 4 8 7 3 4 3 0 7 8 1 0 6 2 6 3 0 7 3\n",
      " 1 0 1 6 9 9 5 3 0 1 4 7 4 0 3 7 2 1 6 5 1 0 1 2 9 1 9 7 5 3 1 8 3 0 1 3 3\n",
      " 0 2 1 8 0 8 8 2 5 1 5 2 8 2 1 0 2 4 2 3 2 3 8 6 2 1]\n",
      "\n",
      "\n",
      "[False False False False False False False False False  True  True False\n",
      " False False False False False False False False False False False False\n",
      " False False  True False False False False False False False False False\n",
      " False False False False False  True False False False False False False\n",
      " False False False False False False False False False False False False\n",
      " False  True False  True False False False False False False False False\n",
      " False False False False False False False False False False False False\n",
      " False False False False False False False False False False False False\n",
      " False False False False]\n"
     ]
    }
   ],
   "source": [
    "# 데이터 불러오기\n",
    "mnist = input_data.read_data_sets(\"MNIST_data/\", one_hot = True)\n",
    "batch_xs, batch_ys = mnist.train.next_batch(100)\n",
    "\n",
    "# 은닉1층\n",
    "x = tf.placeholder('float',[None,784])\n",
    "W1 = tf.Variable(tf.random_uniform([784,50],-1,1)) \n",
    "b1 = tf.Variable(tf.ones([1,50]))\n",
    "y = tf.matmul(x, W1) + b1\n",
    "y_hat = tf.nn.relu(y)\n",
    "\n",
    "# 출력층\n",
    "W2 = tf.Variable(tf.random_uniform([50,10],-1,1))\n",
    "b2 = tf.Variable(tf.ones([1,10]))\n",
    "z = tf.matmul(y_hat,W2) + b2\n",
    "z_hat = tf.nn.softmax(z)\n",
    "\n",
    "y_predict = tf.argmax(z_hat, axis=1)\n",
    "\n",
    "# 정확도 확인\n",
    "y_onehot = tf.placeholder('float',[None,10]) # 정답 데이터를 담을 배열\n",
    "y_label = tf.argmax(y_onehot, axis=1)\n",
    "\n",
    "correction_prediction = tf.equal(y_predict, y_label)\n",
    "\n",
    "# 변수 초기화\n",
    "init = tf.global_variables_initializer()\n",
    "\n",
    "# 그래프 실행\n",
    "with tf.Session() as sess:\n",
    "    sess.run(init)\n",
    "    print(sess.run(y_label, feed_dict={x:batch_xs, y_onehot:batch_ys}))\n",
    "    print('\\n')\n",
    "    print(sess.run(correction_prediction, feed_dict={x:batch_xs, y_onehot:batch_ys}))"
   ]
  },
  {
   "cell_type": "markdown",
   "metadata": {},
   "source": [
    "### ※ 문제129. 위의 결과에서 true는 1, false는 0이 되게하고 tf.reduce_mean을 이용해서 정확도를 출력하시오"
   ]
  },
  {
   "cell_type": "code",
   "execution_count": 89,
   "metadata": {
    "ExecuteTime": {
     "end_time": "2020-08-17T06:32:56.091685Z",
     "start_time": "2020-08-17T06:32:55.263197Z"
    }
   },
   "outputs": [
    {
     "name": "stdout",
     "output_type": "stream",
     "text": [
      "Extracting MNIST_data/train-images-idx3-ubyte.gz\n",
      "Extracting MNIST_data/train-labels-idx1-ubyte.gz\n",
      "Extracting MNIST_data/t10k-images-idx3-ubyte.gz\n",
      "Extracting MNIST_data/t10k-labels-idx1-ubyte.gz\n",
      "0.06\n"
     ]
    }
   ],
   "source": [
    "# 데이터 불러오기\n",
    "mnist = input_data.read_data_sets(\"MNIST_data/\", one_hot = True)\n",
    "batch_xs, batch_ys = mnist.train.next_batch(100)\n",
    "\n",
    "# 은닉1층\n",
    "x = tf.placeholder('float',[None,784])\n",
    "W1 = tf.Variable(tf.random_uniform([784,50],-1,1)) \n",
    "b1 = tf.Variable(tf.ones([1,50]))\n",
    "y = tf.matmul(x, W1) + b1\n",
    "y_hat = tf.nn.relu(y)\n",
    "\n",
    "# 출력층\n",
    "W2 = tf.Variable(tf.random_uniform([50,10],-1,1))\n",
    "b2 = tf.Variable(tf.ones([1,10]))\n",
    "z = tf.matmul(y_hat,W2) + b2\n",
    "z_hat = tf.nn.softmax(z)\n",
    "\n",
    "y_predict = tf.argmax(z_hat, axis=1)\n",
    "\n",
    "# 정확도 확인\n",
    "y_onehot = tf.placeholder('float',[None,10]) # 정답 데이터를 담을 배열\n",
    "y_label = tf.argmax(y_onehot, axis=1)\n",
    "\n",
    "correction_prediction = tf.equal(y_predict, y_label)\n",
    "\n",
    "accuracy = tf.reduce_mean(tf.cast(correction_prediction,'float'))\n",
    "\n",
    "# 변수 초기화\n",
    "init = tf.global_variables_initializer()\n",
    "\n",
    "# 그래프 실행\n",
    "with tf.Session() as sess:\n",
    "    sess.run(init)\n",
    "    print(sess.run(accuracy, feed_dict={x:batch_xs, y_onehot:batch_ys}))"
   ]
  },
  {
   "cell_type": "markdown",
   "metadata": {},
   "source": [
    "### <b>■ 텐서 플로우로 신경망 학습시키는 부분</b>\n",
    "    신경망을 학습 시키기 위해 필요한 2가지\n",
    "        1. 오차함수\n",
    "            - 평균 제곱 오차 함수 : 회귀분석\n",
    "                loss = tf.square(y_predict, y_label)\n",
    "            - 교차 엔트로피 오차 함수 : 분류문제\n",
    "                loss = - tf.reduce_sum(y_onehot * tf.log(y_predict), axis=1)\n",
    "        2. 경사하강법 함수\n",
    "            - SGD\n",
    "            - Momentum\n",
    "            - Adagrad\n",
    "            - Adam\n",
    "            \n",
    "### <b>■ 경사감소법을 텐써 플로우로 구현하는 방법 </b>\n",
    "```python\n",
    "SGD : \n",
    "optimizer = tf.train.GradientDescentOptimizer(learning_rate=0.01)\n",
    "    미니배치만큼 랜덤으로 데이터를 추출해서 확률적으로 경사를 감소 하여 global minima 로 찾아가는 방법 \n",
    "    단점 :  Local minima 에 잘 빠진다. \n",
    "\n",
    "Adagrad :\n",
    "optimizer = tf.train.AdagradOptimizer(learning_rate=0.01)\n",
    "    러닝 레이트가 학습되면서 자동 조절되는 경사감소법 \n",
    "\n",
    "Momentum :\n",
    "optimizer = tf.train.MomentumOptimizer(learning_rate=0.01)\n",
    "    관성을 이용해서 local minima 에 안빠지게 하는 경사감소법 \n",
    "\n",
    "Adam :\n",
    "optimizer = tf.train.AdamOptimizer(learning_rate=0.01)\n",
    "    Adagrade 의 장점 + Momentum 의 장점 \n",
    "```"
   ]
  },
  {
   "cell_type": "markdown",
   "metadata": {},
   "source": [
    "### ※ 문제130. 지금까지의 텐서플로우 신경망 코드에 오차함수인 교차 엔트로피 함수를 추가하고 loss를 출력하시오"
   ]
  },
  {
   "cell_type": "code",
   "execution_count": 92,
   "metadata": {
    "ExecuteTime": {
     "end_time": "2020-08-17T06:45:52.463212Z",
     "start_time": "2020-08-17T06:45:51.456673Z"
    }
   },
   "outputs": [
    {
     "name": "stdout",
     "output_type": "stream",
     "text": [
      "Extracting MNIST_data/train-images-idx3-ubyte.gz\n",
      "Extracting MNIST_data/train-labels-idx1-ubyte.gz\n",
      "Extracting MNIST_data/t10k-images-idx3-ubyte.gz\n",
      "Extracting MNIST_data/t10k-labels-idx1-ubyte.gz\n",
      "[1.12389050e+01 5.92308140e+00 3.11752510e+01 2.27692344e-05\n",
      " 7.74054871e+01 2.16676736e+00 3.74765282e+01 1.91258297e+01\n",
      " 1.33492861e+01 4.11959982e+00 1.83726196e+01 8.27219710e-03\n",
      " 2.48417873e+01 4.99731979e+01 2.34809723e+01 1.94616222e+01\n",
      " 3.68754425e+01 5.60564194e+01 3.11642380e+01 3.61567092e+00\n",
      " 3.40571518e+01 5.96246223e+01 3.12588558e+01 4.54311256e+01\n",
      " 0.00000000e+00 3.95448914e+01 1.50258452e-01 3.25472832e+01\n",
      " 7.00378323e+00 3.21581841e+00 3.33796234e+01 2.34613190e+01\n",
      " 3.70078888e+01 4.20370026e+01 1.05394936e+01 1.15977507e+01\n",
      " 1.19209290e-07 5.53715277e+00 2.03249431e+00 1.38473997e+01\n",
      " 2.95014000e+01 1.82536678e+01 1.19209290e-07 1.28566723e+01\n",
      " 1.20402110e-05 5.47131395e+00 4.92260704e+01 2.46999683e+01\n",
      " 3.75027618e+01 1.76359010e+00 8.77392292e-02 3.08261623e+01\n",
      " 1.90743673e+00 2.31569004e+01 9.42382738e-02            nan\n",
      " 1.47600889e+01 2.79969196e+01 7.78760719e+00 2.30028286e+01\n",
      " 2.02242870e+01 2.07257633e+01 5.12654352e+00            nan\n",
      " 5.99538861e-03 1.02953225e-01 2.87583084e+01 8.49998323e-05\n",
      " 3.24982834e+01 1.26450281e+01 2.21731734e-05 1.42316036e+01\n",
      " 1.51583099e+01 0.00000000e+00 1.04732494e+01 4.75922279e+01\n",
      " 4.11293564e+01 1.58750496e+01 4.61691093e+01 2.58493595e+01\n",
      " 1.79215469e+01 4.47826080e+01 5.14197922e+01 5.62705154e+01\n",
      " 4.28135147e+01 6.71505880e+00 8.91073322e+00 3.89576912e+01\n",
      " 3.75549469e+01 2.86764603e+01 1.81512616e-04 7.82956171e+00\n",
      " 2.43754530e+00 5.10125923e+01 1.57375574e+01 3.24411201e+01\n",
      " 5.11913719e+01 5.02859149e-03 1.05157644e-01 2.94638634e+00]\n"
     ]
    }
   ],
   "source": [
    "# 데이터 불러오기\n",
    "mnist = input_data.read_data_sets(\"MNIST_data/\", one_hot = True)\n",
    "batch_xs, batch_ys = mnist.train.next_batch(100)\n",
    "\n",
    "# 은닉1층\n",
    "x = tf.placeholder('float',[None,784])\n",
    "W1 = tf.Variable(tf.random_uniform([784,50],-1,1)) \n",
    "b1 = tf.Variable(tf.ones([1,50]))\n",
    "y = tf.matmul(x, W1) + b1\n",
    "y_hat = tf.nn.relu(y)\n",
    "\n",
    "# 출력층\n",
    "W2 = tf.Variable(tf.random_uniform([50,10],-1,1))\n",
    "b2 = tf.Variable(tf.ones([1,10]))\n",
    "z = tf.matmul(y_hat,W2) + b2\n",
    "z_hat = tf.nn.softmax(z)\n",
    "\n",
    "y_predict = tf.argmax(z_hat, axis=1)\n",
    "\n",
    "# 정확도 확인\n",
    "y_onehot = tf.placeholder('float',[None,10]) # 정답 데이터를 담을 배열\n",
    "y_label = tf.argmax(y_onehot, axis=1)\n",
    "\n",
    "correction_prediction = tf.equal(y_predict, y_label)\n",
    "\n",
    "accuracy = tf.reduce_mean(tf.cast(correction_prediction,'float'))\n",
    "\n",
    "# 오차 확인\n",
    "loss = - (tf.reduce_sum(y_onehot * tf.log(z_hat), axis=1))\n",
    "\n",
    "# 변수 초기화\n",
    "init = tf.global_variables_initializer()\n",
    "\n",
    "# 그래프 실행\n",
    "with tf.Session() as sess:\n",
    "    sess.run(init)\n",
    "    print(sess.run(loss, feed_dict={x:batch_xs, y_onehot:batch_ys}))"
   ]
  },
  {
   "cell_type": "markdown",
   "metadata": {},
   "source": [
    "### ※ 문제131. 위에는 오차가 100개가 나왔는데 100개가 나오게 하지 말고 100개의 평균값으로 출력되게 하시오\n",
    "    tf.reduce_mean을 사용"
   ]
  },
  {
   "cell_type": "code",
   "execution_count": 93,
   "metadata": {
    "ExecuteTime": {
     "end_time": "2020-08-17T07:10:22.172141Z",
     "start_time": "2020-08-17T07:10:21.200741Z"
    }
   },
   "outputs": [
    {
     "name": "stdout",
     "output_type": "stream",
     "text": [
      "Extracting MNIST_data/train-images-idx3-ubyte.gz\n",
      "Extracting MNIST_data/train-labels-idx1-ubyte.gz\n",
      "Extracting MNIST_data/t10k-images-idx3-ubyte.gz\n",
      "Extracting MNIST_data/t10k-labels-idx1-ubyte.gz\n",
      "nan\n"
     ]
    }
   ],
   "source": [
    "# 데이터 불러오기\n",
    "mnist = input_data.read_data_sets(\"MNIST_data/\", one_hot = True)\n",
    "batch_xs, batch_ys = mnist.train.next_batch(100)\n",
    "\n",
    "# 은닉1층\n",
    "x = tf.placeholder('float',[None,784])\n",
    "W1 = tf.Variable(tf.random_uniform([784,50],-1,1)) \n",
    "b1 = tf.Variable(tf.ones([1,50]))\n",
    "y = tf.matmul(x, W1) + b1\n",
    "y_hat = tf.nn.relu(y)\n",
    "\n",
    "# 출력층\n",
    "W2 = tf.Variable(tf.random_uniform([50,10],-1,1))\n",
    "b2 = tf.Variable(tf.ones([1,10]))\n",
    "z = tf.matmul(y_hat,W2) + b2\n",
    "z_hat = tf.nn.softmax(z)\n",
    "\n",
    "y_predict = tf.argmax(z_hat, axis=1)\n",
    "\n",
    "# 정확도 확인\n",
    "y_onehot = tf.placeholder('float',[None,10]) # 정답 데이터를 담을 배열\n",
    "y_label = tf.argmax(y_onehot, axis=1)\n",
    "\n",
    "correction_prediction = tf.equal(y_predict, y_label)\n",
    "\n",
    "accuracy = tf.reduce_mean(tf.cast(correction_prediction,'float'))\n",
    "\n",
    "# 오차 확인\n",
    "loss = tf.reduce_mean(-tf.reduce_sum(y_onehot * tf.log(z_hat), axis=1))\n",
    "\n",
    "# 변수 초기화\n",
    "init = tf.global_variables_initializer()\n",
    "\n",
    "# 그래프 실행\n",
    "with tf.Session() as sess:\n",
    "    sess.run(init)\n",
    "    print(sess.run(loss, feed_dict={x:batch_xs, y_onehot:batch_ys}))"
   ]
  },
  {
   "cell_type": "code",
   "execution_count": null,
   "metadata": {},
   "outputs": [],
   "source": []
  },
  {
   "cell_type": "code",
   "execution_count": null,
   "metadata": {},
   "outputs": [],
   "source": []
  },
  {
   "cell_type": "code",
   "execution_count": null,
   "metadata": {},
   "outputs": [],
   "source": []
  },
  {
   "cell_type": "code",
   "execution_count": null,
   "metadata": {},
   "outputs": [],
   "source": []
  },
  {
   "cell_type": "code",
   "execution_count": null,
   "metadata": {},
   "outputs": [],
   "source": []
  },
  {
   "cell_type": "code",
   "execution_count": null,
   "metadata": {},
   "outputs": [],
   "source": []
  },
  {
   "cell_type": "code",
   "execution_count": null,
   "metadata": {},
   "outputs": [],
   "source": []
  },
  {
   "cell_type": "code",
   "execution_count": null,
   "metadata": {},
   "outputs": [],
   "source": []
  },
  {
   "cell_type": "code",
   "execution_count": null,
   "metadata": {},
   "outputs": [],
   "source": []
  },
  {
   "cell_type": "code",
   "execution_count": null,
   "metadata": {},
   "outputs": [],
   "source": []
  }
 ],
 "metadata": {
  "kernelspec": {
   "display_name": "Python 3",
   "language": "python",
   "name": "python3"
  },
  "language_info": {
   "codemirror_mode": {
    "name": "ipython",
    "version": 3
   },
   "file_extension": ".py",
   "mimetype": "text/x-python",
   "name": "python",
   "nbconvert_exporter": "python",
   "pygments_lexer": "ipython3",
   "version": "3.7.6"
  },
  "toc": {
   "base_numbering": 1,
   "nav_menu": {},
   "number_sections": true,
   "sideBar": true,
   "skip_h1_title": false,
   "title_cell": "Table of Contents",
   "title_sidebar": "Contents",
   "toc_cell": false,
   "toc_position": {},
   "toc_section_display": true,
   "toc_window_display": false
  },
  "varInspector": {
   "cols": {
    "lenName": 16,
    "lenType": 16,
    "lenVar": 40
   },
   "kernels_config": {
    "python": {
     "delete_cmd_postfix": "",
     "delete_cmd_prefix": "del ",
     "library": "var_list.py",
     "varRefreshCmd": "print(var_dic_list())"
    },
    "r": {
     "delete_cmd_postfix": ") ",
     "delete_cmd_prefix": "rm(",
     "library": "var_list.r",
     "varRefreshCmd": "cat(var_dic_list()) "
    }
   },
   "types_to_exclude": [
    "module",
    "function",
    "builtin_function_or_method",
    "instance",
    "_Feature"
   ],
   "window_display": false
  }
 },
 "nbformat": 4,
 "nbformat_minor": 4
}
